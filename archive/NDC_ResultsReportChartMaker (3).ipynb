{
 "cells": [
  {
   "cell_type": "code",
   "execution_count": 84,
   "id": "118f80db",
   "metadata": {},
   "outputs": [],
   "source": [
    "import pandas as pd\n",
    "#import matplotlib.pyplot as plt\n",
    "#import seaborn as sns\n",
    "#import plotly.express as px\n",
    "\n",
    "import pandas as pd\n",
    "import plotly.graph_objects as go\n",
    "import os\n",
    "import kaleido\n",
    "import re"
   ]
  },
  {
   "cell_type": "code",
   "execution_count": 3,
   "id": "f7773237",
   "metadata": {},
   "outputs": [],
   "source": [
    "path_report = 'C:/Models/SATIMGE_veda/REPORT_00.csv'\n",
    "path_setsandmaps = 'C:/Models/SATIMGE_veda/setsandmaps/setsandmaps.xlsm'\n",
    "\n",
    "\n",
    "# --- Create output folder ---\n",
    "output_dir = \"C:/Models/NDC_Figures\"\n",
    "os.makedirs(output_dir, exist_ok=True)\n"
   ]
  },
  {
   "cell_type": "markdown",
   "id": "b7711f42",
   "metadata": {},
   "source": [
    "## Load dataset"
   ]
  },
  {
   "cell_type": "code",
   "execution_count": 4,
   "id": "9542f630",
   "metadata": {},
   "outputs": [],
   "source": [
    "# Read in the DataFrames\n",
    "report_df = pd.read_csv(path_report, low_memory=False)#\n",
    "mapPRC_df = pd.read_excel(path_setsandmaps, sheet_name=\"mapPRC\")\n",
    "mapCOM_df = pd.read_excel(path_setsandmaps, sheet_name=\"mapCOM\")\n"
   ]
  },
  {
   "cell_type": "markdown",
   "id": "c6d5cbb9",
   "metadata": {},
   "source": [
    "## Add setsandmaps"
   ]
  },
  {
   "cell_type": "code",
   "execution_count": 5,
   "id": "54761dcb",
   "metadata": {},
   "outputs": [
    {
     "data": {
      "text/html": [
       "<div>\n",
       "<style scoped>\n",
       "    .dataframe tbody tr th:only-of-type {\n",
       "        vertical-align: middle;\n",
       "    }\n",
       "\n",
       "    .dataframe tbody tr th {\n",
       "        vertical-align: top;\n",
       "    }\n",
       "\n",
       "    .dataframe thead th {\n",
       "        text-align: right;\n",
       "    }\n",
       "</style>\n",
       "<table border=\"1\" class=\"dataframe\">\n",
       "  <thead>\n",
       "    <tr style=\"text-align: right;\">\n",
       "      <th></th>\n",
       "      <th>Process</th>\n",
       "      <th>Commodity</th>\n",
       "      <th>Year</th>\n",
       "      <th>Scenario</th>\n",
       "      <th>Indicator</th>\n",
       "      <th>SATIMGE</th>\n",
       "      <th>Sector</th>\n",
       "      <th>Subsector</th>\n",
       "      <th>Subsubsector</th>\n",
       "      <th>TechDescription</th>\n",
       "      <th>IPCC_Category_L1</th>\n",
       "      <th>IPCC_Category_L2</th>\n",
       "      <th>IPCC_Category_L3</th>\n",
       "      <th>IPCC_Category_L4</th>\n",
       "      <th>Description</th>\n",
       "      <th>Short Description</th>\n",
       "      <th>Commodity_Name</th>\n",
       "    </tr>\n",
       "  </thead>\n",
       "  <tbody>\n",
       "    <tr>\n",
       "      <th>0</th>\n",
       "      <td>SATIMMarginals</td>\n",
       "      <td>CF4</td>\n",
       "      <td>2021</td>\n",
       "      <td>NDC_CPP4-08-RG</td>\n",
       "      <td>Marginals</td>\n",
       "      <td>-2999.004873</td>\n",
       "      <td>All</td>\n",
       "      <td>All</td>\n",
       "      <td>All</td>\n",
       "      <td>SATIMMarginals Annual</td>\n",
       "      <td>NaN</td>\n",
       "      <td>NaN</td>\n",
       "      <td>NaN</td>\n",
       "      <td>NaN</td>\n",
       "      <td>Industry Process emissions CF4</td>\n",
       "      <td>CF4</td>\n",
       "      <td>CF4</td>\n",
       "    </tr>\n",
       "    <tr>\n",
       "      <th>1</th>\n",
       "      <td>SATIMMarginals</td>\n",
       "      <td>CF4</td>\n",
       "      <td>2021</td>\n",
       "      <td>NDC_CPP4-085-RG</td>\n",
       "      <td>Marginals</td>\n",
       "      <td>-1819.246552</td>\n",
       "      <td>All</td>\n",
       "      <td>All</td>\n",
       "      <td>All</td>\n",
       "      <td>SATIMMarginals Annual</td>\n",
       "      <td>NaN</td>\n",
       "      <td>NaN</td>\n",
       "      <td>NaN</td>\n",
       "      <td>NaN</td>\n",
       "      <td>Industry Process emissions CF4</td>\n",
       "      <td>CF4</td>\n",
       "      <td>CF4</td>\n",
       "    </tr>\n",
       "    <tr>\n",
       "      <th>2</th>\n",
       "      <td>SATIMMarginals</td>\n",
       "      <td>CF4</td>\n",
       "      <td>2021</td>\n",
       "      <td>NDC_CPP4-09-RG</td>\n",
       "      <td>Marginals</td>\n",
       "      <td>-858.259367</td>\n",
       "      <td>All</td>\n",
       "      <td>All</td>\n",
       "      <td>All</td>\n",
       "      <td>SATIMMarginals Annual</td>\n",
       "      <td>NaN</td>\n",
       "      <td>NaN</td>\n",
       "      <td>NaN</td>\n",
       "      <td>NaN</td>\n",
       "      <td>Industry Process emissions CF4</td>\n",
       "      <td>CF4</td>\n",
       "      <td>CF4</td>\n",
       "    </tr>\n",
       "    <tr>\n",
       "      <th>3</th>\n",
       "      <td>SATIMMarginals</td>\n",
       "      <td>CF4</td>\n",
       "      <td>2021</td>\n",
       "      <td>NDC_CPP3-075-RG</td>\n",
       "      <td>Marginals</td>\n",
       "      <td>-4677.926676</td>\n",
       "      <td>All</td>\n",
       "      <td>All</td>\n",
       "      <td>All</td>\n",
       "      <td>SATIMMarginals Annual</td>\n",
       "      <td>NaN</td>\n",
       "      <td>NaN</td>\n",
       "      <td>NaN</td>\n",
       "      <td>NaN</td>\n",
       "      <td>Industry Process emissions CF4</td>\n",
       "      <td>CF4</td>\n",
       "      <td>CF4</td>\n",
       "    </tr>\n",
       "    <tr>\n",
       "      <th>4</th>\n",
       "      <td>SATIMMarginals</td>\n",
       "      <td>CF4</td>\n",
       "      <td>2021</td>\n",
       "      <td>NDC_CPP3-08-RG</td>\n",
       "      <td>Marginals</td>\n",
       "      <td>-3037.996489</td>\n",
       "      <td>All</td>\n",
       "      <td>All</td>\n",
       "      <td>All</td>\n",
       "      <td>SATIMMarginals Annual</td>\n",
       "      <td>NaN</td>\n",
       "      <td>NaN</td>\n",
       "      <td>NaN</td>\n",
       "      <td>NaN</td>\n",
       "      <td>Industry Process emissions CF4</td>\n",
       "      <td>CF4</td>\n",
       "      <td>CF4</td>\n",
       "    </tr>\n",
       "  </tbody>\n",
       "</table>\n",
       "</div>"
      ],
      "text/plain": [
       "          Process Commodity  Year         Scenario  Indicator      SATIMGE  \\\n",
       "0  SATIMMarginals       CF4  2021   NDC_CPP4-08-RG  Marginals -2999.004873   \n",
       "1  SATIMMarginals       CF4  2021  NDC_CPP4-085-RG  Marginals -1819.246552   \n",
       "2  SATIMMarginals       CF4  2021   NDC_CPP4-09-RG  Marginals  -858.259367   \n",
       "3  SATIMMarginals       CF4  2021  NDC_CPP3-075-RG  Marginals -4677.926676   \n",
       "4  SATIMMarginals       CF4  2021   NDC_CPP3-08-RG  Marginals -3037.996489   \n",
       "\n",
       "  Sector Subsector Subsubsector        TechDescription IPCC_Category_L1  \\\n",
       "0    All       All          All  SATIMMarginals Annual              NaN   \n",
       "1    All       All          All  SATIMMarginals Annual              NaN   \n",
       "2    All       All          All  SATIMMarginals Annual              NaN   \n",
       "3    All       All          All  SATIMMarginals Annual              NaN   \n",
       "4    All       All          All  SATIMMarginals Annual              NaN   \n",
       "\n",
       "  IPCC_Category_L2 IPCC_Category_L3 IPCC_Category_L4  \\\n",
       "0              NaN              NaN              NaN   \n",
       "1              NaN              NaN              NaN   \n",
       "2              NaN              NaN              NaN   \n",
       "3              NaN              NaN              NaN   \n",
       "4              NaN              NaN              NaN   \n",
       "\n",
       "                      Description Short Description Commodity_Name  \n",
       "0  Industry Process emissions CF4               CF4            CF4  \n",
       "1  Industry Process emissions CF4               CF4            CF4  \n",
       "2  Industry Process emissions CF4               CF4            CF4  \n",
       "3  Industry Process emissions CF4               CF4            CF4  \n",
       "4  Industry Process emissions CF4               CF4            CF4  "
      ]
     },
     "execution_count": 5,
     "metadata": {},
     "output_type": "execute_result"
    }
   ],
   "source": [
    "\n",
    "# Replace 'Eps' values with 0\n",
    "report_df['SATIMGE'] = report_df['SATIMGE'].replace('Eps', 0)\n",
    "report_df['SATIMGE'] = report_df['SATIMGE'].astype(float)\n",
    "\n",
    "# Merge the DataFrames\n",
    "merged_df = report_df.merge(mapPRC_df, on='Process', how='left')\n",
    "merged_df = merged_df.merge(mapCOM_df, on='Commodity', how='left')\n",
    "\n",
    "# Reset index\n",
    "merged_df.reset_index(drop=True, inplace=True)\n",
    "\n",
    "merged_df.head()"
   ]
  },
  {
   "cell_type": "markdown",
   "id": "fc1ef3a9",
   "metadata": {},
   "source": [
    "# ADD CO2eq to the data"
   ]
  },
  {
   "cell_type": "code",
   "execution_count": 6,
   "id": "827bcb03",
   "metadata": {},
   "outputs": [],
   "source": [
    "# GWP values (AR5 100-year)\n",
    "gwp_factors = {\n",
    "    'CO2': 1,\n",
    "    'CO2eq': 1,\n",
    "    'CH4': 28,\n",
    "    'N2O': 265,\n",
    "    'CF4': 6630,\n",
    "    'C2F6': 11100\n",
    "}\n",
    "\n",
    "# Ensure SATIMGE is numeric\n",
    "merged_df['SATIMGE'] = pd.to_numeric(merged_df['SATIMGE'], errors='coerce')\n",
    "\n",
    "# Apply GWP conversion\n",
    "merged_df['CO2eq'] = merged_df.apply(\n",
    "    lambda row: row['SATIMGE'] * gwp_factors.get(row['Indicator'], 0),\n",
    "    axis=1\n",
    ")\n",
    "\n"
   ]
  },
  {
   "cell_type": "markdown",
   "id": "c3bfc609",
   "metadata": {},
   "source": [
    "# Define other mappings"
   ]
  },
  {
   "cell_type": "code",
   "execution_count": 9,
   "id": "1a685bd6",
   "metadata": {},
   "outputs": [],
   "source": [
    "# Define ordered list of (substring, ScenarioFamily) mappings\n",
    "scenario_mapping = [\n",
    "    ('CPP4', 'CPP4 Variant'),  # must come before exact 'CPP4' to catch variants like CPP4EK\n",
    "    ('CPP4', 'CPP4'),          # exact match\n",
    "    ('CPP1', 'CPP1'),\n",
    "    ('CPP2', 'CPP2'),\n",
    "    ('CPP3', 'CPP3'),\n",
    "    ('HCARB', 'High Carbon'),\n",
    "    ('LCARB', 'Low Carbon'),\n",
    "    ('BASE', 'BASE')\n",
    "]\n"
   ]
  },
  {
   "cell_type": "code",
   "execution_count": 8,
   "id": "9b6a97e3",
   "metadata": {},
   "outputs": [],
   "source": [
    "# Function to assign ScenarioFamily based on rules\n",
    "def assign_scenario_family(scenario):\n",
    "    # First handle exact match for 'CPP4'\n",
    "    if scenario.strip() == 'CPP4':\n",
    "        return 'CPP4'\n",
    "    for key, value in scenario_mapping:\n",
    "        if key in scenario:\n",
    "            return value\n",
    "    return 'Other'"
   ]
  },
  {
   "cell_type": "code",
   "execution_count": 98,
   "id": "60ff5556",
   "metadata": {},
   "outputs": [],
   "source": [
    "# add mapping for economic growth rates\n",
    "\n",
    "def map_economic_growth(scenario):\n",
    "    if '-RG' in scenario:\n",
    "        return 'Reference'\n",
    "    elif '-LG' in scenario:\n",
    "        return 'Low'\n",
    "    elif '-HG' in scenario:\n",
    "        return 'High'\n",
    "    else:\n",
    "        return 'Unknown'\n",
    "\n",
    "\n",
    "# carbon budget mapping\n",
    "carbonbudget_map = {\n",
    "'075':7.5,\n",
    "'0775':7.75,    \n",
    "'08':8,\n",
    "'8':8,\n",
    "'0825':8.25,\n",
    "'085':8.5,\n",
    "'0875':8.75,\n",
    "'09':9,\n",
    "'0925':9.25,\n",
    "'095':9.5,\n",
    "'0975':9.75,\n",
    "'10':10,\n",
    "'1025':10.25,\n",
    "'105':10.5\n",
    "}\n"
   ]
  },
  {
   "cell_type": "markdown",
   "id": "6c6b82da",
   "metadata": {},
   "source": [
    "## Cut down dataset to just 2024 to 2035"
   ]
  },
  {
   "cell_type": "code",
   "execution_count": 100,
   "id": "5db8e223",
   "metadata": {},
   "outputs": [],
   "source": [
    "yr_start = 2024\n",
    "yr_stop = 2035\n",
    "\n",
    "df = merged_df[merged_df['Year'].isin(range(yr_start,yr_stop+1))]\n"
   ]
  },
  {
   "cell_type": "markdown",
   "id": "43968184",
   "metadata": {},
   "source": [
    "# Apply mappings"
   ]
  },
  {
   "cell_type": "code",
   "execution_count": null,
   "id": "5b024372",
   "metadata": {},
   "outputs": [
    {
     "name": "stderr",
     "output_type": "stream",
     "text": [
      "C:\\Users\\01425453\\AppData\\Local\\Temp\\ipykernel_47340\\3604327681.py:3: SettingWithCopyWarning:\n",
      "\n",
      "\n",
      "A value is trying to be set on a copy of a slice from a DataFrame.\n",
      "Try using .loc[row_indexer,col_indexer] = value instead\n",
      "\n",
      "See the caveats in the documentation: https://pandas.pydata.org/pandas-docs/stable/user_guide/indexing.html#returning-a-view-versus-a-copy\n",
      "\n",
      "C:\\Users\\01425453\\AppData\\Local\\Temp\\ipykernel_47340\\3604327681.py:4: SettingWithCopyWarning:\n",
      "\n",
      "\n",
      "A value is trying to be set on a copy of a slice from a DataFrame.\n",
      "Try using .loc[row_indexer,col_indexer] = value instead\n",
      "\n",
      "See the caveats in the documentation: https://pandas.pydata.org/pandas-docs/stable/user_guide/indexing.html#returning-a-view-versus-a-copy\n",
      "\n",
      "C:\\Users\\01425453\\AppData\\Local\\Temp\\ipykernel_47340\\3604327681.py:7: SettingWithCopyWarning:\n",
      "\n",
      "\n",
      "A value is trying to be set on a copy of a slice from a DataFrame.\n",
      "Try using .loc[row_indexer,col_indexer] = value instead\n",
      "\n",
      "See the caveats in the documentation: https://pandas.pydata.org/pandas-docs/stable/user_guide/indexing.html#returning-a-view-versus-a-copy\n",
      "\n",
      "C:\\Users\\01425453\\AppData\\Local\\Temp\\ipykernel_47340\\3604327681.py:10: SettingWithCopyWarning:\n",
      "\n",
      "\n",
      "A value is trying to be set on a copy of a slice from a DataFrame.\n",
      "Try using .loc[row_indexer,col_indexer] = value instead\n",
      "\n",
      "See the caveats in the documentation: https://pandas.pydata.org/pandas-docs/stable/user_guide/indexing.html#returning-a-view-versus-a-copy\n",
      "\n"
     ]
    },
    {
     "data": {
      "text/html": [
       "<div>\n",
       "<style scoped>\n",
       "    .dataframe tbody tr th:only-of-type {\n",
       "        vertical-align: middle;\n",
       "    }\n",
       "\n",
       "    .dataframe tbody tr th {\n",
       "        vertical-align: top;\n",
       "    }\n",
       "\n",
       "    .dataframe thead th {\n",
       "        text-align: right;\n",
       "    }\n",
       "</style>\n",
       "<table border=\"1\" class=\"dataframe\">\n",
       "  <thead>\n",
       "    <tr style=\"text-align: right;\">\n",
       "      <th></th>\n",
       "      <th>Process</th>\n",
       "      <th>Commodity</th>\n",
       "      <th>Year</th>\n",
       "      <th>Scenario</th>\n",
       "      <th>Indicator</th>\n",
       "      <th>SATIMGE</th>\n",
       "      <th>Sector</th>\n",
       "      <th>Subsector</th>\n",
       "      <th>Subsubsector</th>\n",
       "      <th>TechDescription</th>\n",
       "      <th>...</th>\n",
       "      <th>IPCC_Category_L3</th>\n",
       "      <th>IPCC_Category_L4</th>\n",
       "      <th>Description</th>\n",
       "      <th>Short Description</th>\n",
       "      <th>Commodity_Name</th>\n",
       "      <th>CO2eq</th>\n",
       "      <th>number_str</th>\n",
       "      <th>budget</th>\n",
       "      <th>ScenarioFamily</th>\n",
       "      <th>EconomicGrowth</th>\n",
       "    </tr>\n",
       "  </thead>\n",
       "  <tbody>\n",
       "    <tr>\n",
       "      <th>138</th>\n",
       "      <td>SATIMMarginals</td>\n",
       "      <td>CF4</td>\n",
       "      <td>2024</td>\n",
       "      <td>NDC_CPP4-08-RG</td>\n",
       "      <td>Marginals</td>\n",
       "      <td>-3798.909553</td>\n",
       "      <td>All</td>\n",
       "      <td>All</td>\n",
       "      <td>All</td>\n",
       "      <td>SATIMMarginals Annual</td>\n",
       "      <td>...</td>\n",
       "      <td>NaN</td>\n",
       "      <td>NaN</td>\n",
       "      <td>Industry Process emissions CF4</td>\n",
       "      <td>CF4</td>\n",
       "      <td>CF4</td>\n",
       "      <td>-0.0</td>\n",
       "      <td>08</td>\n",
       "      <td>8.0</td>\n",
       "      <td>CPP4 Variant</td>\n",
       "      <td>Reference</td>\n",
       "    </tr>\n",
       "    <tr>\n",
       "      <th>139</th>\n",
       "      <td>SATIMMarginals</td>\n",
       "      <td>CF4</td>\n",
       "      <td>2024</td>\n",
       "      <td>NDC_CPP4-085-RG</td>\n",
       "      <td>Marginals</td>\n",
       "      <td>-2304.482119</td>\n",
       "      <td>All</td>\n",
       "      <td>All</td>\n",
       "      <td>All</td>\n",
       "      <td>SATIMMarginals Annual</td>\n",
       "      <td>...</td>\n",
       "      <td>NaN</td>\n",
       "      <td>NaN</td>\n",
       "      <td>Industry Process emissions CF4</td>\n",
       "      <td>CF4</td>\n",
       "      <td>CF4</td>\n",
       "      <td>-0.0</td>\n",
       "      <td>085</td>\n",
       "      <td>8.5</td>\n",
       "      <td>CPP4 Variant</td>\n",
       "      <td>Reference</td>\n",
       "    </tr>\n",
       "    <tr>\n",
       "      <th>140</th>\n",
       "      <td>SATIMMarginals</td>\n",
       "      <td>CF4</td>\n",
       "      <td>2024</td>\n",
       "      <td>NDC_CPP4-09-RG</td>\n",
       "      <td>Marginals</td>\n",
       "      <td>-1087.177196</td>\n",
       "      <td>All</td>\n",
       "      <td>All</td>\n",
       "      <td>All</td>\n",
       "      <td>SATIMMarginals Annual</td>\n",
       "      <td>...</td>\n",
       "      <td>NaN</td>\n",
       "      <td>NaN</td>\n",
       "      <td>Industry Process emissions CF4</td>\n",
       "      <td>CF4</td>\n",
       "      <td>CF4</td>\n",
       "      <td>-0.0</td>\n",
       "      <td>09</td>\n",
       "      <td>9.0</td>\n",
       "      <td>CPP4 Variant</td>\n",
       "      <td>Reference</td>\n",
       "    </tr>\n",
       "    <tr>\n",
       "      <th>141</th>\n",
       "      <td>SATIMMarginals</td>\n",
       "      <td>CF4</td>\n",
       "      <td>2024</td>\n",
       "      <td>NDC_CPP3-075-RG</td>\n",
       "      <td>Marginals</td>\n",
       "      <td>-5925.639034</td>\n",
       "      <td>All</td>\n",
       "      <td>All</td>\n",
       "      <td>All</td>\n",
       "      <td>SATIMMarginals Annual</td>\n",
       "      <td>...</td>\n",
       "      <td>NaN</td>\n",
       "      <td>NaN</td>\n",
       "      <td>Industry Process emissions CF4</td>\n",
       "      <td>CF4</td>\n",
       "      <td>CF4</td>\n",
       "      <td>-0.0</td>\n",
       "      <td>075</td>\n",
       "      <td>7.5</td>\n",
       "      <td>CPP3</td>\n",
       "      <td>Reference</td>\n",
       "    </tr>\n",
       "    <tr>\n",
       "      <th>142</th>\n",
       "      <td>SATIMMarginals</td>\n",
       "      <td>CF4</td>\n",
       "      <td>2024</td>\n",
       "      <td>NDC_CPP3-08-RG</td>\n",
       "      <td>Marginals</td>\n",
       "      <td>-3848.301145</td>\n",
       "      <td>All</td>\n",
       "      <td>All</td>\n",
       "      <td>All</td>\n",
       "      <td>SATIMMarginals Annual</td>\n",
       "      <td>...</td>\n",
       "      <td>NaN</td>\n",
       "      <td>NaN</td>\n",
       "      <td>Industry Process emissions CF4</td>\n",
       "      <td>CF4</td>\n",
       "      <td>CF4</td>\n",
       "      <td>-0.0</td>\n",
       "      <td>08</td>\n",
       "      <td>8.0</td>\n",
       "      <td>CPP3</td>\n",
       "      <td>Reference</td>\n",
       "    </tr>\n",
       "  </tbody>\n",
       "</table>\n",
       "<p>5 rows × 22 columns</p>\n",
       "</div>"
      ],
      "text/plain": [
       "            Process Commodity  Year         Scenario  Indicator      SATIMGE  \\\n",
       "138  SATIMMarginals       CF4  2024   NDC_CPP4-08-RG  Marginals -3798.909553   \n",
       "139  SATIMMarginals       CF4  2024  NDC_CPP4-085-RG  Marginals -2304.482119   \n",
       "140  SATIMMarginals       CF4  2024   NDC_CPP4-09-RG  Marginals -1087.177196   \n",
       "141  SATIMMarginals       CF4  2024  NDC_CPP3-075-RG  Marginals -5925.639034   \n",
       "142  SATIMMarginals       CF4  2024   NDC_CPP3-08-RG  Marginals -3848.301145   \n",
       "\n",
       "    Sector Subsector Subsubsector        TechDescription  ...  \\\n",
       "138    All       All          All  SATIMMarginals Annual  ...   \n",
       "139    All       All          All  SATIMMarginals Annual  ...   \n",
       "140    All       All          All  SATIMMarginals Annual  ...   \n",
       "141    All       All          All  SATIMMarginals Annual  ...   \n",
       "142    All       All          All  SATIMMarginals Annual  ...   \n",
       "\n",
       "    IPCC_Category_L3 IPCC_Category_L4                     Description  \\\n",
       "138              NaN              NaN  Industry Process emissions CF4   \n",
       "139              NaN              NaN  Industry Process emissions CF4   \n",
       "140              NaN              NaN  Industry Process emissions CF4   \n",
       "141              NaN              NaN  Industry Process emissions CF4   \n",
       "142              NaN              NaN  Industry Process emissions CF4   \n",
       "\n",
       "    Short Description Commodity_Name CO2eq number_str  budget ScenarioFamily  \\\n",
       "138               CF4            CF4  -0.0         08     8.0   CPP4 Variant   \n",
       "139               CF4            CF4  -0.0        085     8.5   CPP4 Variant   \n",
       "140               CF4            CF4  -0.0         09     9.0   CPP4 Variant   \n",
       "141               CF4            CF4  -0.0        075     7.5           CPP3   \n",
       "142               CF4            CF4  -0.0         08     8.0           CPP3   \n",
       "\n",
       "    EconomicGrowth  \n",
       "138      Reference  \n",
       "139      Reference  \n",
       "140      Reference  \n",
       "141      Reference  \n",
       "142      Reference  \n",
       "\n",
       "[5 rows x 22 columns]"
      ]
     },
     "execution_count": 101,
     "metadata": {},
     "output_type": "execute_result"
    }
   ],
   "source": [
    "# apply mappings to the main dataset\n",
    "# carbon budgets\n",
    "df['number_str'] = df['Scenario'].str.extract(r'-(\\d+)-', expand=False)\n",
    "df['CarbonBudget'] = df['number_str'].map(carbonbudget_map).fillna(\"NoBudget\")\n",
    "df.drop(columns=['number_str'], inplace=True) #remove this column\n",
    "\n",
    "\n",
    "#scenraio family\n",
    "df['ScenarioFamily'] = df['Scenario'].apply(assign_scenario_family)\n",
    "\n",
    "# add economic growth rates\n",
    "df['EconomicGrowth'] = df['Scenario'].apply(map_economic_growth) \n",
    "\n",
    "#show\n",
    "df.head()"
   ]
  },
  {
   "cell_type": "code",
   "execution_count": 88,
   "id": "e569e712",
   "metadata": {},
   "outputs": [
    {
     "data": {
      "text/html": [
       "<div>\n",
       "<style scoped>\n",
       "    .dataframe tbody tr th:only-of-type {\n",
       "        vertical-align: middle;\n",
       "    }\n",
       "\n",
       "    .dataframe tbody tr th {\n",
       "        vertical-align: top;\n",
       "    }\n",
       "\n",
       "    .dataframe thead th {\n",
       "        text-align: right;\n",
       "    }\n",
       "</style>\n",
       "<table border=\"1\" class=\"dataframe\">\n",
       "  <thead>\n",
       "    <tr style=\"text-align: right;\">\n",
       "      <th></th>\n",
       "      <th>Process</th>\n",
       "      <th>Commodity</th>\n",
       "      <th>Year</th>\n",
       "      <th>Scenario</th>\n",
       "      <th>Indicator</th>\n",
       "      <th>SATIMGE</th>\n",
       "      <th>Sector</th>\n",
       "      <th>Subsector</th>\n",
       "      <th>Subsubsector</th>\n",
       "      <th>TechDescription</th>\n",
       "      <th>...</th>\n",
       "      <th>IPCC_Category_L2</th>\n",
       "      <th>IPCC_Category_L3</th>\n",
       "      <th>IPCC_Category_L4</th>\n",
       "      <th>Description</th>\n",
       "      <th>Short Description</th>\n",
       "      <th>Commodity_Name</th>\n",
       "      <th>CO2eq</th>\n",
       "      <th>ScenarioFamily</th>\n",
       "      <th>CarbonBudget</th>\n",
       "      <th>EconomicGrowth</th>\n",
       "    </tr>\n",
       "  </thead>\n",
       "  <tbody>\n",
       "    <tr>\n",
       "      <th>138</th>\n",
       "      <td>SATIMMarginals</td>\n",
       "      <td>CF4</td>\n",
       "      <td>2024</td>\n",
       "      <td>NDC_CPP4-08-RG</td>\n",
       "      <td>Marginals</td>\n",
       "      <td>-3798.909553</td>\n",
       "      <td>All</td>\n",
       "      <td>All</td>\n",
       "      <td>All</td>\n",
       "      <td>SATIMMarginals Annual</td>\n",
       "      <td>...</td>\n",
       "      <td>NaN</td>\n",
       "      <td>NaN</td>\n",
       "      <td>NaN</td>\n",
       "      <td>Industry Process emissions CF4</td>\n",
       "      <td>CF4</td>\n",
       "      <td>CF4</td>\n",
       "      <td>-0.0</td>\n",
       "      <td>CPP4 Variant</td>\n",
       "      <td>NaN</td>\n",
       "      <td>Reference</td>\n",
       "    </tr>\n",
       "    <tr>\n",
       "      <th>139</th>\n",
       "      <td>SATIMMarginals</td>\n",
       "      <td>CF4</td>\n",
       "      <td>2024</td>\n",
       "      <td>NDC_CPP4-085-RG</td>\n",
       "      <td>Marginals</td>\n",
       "      <td>-2304.482119</td>\n",
       "      <td>All</td>\n",
       "      <td>All</td>\n",
       "      <td>All</td>\n",
       "      <td>SATIMMarginals Annual</td>\n",
       "      <td>...</td>\n",
       "      <td>NaN</td>\n",
       "      <td>NaN</td>\n",
       "      <td>NaN</td>\n",
       "      <td>Industry Process emissions CF4</td>\n",
       "      <td>CF4</td>\n",
       "      <td>CF4</td>\n",
       "      <td>-0.0</td>\n",
       "      <td>CPP4 Variant</td>\n",
       "      <td>NaN</td>\n",
       "      <td>Reference</td>\n",
       "    </tr>\n",
       "    <tr>\n",
       "      <th>140</th>\n",
       "      <td>SATIMMarginals</td>\n",
       "      <td>CF4</td>\n",
       "      <td>2024</td>\n",
       "      <td>NDC_CPP4-09-RG</td>\n",
       "      <td>Marginals</td>\n",
       "      <td>-1087.177196</td>\n",
       "      <td>All</td>\n",
       "      <td>All</td>\n",
       "      <td>All</td>\n",
       "      <td>SATIMMarginals Annual</td>\n",
       "      <td>...</td>\n",
       "      <td>NaN</td>\n",
       "      <td>NaN</td>\n",
       "      <td>NaN</td>\n",
       "      <td>Industry Process emissions CF4</td>\n",
       "      <td>CF4</td>\n",
       "      <td>CF4</td>\n",
       "      <td>-0.0</td>\n",
       "      <td>CPP4 Variant</td>\n",
       "      <td>9.0</td>\n",
       "      <td>Reference</td>\n",
       "    </tr>\n",
       "    <tr>\n",
       "      <th>141</th>\n",
       "      <td>SATIMMarginals</td>\n",
       "      <td>CF4</td>\n",
       "      <td>2024</td>\n",
       "      <td>NDC_CPP3-075-RG</td>\n",
       "      <td>Marginals</td>\n",
       "      <td>-5925.639034</td>\n",
       "      <td>All</td>\n",
       "      <td>All</td>\n",
       "      <td>All</td>\n",
       "      <td>SATIMMarginals Annual</td>\n",
       "      <td>...</td>\n",
       "      <td>NaN</td>\n",
       "      <td>NaN</td>\n",
       "      <td>NaN</td>\n",
       "      <td>Industry Process emissions CF4</td>\n",
       "      <td>CF4</td>\n",
       "      <td>CF4</td>\n",
       "      <td>-0.0</td>\n",
       "      <td>CPP3</td>\n",
       "      <td>NaN</td>\n",
       "      <td>Reference</td>\n",
       "    </tr>\n",
       "    <tr>\n",
       "      <th>142</th>\n",
       "      <td>SATIMMarginals</td>\n",
       "      <td>CF4</td>\n",
       "      <td>2024</td>\n",
       "      <td>NDC_CPP3-08-RG</td>\n",
       "      <td>Marginals</td>\n",
       "      <td>-3848.301145</td>\n",
       "      <td>All</td>\n",
       "      <td>All</td>\n",
       "      <td>All</td>\n",
       "      <td>SATIMMarginals Annual</td>\n",
       "      <td>...</td>\n",
       "      <td>NaN</td>\n",
       "      <td>NaN</td>\n",
       "      <td>NaN</td>\n",
       "      <td>Industry Process emissions CF4</td>\n",
       "      <td>CF4</td>\n",
       "      <td>CF4</td>\n",
       "      <td>-0.0</td>\n",
       "      <td>CPP3</td>\n",
       "      <td>NaN</td>\n",
       "      <td>Reference</td>\n",
       "    </tr>\n",
       "  </tbody>\n",
       "</table>\n",
       "<p>5 rows × 21 columns</p>\n",
       "</div>"
      ],
      "text/plain": [
       "            Process Commodity  Year         Scenario  Indicator      SATIMGE  \\\n",
       "138  SATIMMarginals       CF4  2024   NDC_CPP4-08-RG  Marginals -3798.909553   \n",
       "139  SATIMMarginals       CF4  2024  NDC_CPP4-085-RG  Marginals -2304.482119   \n",
       "140  SATIMMarginals       CF4  2024   NDC_CPP4-09-RG  Marginals -1087.177196   \n",
       "141  SATIMMarginals       CF4  2024  NDC_CPP3-075-RG  Marginals -5925.639034   \n",
       "142  SATIMMarginals       CF4  2024   NDC_CPP3-08-RG  Marginals -3848.301145   \n",
       "\n",
       "    Sector Subsector Subsubsector        TechDescription  ...  \\\n",
       "138    All       All          All  SATIMMarginals Annual  ...   \n",
       "139    All       All          All  SATIMMarginals Annual  ...   \n",
       "140    All       All          All  SATIMMarginals Annual  ...   \n",
       "141    All       All          All  SATIMMarginals Annual  ...   \n",
       "142    All       All          All  SATIMMarginals Annual  ...   \n",
       "\n",
       "    IPCC_Category_L2 IPCC_Category_L3 IPCC_Category_L4  \\\n",
       "138              NaN              NaN              NaN   \n",
       "139              NaN              NaN              NaN   \n",
       "140              NaN              NaN              NaN   \n",
       "141              NaN              NaN              NaN   \n",
       "142              NaN              NaN              NaN   \n",
       "\n",
       "                        Description Short Description Commodity_Name CO2eq  \\\n",
       "138  Industry Process emissions CF4               CF4            CF4  -0.0   \n",
       "139  Industry Process emissions CF4               CF4            CF4  -0.0   \n",
       "140  Industry Process emissions CF4               CF4            CF4  -0.0   \n",
       "141  Industry Process emissions CF4               CF4            CF4  -0.0   \n",
       "142  Industry Process emissions CF4               CF4            CF4  -0.0   \n",
       "\n",
       "     ScenarioFamily CarbonBudget  EconomicGrowth  \n",
       "138    CPP4 Variant          NaN       Reference  \n",
       "139    CPP4 Variant          NaN       Reference  \n",
       "140    CPP4 Variant          9.0       Reference  \n",
       "141            CPP3          NaN       Reference  \n",
       "142            CPP3          NaN       Reference  \n",
       "\n",
       "[5 rows x 21 columns]"
      ]
     },
     "execution_count": 88,
     "metadata": {},
     "output_type": "execute_result"
    }
   ],
   "source": [
    "df.head()\n"
   ]
  },
  {
   "cell_type": "markdown",
   "id": "f2b02c69",
   "metadata": {},
   "source": [
    "# MAKE CHARTS"
   ]
  },
  {
   "cell_type": "markdown",
   "id": "3a8db442",
   "metadata": {},
   "source": [
    "### Define common layout"
   ]
  },
  {
   "cell_type": "code",
   "execution_count": 34,
   "id": "a3051e85",
   "metadata": {},
   "outputs": [],
   "source": [
    "# --- Common layout settings ---\n",
    "def apply_common_layout(fig, title):\n",
    "    fig.update_layout(\n",
    "        title=title,\n",
    "        template=\"simple_white\",\n",
    "        font=dict(family=\"Arial\", size=14),\n",
    "        margin=dict(l=60, r=30, t=60, b=60),\n",
    "        showlegend=False,\n",
    "        xaxis=dict(\n",
    "            tickmode='linear',\n",
    "            tick0=df['Year'].min(),\n",
    "            dtick=1,\n",
    "            range=[df['Year'].min(), df['Year'].max()]\n",
    "        )\n",
    "    )\n",
    "    return fig\n"
   ]
  },
  {
   "cell_type": "markdown",
   "id": "09529d58",
   "metadata": {},
   "source": [
    "## Figure 1: line chart of all scenarios"
   ]
  },
  {
   "cell_type": "code",
   "execution_count": 16,
   "id": "984a29d7",
   "metadata": {},
   "outputs": [],
   "source": [
    "import plotly.express as px"
   ]
  },
  {
   "cell_type": "code",
   "execution_count": 109,
   "id": "596cfdbb",
   "metadata": {},
   "outputs": [],
   "source": [
    "# --- Fig 1: Line chart of total emissions by scenario ---\n",
    "fig1_data = df.groupby(['ScenarioFamily', 'Scenario', 'Year'])['CO2eq'].sum().reset_index()\n",
    "#cnvert to Mt\n",
    "\n",
    "fig1_data['CO2eq'] = fig1_data['CO2eq']*0.001"
   ]
  },
  {
   "cell_type": "code",
   "execution_count": null,
   "id": "4622af05",
   "metadata": {},
   "outputs": [
    {
     "data": {
      "application/vnd.plotly.v1+json": {
       "config": {
        "plotlyServerURL": "https://plot.ly"
       },
       "data": [
        {
         "line": {
          "color": "gray",
          "width": 1.5
         },
         "mode": "lines",
         "showlegend": false,
         "type": "scatter",
         "x": {
          "bdata": "6AfpB+oH6wfsB+0H7gfvB/AH8QfyB/MH",
          "dtype": "i2"
         },
         "y": {
          "bdata": "UJJiLBZ7e0ApqGCNgkx6QDxYexn2dXlASaxlk49VeEA/js95EMJ2QG9HORMwkHVA9mvQ8+rrdEAI4p+iM1hzQIC7t7jXNXJAdkjExitdcEA7Nkn18YluQAy3Wt+96GxA",
          "dtype": "f8"
         }
        },
        {
         "line": {
          "color": "gray",
          "width": 1.5
         },
         "mode": "lines",
         "showlegend": false,
         "type": "scatter",
         "x": {
          "bdata": "6AfpB+oH6wfsB+0H7gfvB/AH8QfyB/MH",
          "dtype": "i2"
         },
         "y": {
          "bdata": "JdO1qcJje0AvrZbKxGF6QKXuTvL1ynlA5AcHYAvBeED7rm6VTu13QKo0Yu9QOHdAj4JR8S2WdkB7hA9awul1QPAmwGWLtXRA79MZtg+wc0BKAWxBhbVyQJQz+DUvOXJA",
          "dtype": "f8"
         }
        },
        {
         "line": {
          "color": "gray",
          "width": 1.5
         },
         "mode": "lines",
         "showlegend": false,
         "type": "scatter",
         "x": {
          "bdata": "6AfpB+oH6wfsB+0H7gfvB/AH8QfyB/MH",
          "dtype": "i2"
         },
         "y": {
          "bdata": "SB3ZB7iJe0ChGP9ymGR6QMPmf1QzonlAKzLHmCSNeECl2KYO7rB3QMmWmrwf8XZAjDzJh4oqdkCKIWo38kR0QGdAJTHXGnNAXges0lDgcUB7Bpq29RRxQAchojCcY3BA",
          "dtype": "f8"
         }
        },
        {
         "line": {
          "color": "gray",
          "width": 1.5
         },
         "mode": "lines",
         "showlegend": false,
         "type": "scatter",
         "x": {
          "bdata": "6AfpB+oH6wfsB+0H7gfvB/AH8QfyB/MH",
          "dtype": "i2"
         },
         "y": {
          "bdata": "Fixeor1je0CEQiJl+V96QEaginl54XlAyoMUTBcpeUBsKZbwJkR4QOFII3OcgHdAS9k8hb7odkCnx09G/TJ2QCq9eiq9BXVAbegc3lJIdEDcxtE+gMdzQFh2vurhYXNA",
          "dtype": "f8"
         }
        },
        {
         "line": {
          "color": "gray",
          "width": 1.5
         },
         "mode": "lines",
         "showlegend": false,
         "type": "scatter",
         "x": {
          "bdata": "6AfpB+oH6wfsB+0H7gfvB/AH8QfyB/MH",
          "dtype": "i2"
         },
         "y": {
          "bdata": "JjlQNKKLe0BcVUrLV2p6QJc5iIZUqnlA12LMBC7MeEDMdhbdQvR3QNKaPJmfQHdAF69Ou4CPdkA8oe5Vz9R1QOGhuwo9snRAOAMkRC3Wc0CLWhzojQBzQJNUDBeUZHJA",
          "dtype": "f8"
         }
        },
        {
         "line": {
          "color": "gray",
          "width": 1.5
         },
         "mode": "lines",
         "showlegend": false,
         "type": "scatter",
         "x": {
          "bdata": "6AfpB+oH6wfsB+0H7gfvB/AH8QfyB/MH",
          "dtype": "i2"
         },
         "y": {
          "bdata": "yy/HtjKMe0BQzAdeiWl6QEW3ZcQH2XlAEjkNP54neUAI4AHqaD94QHiH4fD+eHdAiEt0S+DJdkCxyTDnixp2QE9kjBSjAnVATYbjW4xDdEB+C76qY9RzQNUd5LhsU3NA",
          "dtype": "f8"
         }
        },
        {
         "line": {
          "color": "gray",
          "width": 1.5
         },
         "mode": "lines",
         "showlegend": false,
         "type": "scatter",
         "x": {
          "bdata": "6AfpB+oH6wfsB+0H7gfvB/AH8QfyB/MH",
          "dtype": "i2"
         },
         "y": {
          "bdata": "LNoDfoGLe0D2gThHlGt6QHFCIP1v/XlAiKN7YmZ4eUC7uKaqa8R4QFGs2BwwPnhAxxAcVeh6d0A79aRG0Lh2QDo8j9lul3VAIkH+3wvudECgDKTV0Il0QIE5zo6ULXRA",
          "dtype": "f8"
         }
        },
        {
         "line": {
          "color": "gray",
          "width": 1.5
         },
         "mode": "lines",
         "showlegend": false,
         "type": "scatter",
         "x": {
          "bdata": "6AfpB+oH6wfsB+0H7gfvB/AH8QfyB/MH",
          "dtype": "i2"
         },
         "y": {
          "bdata": "XaeGCDGLe0DP+GYDRW16QGDiXHnPAnpAHr8UUVWleUC2jv1XMBB5QPLLZ+iTtXhA25T+crMveEAPENmV9ah3QJJJshDY23ZAMVy8G+DzdUANj60AlLV1QJu++n4cdHVA",
          "dtype": "f8"
         }
        },
        {
         "line": {
          "color": "gray",
          "width": 1.5
         },
         "mode": "lines",
         "showlegend": false,
         "type": "scatter",
         "x": {
          "bdata": "6AfpB+oH6wfsB+0H7gfvB/AH8QfyB/MH",
          "dtype": "i2"
         },
         "y": {
          "bdata": "hk9sAROLe0Cr9Bq5/mx6QGy8DgxgCHpA1eDA37GteUAxnaUKgDt5QPjI5sA96nhAt/zZXt5peED4gQeOJe53QDP/wlMtL3dALbQ2QT1YdkBqmGgTgdd1QGMxI+SXlHVA",
          "dtype": "f8"
         }
        },
        {
         "line": {
          "color": "gray",
          "width": 1.5
         },
         "mode": "lines",
         "showlegend": false,
         "type": "scatter",
         "x": {
          "bdata": "6AfpB+oH6wfsB+0H7gfvB/AH8QfyB/MH",
          "dtype": "i2"
         },
         "y": {
          "bdata": "JORWPmNne0Bb/Oc1byx6QAYabnV9tnlAzmYzsx9VeUDKylWxQt94QGB7Pe1moXhAVGP+drJNeEBEC4grMNR3QEjq25WVFndAfsCzuhJpdkAo4lzhewh2QAxjgAlazXVA",
          "dtype": "f8"
         }
        },
        {
         "line": {
          "color": "gray",
          "width": 1.5
         },
         "mode": "lines",
         "showlegend": false,
         "type": "scatter",
         "x": {
          "bdata": "6AfpB+oH6wfsB+0H7gfvB/AH8QfyB/MH",
          "dtype": "i2"
         },
         "y": {
          "bdata": "gzVSTf6Ke0BIf3+202x6QJP/KAoiCHpApQcWgDa1eUBnRs4XbEp5QAk3PW7JHnlAbYJQAKm/eEBY2RZjm094QHMqjHNTnXdAApNDMwLqdkCY6abgTIB2QMtu5matQ3ZA",
          "dtype": "f8"
         }
        },
        {
         "line": {
          "color": "gray",
          "width": 1.5
         },
         "mode": "lines",
         "showlegend": false,
         "type": "scatter",
         "x": {
          "bdata": "6AfpB+oH6wfsB+0H7gfvB/AH8QfyB/MH",
          "dtype": "i2"
         },
         "y": {
          "bdata": "pGXifPGKe0B/icK3bVd6QG9V8iSPAnpAGcLFXWq3eUC8bcosgFN5QMY+esIkJnlAl+ztuHHMeEDa201CQGt4QGTvM3V2y3dAp/nStZcwd0A4M/Qla7N2QLDfUhc7dXZA",
          "dtype": "f8"
         }
        },
        {
         "line": {
          "color": "gray",
          "width": 1.5
         },
         "mode": "lines",
         "showlegend": false,
         "type": "scatter",
         "x": {
          "bdata": "6AfpB+oH6wfsB+0H7gfvB/AH8QfyB/MH",
          "dtype": "i2"
         },
         "y": {
          "bdata": "URtGOjKJe0B5f+KZAJZ6QNnb5I9KV3pAR3JoAYEPekButr/8fLZ5QCmO9wjdnXlA0VuXZzRBeUDPYt8WC+N4QOq0LsleQXhAeNEqKZCNd0CexTaHuhR3QCzKw3el7HZA",
          "dtype": "f8"
         }
        },
        {
         "line": {
          "color": "gray",
          "width": 1.5
         },
         "mode": "lines",
         "showlegend": false,
         "type": "scatter",
         "x": {
          "bdata": "6AfpB+oH6wfsB+0H7gfvB/AH8QfyB/MH",
          "dtype": "i2"
         },
         "y": {
          "bdata": "yH5wSqeOe0Brst7j4nJ6QCyBvBVq1XlAvYNmMwyXeEDTSj/+ckp4QCBtjknmrndAG/a6j0ihdkAKuLtLiwR2QLemCSQz23RAPJMD/7n+c0CY+7HM/19zQE5tkwwjxXJA",
          "dtype": "f8"
         }
        },
        {
         "line": {
          "color": "gray",
          "width": 1.5
         },
         "mode": "lines",
         "showlegend": false,
         "type": "scatter",
         "x": {
          "bdata": "6AfpB+oH6wfsB+0H7gfvB/AH8QfyB/MH",
          "dtype": "i2"
         },
         "y": {
          "bdata": "hzvWrKONe0DTKjBk3XN6QF9u96OWy3lAH2jMLcrxeECfonYMAIx4QIIXzyPsA3hAmfb6mA1Wd0DIj2m8+vt2QKQDKovAJnZAElsqg++XdUBEr9THHid1QM8v/iRxpnRA",
          "dtype": "f8"
         }
        },
        {
         "line": {
          "color": "gray",
          "width": 1.5
         },
         "mode": "lines",
         "showlegend": false,
         "type": "scatter",
         "x": {
          "bdata": "6AfpB+oH6wfsB+0H7gfvB/AH8QfyB/MH",
          "dtype": "i2"
         },
         "y": {
          "bdata": "Sx/xROWLe0Dg0XULMl56QNhTCpYdmnlA3eI1ckgYeUCDIfDb8EF4QIyTZmXBl3dAetP1UhqodkBBjR20xj92QH4WQaRuxXVATJLJVrQ0dUAS2UbSQN10QGVPRJMSn3RA",
          "dtype": "f8"
         }
        },
        {
         "line": {
          "color": "gray",
          "width": 1.5
         },
         "mode": "lines",
         "showlegend": false,
         "type": "scatter",
         "x": {
          "bdata": "6AfpB+oH6wfsB+0H7gfvB/AH8QfyB/MH",
          "dtype": "i2"
         },
         "y": {
          "bdata": "HO+2y8mNe0B1Yn5oMDR6QO+A3S4Go3lAf+VRjsUmeUD5JCyZoph4QKalcostMHhAwqvJr9fHd0Aq8Smd1jV3QPYS+FAjYXZARRFoRliXdUDYaYmLijJ1QP3JqF3c0nRA",
          "dtype": "f8"
         }
        },
        {
         "line": {
          "color": "gray",
          "width": 1.5
         },
         "mode": "lines",
         "showlegend": false,
         "type": "scatter",
         "x": {
          "bdata": "6AfpB+oH6wfsB+0H7gfvB/AH8QfyB/MH",
          "dtype": "i2"
         },
         "y": {
          "bdata": "A6gGaDZue0CXiCra0Wh6QHu0xYxL+XlATThreGeaeUCo6BBeIyF5QLgUctfa6XhAtysfijR4eECAom6wMDZ4QAR65CGRo3dA8RvaVrI2d0AURK86X/J2QIrweAZ3l3ZA",
          "dtype": "f8"
         }
        },
        {
         "line": {
          "color": "gray",
          "width": 1.5
         },
         "mode": "lines",
         "showlegend": false,
         "type": "scatter",
         "x": {
          "bdata": "6AfpB+oH6wfsB+0H7gfvB/AH8QfyB/MH",
          "dtype": "i2"
         },
         "y": {
          "bdata": "IlOCwsuNe0CeDySz63J6QGbCU0nzxHlA7l/3jQt4eUAO3RlxPBt5QFnvwo8l/HhAIY23p1WreECvMN5mg1Z4QC7/tbxOtXdAHQyAllYEd0Bm71xAQcV2QAX+YST3knZA",
          "dtype": "f8"
         }
        },
        {
         "line": {
          "color": "gray",
          "width": 1.5
         },
         "mode": "lines",
         "showlegend": false,
         "type": "scatter",
         "x": {
          "bdata": "6AfpB+oH6wfsB+0H7gfvB/AH8QfyB/MH",
          "dtype": "i2"
         },
         "y": {
          "bdata": "X+Gt5oyke0DWxHuoXIx6QJYTDSjq0nlAko1wWveReUD6xPtoek55QKEQVYPmP3lAgy3k6KXWeEDAfyy0IXl3QI9ozWgN83ZAbse2BlN/dkDe1Cgg2md2QKy+YPWJS3ZA",
          "dtype": "f8"
         }
        },
        {
         "line": {
          "color": "gray",
          "width": 1.5
         },
         "mode": "lines",
         "showlegend": false,
         "type": "scatter",
         "x": {
          "bdata": "6AfpB+oH6wfsB+0H7gfvB/AH8QfyB/MH",
          "dtype": "i2"
         },
         "y": {
          "bdata": "jAL/Oh+Ke0AZ5DrZ+Wp6QAONynG+B3pAPG/CLmixeUB98fXcqkZ5QM77S5P3GHlAEPUK0ty3eEBGWxICNkl4QDH7pBH3hndAJFGltnq8dkAmvo5NTVZ2QDAchq/2H3ZA",
          "dtype": "f8"
         }
        },
        {
         "line": {
          "color": "gray",
          "width": 1.5
         },
         "mode": "lines",
         "showlegend": false,
         "type": "scatter",
         "x": {
          "bdata": "6AfpB+oH6wfsB+0H7gfvB/AH8QfyB/MH",
          "dtype": "i2"
         },
         "y": {
          "bdata": "a2VSa+WKe0Bd5fh2vmx6QC06my6ICXpAt1FnW3y2eUCeiLz2Pkt5QB42T++fHXlANb4lG+y+eEB9vxL9+E54QLNpSIcWmndAC/+pi1zmdkAWgG3hL3x2QODhGAOBPnZA",
          "dtype": "f8"
         }
        },
        {
         "line": {
          "color": "gray",
          "width": 1.5
         },
         "mode": "lines",
         "showlegend": false,
         "type": "scatter",
         "x": {
          "bdata": "6AfpB+oH6wfsB+0H7gfvB/AH8QfyB/MH",
          "dtype": "i2"
         },
         "y": {
          "bdata": "OgYqoXtue0ATeeOaJml6QGvYvB1Z/HlAqBpt2wGkeUCJKGabqTt5QBlJ2oqTEXlAvtciXQ+zeED9HAF3DEV4QM6hARFFlHdAd0NKRfzhdkCltijHT3x2QBWGyj1wQXZA",
          "dtype": "f8"
         }
        },
        {
         "line": {
          "color": "gray",
          "width": 1.5
         },
         "mode": "lines",
         "showlegend": false,
         "type": "scatter",
         "x": {
          "bdata": "6AfpB+oH6wfsB+0H7gfvB/AH8QfyB/MH",
          "dtype": "i2"
         },
         "y": {
          "bdata": "jr8fXXaMe0AweyZffnB6QD1aQ4JMLXpAVvH3/CSOeUB6/nFXb9V4QF9qrUeLUHhALOteBPOPd0AxmMi5+td2QFQ6jcZ+2nVAqrOSTjURdUCp2/VDKm50QA31bjaw93NA",
          "dtype": "f8"
         }
        },
        {
         "line": {
          "color": "gray",
          "width": 1.5
         },
         "mode": "lines",
         "showlegend": false,
         "type": "scatter",
         "x": {
          "bdata": "6AfpB+oH6wfsB+0H7gfvB/AH8QfyB/MH",
          "dtype": "i2"
         },
         "y": {
          "bdata": "okyyswSLe0AcyndTqGx6QIHOqlzCF3pAuJ+umeDAeUBnPUMbxFJ5QKiXxwxIH3lAThV7JoCteED4NEzsjj54QAqaG7VVjHdAfgL7qVTMdkAKC+FYaXR2QMUiRHs/N3ZA",
          "dtype": "f8"
         }
        },
        {
         "line": {
          "color": "gray",
          "width": 1.5
         },
         "mode": "lines",
         "showlegend": false,
         "type": "scatter",
         "x": {
          "bdata": "6AfpB+oH6wfsB+0H7gfvB/AH8QfyB/MH",
          "dtype": "i2"
         },
         "y": {
          "bdata": "QfBzXX5oe0DsIJhwb196QE5tfopL03lAdg2Bx4KNeED3jxFHJWd4QF3WqyKeqXdAq4gsc6mjdkBLNKgEjwZ2QOLXlSJB83RAOApoLxUidEAuwUj/d35zQKUH5lU/63JA",
          "dtype": "f8"
         }
        },
        {
         "line": {
          "color": "gray",
          "width": 1.5
         },
         "mode": "lines",
         "showlegend": false,
         "type": "scatter",
         "x": {
          "bdata": "6AfpB+oH6wfsB+0H7gfvB/AH8QfyB/MH",
          "dtype": "i2"
         },
         "y": {
          "bdata": "w5vLRuNse0CQVcxHM/55QKYj2CaGR3lAEy16KlXNd0Cl9aKLCF53QKSy2rO0QnZASLFbd/EOdUDOYHLv+zR0QMlqajLN3XJAA3GD2M/RcUAvSN2cHNFwQEeCZPaq029A",
          "dtype": "f8"
         }
        },
        {
         "line": {
          "color": "gray",
          "width": 1.5
         },
         "mode": "lines",
         "showlegend": false,
         "type": "scatter",
         "x": {
          "bdata": "6AfpB+oH6wfsB+0H7gfvB/AH8QfyB/MH",
          "dtype": "i2"
         },
         "y": {
          "bdata": "E3753Bdqe0BHK2fYZzR6QD0JW/rfqHlAH4zTgctUeEDmT1mi3Bl4QP5s3+rjR3dA4vn3oFA3dkC6W01Co4t1QA/nTRy2anRAA28va5J4c0AJqnSRErpyQP/4RWsoE3JA",
          "dtype": "f8"
         }
        },
        {
         "line": {
          "color": "gray",
          "width": 1.5
         },
         "mode": "lines",
         "showlegend": false,
         "type": "scatter",
         "x": {
          "bdata": "6AfpB+oH6wfsB+0H7gfvB/AH8QfyB/MH",
          "dtype": "i2"
         },
         "y": {
          "bdata": "85ekp+Fne0DY9wz3o116QJkiFabQ2nlAURtyTR0AeUCjU+KmGMJ4QJnyw3XLHHhAsseaYTqBd0Dz3XMeUCp3QL+m1a9za3ZAsPVd8tPOdUAv1tzbLEx1QJNqiMDlyXRA",
          "dtype": "f8"
         }
        },
        {
         "line": {
          "color": "gray",
          "width": 1.5
         },
         "mode": "lines",
         "showlegend": false,
         "type": "scatter",
         "x": {
          "bdata": "6AfpB+oH6wfsB+0H7gfvB/AH8QfyB/MH",
          "dtype": "i2"
         },
         "y": {
          "bdata": "A0urZIdse0DrF/dXJfx5QGIKN1DuLnlAp1dEIh4beEAgFAKR35F3QLnloaCRj3ZAeHYFpL3AdUAeXANwyh51QAgVOJ1WCXRAmnELFd5Fc0CzGu0BIpdyQCPwKJeZ8XFA",
          "dtype": "f8"
         }
        },
        {
         "line": {
          "color": "gray",
          "width": 1.5
         },
         "mode": "lines",
         "showlegend": false,
         "type": "scatter",
         "x": {
          "bdata": "6AfpB+oH6wfsB+0H7gfvB/AH8QfyB/MH",
          "dtype": "i2"
         },
         "y": {
          "bdata": "IUB25cNpe0ArFJaUeDJ6QLT1YgsLjnlAhsCMloSieEAp9nyNP014QCDw5mGPjndA3v/s6GPldkB2e6Y283t2QLBGlmOKqXVA4ycnW10FdUAaAWep7oF0QCsvrLHK+XNA",
          "dtype": "f8"
         }
        },
        {
         "line": {
          "color": "gray",
          "width": 1.5
         },
         "mode": "lines",
         "showlegend": false,
         "type": "scatter",
         "x": {
          "bdata": "6AfpB+oH6wfsB+0H7gfvB/AH8QfyB/MH",
          "dtype": "i2"
         },
         "y": {
          "bdata": "cU2jnNE+e0DAKLP3cBx5QLs554XvJHhAQ+keke7edkAsgm2adJx1QAbCgdIaiHRAeohc4Vujc0C2/cZCi9hyQCT57n/mxXFAtMgfVOe2cEAwtDSKAEpuQB3OfVdiGWxA",
          "dtype": "f8"
         }
        },
        {
         "line": {
          "color": "gray",
          "width": 1.5
         },
         "mode": "lines",
         "showlegend": false,
         "type": "scatter",
         "x": {
          "bdata": "6AfpB+oH6wfsB+0H7gfvB/AH8QfyB/MH",
          "dtype": "i2"
         },
         "y": {
          "bdata": "WmJdhb1Me0C3dRACDTt5QH+/E245LXhADlb9BcHsdkC9YJGz+Ll1QF1M+QGZ2HRAgLNZruL+c0Dsy/0BvzpzQM7v6M0nMXJAExjZORYXcUB43xDNqxNwQB9vE2I7VW5A",
          "dtype": "f8"
         }
        },
        {
         "line": {
          "color": "gray",
          "width": 1.5
         },
         "mode": "lines",
         "showlegend": false,
         "type": "scatter",
         "x": {
          "bdata": "6AfpB+oH6wfsB+0H7gfvB/AH8QfyB/MH",
          "dtype": "i2"
         },
         "y": {
          "bdata": "G3Lrx9pMe0D2wd5iQUN5QJCSZsjjMnhAHbSfa4D4dkDmUBc2Ug52QMLxq2d/M3VAYueKkAZWdEBrtXqju39zQA8ORT71g3JAyE7Zxkp7cUB7BBAv94ZwQGQHXQr1Xm9A",
          "dtype": "f8"
         }
        },
        {
         "line": {
          "color": "gray",
          "width": 1.5
         },
         "mode": "lines",
         "showlegend": false,
         "type": "scatter",
         "x": {
          "bdata": "6AfpB+oH6wfsB+0H7gfvB/AH8QfyB/MH",
          "dtype": "i2"
         },
         "y": {
          "bdata": "7Hb2NkxXe0C4eOkmTBV6QACfS42hK3lAKrmcHVAgd0AGilNzrlZ2QJoLX5W6fHVAiPE727GddEB4snifIb5zQPtZUyiby3JAOfIhGA/XcUC71bhLavdwQDDnEpEWLnBA",
          "dtype": "f8"
         }
        },
        {
         "line": {
          "color": "gray",
          "width": 1.5
         },
         "mode": "lines",
         "showlegend": false,
         "type": "scatter",
         "x": {
          "bdata": "6AfpB+oH6wfsB+0H7gfvB/AH8QfyB/MH",
          "dtype": "i2"
         },
         "y": {
          "bdata": "O5UbVrZbe0Ah6X08NBh6QCL5xAmeOnlAXsl5y+pLeEB4vpk4TXh3QIAQ95kLpHZAaMhmHl7LdUAbHYzkIzB0QFPaCfAAGHNAoGkDfDMuckBkgzTZemBxQLgo7ixVn3BA",
          "dtype": "f8"
         }
        },
        {
         "line": {
          "color": "gray",
          "width": 1.5
         },
         "mode": "lines",
         "showlegend": false,
         "type": "scatter",
         "x": {
          "bdata": "6AfpB+oH6wfsB+0H7gfvB/AH8QfyB/MH",
          "dtype": "i2"
         },
         "y": {
          "bdata": "mc/nvWRfe0AFpiUzNSR6QBzyTOykVHlANp+koRCBeEC9c2ojY7R3QFBn248/4HZAdXb2ibURdkAW9Si8OxN1QMiftc7Q9XNAmVThTN1rckCFpTeHXKJxQKxGhw4T2HBA",
          "dtype": "f8"
         }
        },
        {
         "line": {
          "color": "gray",
          "width": 1.5
         },
         "mode": "lines",
         "showlegend": false,
         "type": "scatter",
         "x": {
          "bdata": "6AfpB+oH6wfsB+0H7gfvB/AH8QfyB/MH",
          "dtype": "i2"
         },
         "y": {
          "bdata": "OvwL0/tme0BDZDpCrC16QNrUgRLIunlAUzIxiWv4eED9x+TKTjB4QOgdT5FdVHdAlErqsRt8dkCBCqAdyIF1QH5I7cffRnRAPYKbAgJOc0DVmVKhwItyQCg7bmeY0HFA",
          "dtype": "f8"
         }
        },
        {
         "line": {
          "color": "gray",
          "width": 1.5
         },
         "mode": "lines",
         "showlegend": false,
         "type": "scatter",
         "x": {
          "bdata": "6AfpB+oH6wfsB+0H7gfvB/AH8QfyB/MH",
          "dtype": "i2"
         },
         "y": {
          "bdata": "Pa6Zthtoe0DavG9kvy96QBQQTDI7y3lAjZn4bGAOeUBtggV/uUx4QHDvugczdndAU52cQk6ddkCu/Z/uwbN1QKd4eR2haHRA/weXgI92c0C42yD7zLRyQNVKGC7AFHJA",
          "dtype": "f8"
         }
        },
        {
         "line": {
          "color": "gray",
          "width": 1.5
         },
         "mode": "lines",
         "showlegend": false,
         "type": "scatter",
         "x": {
          "bdata": "6AfpB+oH6wfsB+0H7gfvB/AH8QfyB/MH",
          "dtype": "i2"
         },
         "y": {
          "bdata": "4POuuiZoe0Bwh9fhdy96QJqQtxrq03lAdCxgDRQaeUAAj3IvSHV4QDkhWkQ2o3dAkgR4hNPpdkAO/KhC+hl2QNH8nbRl+3RAmIYHxWcidEBbicCAM19zQCHTfuos1HJA",
          "dtype": "f8"
         }
        },
        {
         "line": {
          "color": "gray",
          "width": 1.5
         },
         "mode": "lines",
         "showlegend": false,
         "type": "scatter",
         "x": {
          "bdata": "6AfpB+oH6wfsB+0H7gfvB/AH8QfyB/MH",
          "dtype": "i2"
         },
         "y": {
          "bdata": "Xcd2DE1me0CZCFaRb1d6QG1GEU89M3pA/PcJcT+OeUA+MD5RFgl5QKkIwdzNdXhA74h6dZvLd0BE+iz2YRR3QHn1cPG//nVAykTLb0E1dUDIg7jUJIp0QD9tvrUbI3RA",
          "dtype": "f8"
         }
        },
        {
         "line": {
          "color": "gray",
          "width": 1.5
         },
         "mode": "lines",
         "showlegend": false,
         "type": "scatter",
         "x": {
          "bdata": "6AfpB+oH6wfsB+0H7gfvB/AH8QfyB/MH",
          "dtype": "i2"
         },
         "y": {
          "bdata": "RhmNTR9re0AE5Rl0JPl5QL8InYm7kXlA3oT9rfCseEA3peZQOd13QCSAShUk5XZA3BwPOtIZdkD3t0r+dyd1QImAingg3nNAJQyAsuHcckCDPaQOrPFxQHkLT6KaN3FA",
          "dtype": "f8"
         }
        },
        {
         "line": {
          "color": "gray",
          "width": 1.5
         },
         "mode": "lines",
         "showlegend": false,
         "type": "scatter",
         "x": {
          "bdata": "6AfpB+oH6wfsB+0H7gfvB/AH8QfyB/MH",
          "dtype": "i2"
         },
         "y": {
          "bdata": "rlaTyExoe0Bj6pghZi96QEH1N/pO6HlA1ENhk0MyeUDMncAF6pV4QDQS4pnp43dAzQaBFCsyd0CLn/vkH2l2QHdRWP5GSnVAjeOgEfxrdEA5aa1n1bVzQNeMlu27MXNA",
          "dtype": "f8"
         }
        },
        {
         "line": {
          "color": "gray",
          "width": 1.5
         },
         "mode": "lines",
         "showlegend": false,
         "type": "scatter",
         "x": {
          "bdata": "6AfpB+oH6wfsB+0H7gfvB/AH8QfyB/MH",
          "dtype": "i2"
         },
         "y": {
          "bdata": "/BdOd2hMe0BX4RUuUzp5QDb+/oMlKHhAFBSJpFHodkDOU5U/9oV1QN/Lj0QWeHRAyZVQZjPJc0B6WebVtSZzQEJdL0P5H3JAYcRJiGMScUAF5n00jDRwQIBib8qEZW5A",
          "dtype": "f8"
         }
        },
        {
         "line": {
          "color": "gray",
          "width": 1.5
         },
         "mode": "lines",
         "showlegend": false,
         "type": "scatter",
         "x": {
          "bdata": "6AfpB+oH6wfsB+0H7gfvB/AH8QfyB/MH",
          "dtype": "i2"
         },
         "y": {
          "bdata": "XVlgxWQ7e0AIzL+lxAJ6QLcAiY6iTnlALhYHzw0WeEB1aHzYWcx2QLkdezcY+HVAwX/6qs2ddED22yvAj+5zQF//ckX76HJAYn05BJ0NckALU7iWZVpxQD3QMFIjonBA",
          "dtype": "f8"
         }
        },
        {
         "line": {
          "color": "gray",
          "width": 1.5
         },
         "mode": "lines",
         "showlegend": false,
         "type": "scatter",
         "x": {
          "bdata": "6AfpB+oH6wfsB+0H7gfvB/AH8QfyB/MH",
          "dtype": "i2"
         },
         "y": {
          "bdata": "ew7QA6FMe0BLqp5ZuDt5QMqHS+jMLnhAZqnLsoH4dkD2LOccbp11QMOTZYSpvHRArpopuc0RdEDjX2VctmpzQDivb0UidXJAFYdhK7hzcUCmvmz6a6VwQAkLRggCkG9A",
          "dtype": "f8"
         }
        },
        {
         "line": {
          "color": "gray",
          "width": 1.5
         },
         "mode": "lines",
         "showlegend": false,
         "type": "scatter",
         "x": {
          "bdata": "6AfpB+oH6wfsB+0H7gfvB/AH8QfyB/MH",
          "dtype": "i2"
         },
         "y": {
          "bdata": "a9e6ulEwe0CzeURaDVJ5QE5rCk4WbnhAePz1Aio7d0DMEek9eOp1QB/npmQH4HRAc9bi/UM8dEC+zJ+l+5ZzQEifg47tnXJAZdrmQXShcUAfslBGGM9wQN3HRaXHuG9A",
          "dtype": "f8"
         }
        },
        {
         "line": {
          "color": "gray",
          "width": 1.5
         },
         "mode": "lines",
         "showlegend": false,
         "type": "scatter",
         "x": {
          "bdata": "6AfpB+oH6wfsB+0H7gfvB/AH8QfyB/MH",
          "dtype": "i2"
         },
         "y": {
          "bdata": "ek/59zRLe0CaTMbbgqt5QOmqVGyhNXhAHIK+XyL8dkBk7OAyvaF1QAIH6UOTwnRAUEBmw6cTdED540TsRGtzQGKS4lDCc3JAl9JhkWF3cUA2sJxPG6NwQOerBA6jdm9A",
          "dtype": "f8"
         }
        },
        {
         "line": {
          "color": "gray",
          "width": 1.5
         },
         "mode": "lines",
         "showlegend": false,
         "type": "scatter",
         "x": {
          "bdata": "6AfpB+oH6wfsB+0H7gfvB/AH8QfyB/MH",
          "dtype": "i2"
         },
         "y": {
          "bdata": "BGTcnGI8e0DA4fZJ4Sp6QJMoNgjvanlA8mCwxHA9eEDLNWf8TjB2QKwj/GvGV3VA4ryIx3q3dEB6oYTi8Rx0QJ7KSJAMNXNAWW2je7lXckBHh1gPGqBxQIYBNHXF13BA",
          "dtype": "f8"
         }
        },
        {
         "line": {
          "color": "gray",
          "width": 1.5
         },
         "mode": "lines",
         "showlegend": false,
         "type": "scatter",
         "x": {
          "bdata": "6AfpB+oH6wfsB+0H7gfvB/AH8QfyB/MH",
          "dtype": "i2"
         },
         "y": {
          "bdata": "u1RlE8tbe0A1LVPIgxl6QFCj6+fEN3lAnGbOH38PeEBYmWevyNN2QCkuUhZHC3ZAAsga4vdwdUB0/vWwTnF0QJmQmnQiE3NA+gbAO7YmckA94dyZLHRxQKnLYclEonBA",
          "dtype": "f8"
         }
        },
        {
         "line": {
          "color": "gray",
          "width": 1.5
         },
         "mode": "lines",
         "showlegend": false,
         "type": "scatter",
         "x": {
          "bdata": "6AfpB+oH6wfsB+0H7gfvB/AH8QfyB/MH",
          "dtype": "i2"
         },
         "y": {
          "bdata": "CMdyhR9me0CC8FvaoS96QNr8rn7wYXlApwhBuVRXeEA9FGqmT3l3QAAgRqX6t3ZAiWsnq3UEdkB9loDGekx1QLw17ojpPXRAvz2IXDtac0CK0SDu6cdyQPOP+veRIHJA",
          "dtype": "f8"
         }
        },
        {
         "line": {
          "color": "gray",
          "width": 1.5
         },
         "mode": "lines",
         "showlegend": false,
         "type": "scatter",
         "x": {
          "bdata": "6AfpB+oH6wfsB+0H7gfvB/AH8QfyB/MH",
          "dtype": "i2"
         },
         "y": {
          "bdata": "2y4G/9RZe0C1/CnlIU16QE6LxOKmonlAdiTpLKaeeECms0y4mdF3QLQ9DbG9IndAsChQgLd6dkCxxxUPl8Z1QDZCKIcfsnRALabivhbWc0BwQuszSR1zQM5fMhJui3JA",
          "dtype": "f8"
         }
        },
        {
         "line": {
          "color": "gray",
          "width": 1.5
         },
         "mode": "lines",
         "showlegend": false,
         "type": "scatter",
         "x": {
          "bdata": "6AfpB+oH6wfsB+0H7gfvB/AH8QfyB/MH",
          "dtype": "i2"
         },
         "y": {
          "bdata": "6sQaJOxme0CS7egU2C96QNpb2bV9ZXlAQlLv0JGTeEDB3aM4bJh3QKjylXv/vHZAK82BPmMVdkCtkOgTz191QFcc95RuSHRAPLbOKqB4c0Caqkw+XuJyQHbaLjleP3JA",
          "dtype": "f8"
         }
        },
        {
         "line": {
          "color": "gray",
          "width": 1.5
         },
         "mode": "lines",
         "showlegend": false,
         "type": "scatter",
         "x": {
          "bdata": "6AfpB+oH6wfsB+0H7gfvB/AH8QfyB/MH",
          "dtype": "i2"
         },
         "y": {
          "bdata": "F4fYg9dce0BJ5kdzsk56QOvQYQYeznlAMIDrU8gLeUCfF3euJBh4QB5Nbe1lSXdAKT6/6NCrdkAKDh30dPZ1QPL+P4+z3XRAJiqB0nwkdEBrKTTiFaBzQIWAvugnHXNA",
          "dtype": "f8"
         }
        },
        {
         "line": {
          "color": "gray",
          "width": 1.5
         },
         "mode": "lines",
         "showlegend": false,
         "type": "scatter",
         "x": {
          "bdata": "6AfpB+oH6wfsB+0H7gfvB/AH8QfyB/MH",
          "dtype": "i2"
         },
         "y": {
          "bdata": "IY59+lBee0D5SbtBJE56QCmB2y0+KXpASo36MvOKeUDeZgzCW854QFmO/b/AOnhALEv4RCRzd0ArbNU2iLd2QNdE5n6ElXVAButMkhDVdEAVCLTdFVF0QLM1FNM6D3RA",
          "dtype": "f8"
         }
        },
        {
         "line": {
          "color": "gray",
          "width": 1.5
         },
         "mode": "lines",
         "showlegend": false,
         "type": "scatter",
         "x": {
          "bdata": "6AfpB+oH6wfsB+0H7gfvB/AH8QfyB/MH",
          "dtype": "i2"
         },
         "y": {
          "bdata": "fYeS07Zne0ABv2cOKS96QCOD3WuNmXlARyqzxdnYeEDKBMmAKeh3QAyX7zJBIXdAKpUV1dNKdkAGqA7ekY91QNuec/O6c3RAzjtuMZm8c0DtWlubHDlzQHIiKxS2rHJA",
          "dtype": "f8"
         }
        },
        {
         "line": {
          "color": "gray",
          "width": 1.5
         },
         "mode": "lines",
         "showlegend": false,
         "type": "scatter",
         "x": {
          "bdata": "6AfpB+oH6wfsB+0H7gfvB/AH8QfyB/MH",
          "dtype": "i2"
         },
         "y": {
          "bdata": "6TrbjINne0AJdkAdxS16QFwlMXV7unlAE9hhPIkWeUA1rL/OIEZ4QH+6TkiZm3dAdhblszXOdkD/8mXIAht2QCkEBDygG3VAHqtZi38xdED1hdJX5sFzQJ5gmQ5QWHNA",
          "dtype": "f8"
         }
        },
        {
         "line": {
          "color": "gray",
          "width": 1.5
         },
         "mode": "lines",
         "showlegend": false,
         "type": "scatter",
         "x": {
          "bdata": "6AfpB+oH6wfsB+0H7gfvB/AH8QfyB/MH",
          "dtype": "i2"
         },
         "y": {
          "bdata": "ICvCLXdne0ChzFuvPi16QOZoPlxPwHlAzteD6gk4eUA1XxpPuYR4QHF6IIgJ+ndA02KfCwhQd0AKkmGrWIJ2QGJBOfmHY3VAEQuPIzi3dEB40A1U81l0QI8z1nwl+HNA",
          "dtype": "f8"
         }
        },
        {
         "line": {
          "color": "gray",
          "width": 1.5
         },
         "mode": "lines",
         "showlegend": false,
         "type": "scatter",
         "x": {
          "bdata": "6AfpB+oH6wfsB+0H7gfvB/AH8QfyB/MH",
          "dtype": "i2"
         },
         "y": {
          "bdata": "KVsiOl9ne0CvFV/Ztix6QG85LQnqwXlAJN954/dHeUB7VfvKMKV4QJPJ9bVDK3hAWic1cZqYd0BYnTgPJN52QPdzovLNvnVAopzZQRQOdUDVmcIG4bB0QG5xF/71XXRA",
          "dtype": "f8"
         }
        },
        {
         "line": {
          "color": "gray",
          "width": 1.5
         },
         "mode": "lines",
         "showlegend": false,
         "type": "scatter",
         "x": {
          "bdata": "6AfpB+oH6wfsB+0H7gfvB/AH8QfyB/MH",
          "dtype": "i2"
         },
         "y": {
          "bdata": "Jg3ZDCdne0Ck9wUgPSx6QDvFKrcGvXlA/NU3Xw1NeUCfEpfANr94QGYsUnH5UHhAktLXhKjLd0BuEoxDQh53QPzCS8wHNnZAPfiaJLhndUAjGvRjHhl1QEHBKqWfz3RA",
          "dtype": "f8"
         }
        },
        {
         "line": {
          "color": "gray",
          "width": 1.5
         },
         "mode": "lines",
         "showlegend": false,
         "type": "scatter",
         "x": {
          "bdata": "6AfpB+oH6wfsB+0H7gfvB/AH8QfyB/MH",
          "dtype": "i2"
         },
         "y": {
          "bdata": "aN3xZ8k7e0B+r1FLnwN6QFR0jCRoTHlAJcdMi6QReEBXW7zAw8V2QLChVO/+GnVAwbTQr3t9dEDRyVa5XtNzQCFn+j21z3JAKkbDZEbxcUCIf9QBpzlxQPuFxXUve3BA",
          "dtype": "f8"
         }
        },
        {
         "line": {
          "color": "gray",
          "width": 1.5
         },
         "mode": "lines",
         "showlegend": false,
         "type": "scatter",
         "x": {
          "bdata": "6AfpB+oH6wfsB+0H7gfvB/AH8QfyB/MH",
          "dtype": "i2"
         },
         "y": {
          "bdata": "tVpIWCdle0CJKItpAlR6QG5zv8ALEHpAaBWTpfKseUDIqZKEFkV5QOfmx02a9XhAwqFJpZOReECgIeUZ5RJ4QNGmVfBXMXdA6y8svspTdkDSRa54EQJ2QKa6Up2AynVA",
          "dtype": "f8"
         }
        },
        {
         "line": {
          "color": "gray",
          "width": 1.5
         },
         "mode": "lines",
         "showlegend": false,
         "type": "scatter",
         "x": {
          "bdata": "6AfpB+oH6wfsB+0H7gfvB/AH8QfyB/MH",
          "dtype": "i2"
         },
         "y": {
          "bdata": "mJNa8g5qe0D7cVTXv/V5QPFEGC+OXXlAR1UqmTzPeEBACjExCzR4QNma10zjr3dACM69NGc7d0Bee7gNFZN2QHg5qnX7kXVAlHcFzJavdEApmoGJKkR0QCXl+VBB4nNA",
          "dtype": "f8"
         }
        },
        {
         "line": {
          "color": "gray",
          "width": 1.5
         },
         "mode": "lines",
         "showlegend": false,
         "type": "scatter",
         "x": {
          "bdata": "6AfpB+oH6wfsB+0H7gfvB/AH8QfyB/MH",
          "dtype": "i2"
         },
         "y": {
          "bdata": "ga8F6whne0B6A5h78yt6QJUkHgk7vXlAyJrCjDZTeUAQWLoWkd54QF+s7/SCiHhA+t11EDMoeEAYvH8qXZ53QPAPT0SbwXZADJF/Zu/tdUAlA7jbXnp1QNHa7SpLNHVA",
          "dtype": "f8"
         }
        },
        {
         "line": {
          "color": "gray",
          "width": 1.5
         },
         "mode": "lines",
         "showlegend": false,
         "type": "scatter",
         "x": {
          "bdata": "6AfpB+oH6wfsB+0H7gfvB/AH8QfyB/MH",
          "dtype": "i2"
         },
         "y": {
          "bdata": "bACm/QBoe0BLGE/qXlJ6QIEHY9rXH3pAzR6Uk+u5eUCb0q+q1Vh5QCVmDm2m+HhAwUxxGm2aeEAiPRWGEyt4QOPF7kUBVXdA2Mo3qv2XdkAtSFL9+AB1QNfyIis1dnRA",
          "dtype": "f8"
         }
        },
        {
         "line": {
          "color": "gray",
          "width": 1.5
         },
         "mode": "lines",
         "showlegend": false,
         "type": "scatter",
         "x": {
          "bdata": "6AfpB+oH6wfsB+0H7gfvB/AH8QfyB/MH",
          "dtype": "i2"
         },
         "y": {
          "bdata": "4/pRjn9ke0B5db8MSih6QIO36cXT0XlAACmpQ6tfeUA0SwX7D/J4QGBjEc2AfnhAJAkbQu0ceEBy/Cuo16N3QMqXf7xDx3ZAssH5s7IGdkBk/EHOW2V0QHcMK2DXy3NA",
          "dtype": "f8"
         }
        },
        {
         "line": {
          "color": "gray",
          "width": 1.5
         },
         "mode": "lines",
         "showlegend": false,
         "type": "scatter",
         "x": {
          "bdata": "6AfpB+oH6wfsB+0H7gfvB/AH8QfyB/MH",
          "dtype": "i2"
         },
         "y": {
          "bdata": "8nrmXc1ne0DVeH72xUF6QKAXPmp9GHpAosekkJG/eUBBIUNmk2Z5QObc3y97I3lAsPdCMrXceEBV399ypX94QBFYyI5CwXdAyiPalPIed0AjgnCCCm51QElY1wPPz3RA",
          "dtype": "f8"
         }
        },
        {
         "line": {
          "color": "gray",
          "width": 1.5
         },
         "mode": "lines",
         "showlegend": false,
         "type": "scatter",
         "x": {
          "bdata": "6AfpB+oH6wfsB+0H7gfvB/AH8QfyB/MH",
          "dtype": "i2"
         },
         "y": {
          "bdata": "4LP7zk1ke0Dth6rPmhh6QIyrca1+0nlADp3aWj5qeUAN3Efn2gF5QHi7nuoQp3hA5KpjIs1WeEBOvr1hZ+x3QMTM43f1JXdAztDELpR2dkBhSEoSlL50QFT4v2UfG3RA",
          "dtype": "f8"
         }
        },
        {
         "line": {
          "color": "gray",
          "width": 1.5
         },
         "mode": "lines",
         "showlegend": false,
         "type": "scatter",
         "x": {
          "bdata": "6AfpB+oH6wfsB+0H7gfvB/AH8QfyB/MH",
          "dtype": "i2"
         },
         "y": {
          "bdata": "FQITfjZYe0CUPioC+CV6QI58pB5SMnlADfO6mEMceED7BxUkCjJ3QEJ7iMvlXnZA9vPQxLFUdkB6AkyxLDJ2QNeOZ5LNiHVA6jNaSq3ndEACcaYMWk90QDAVVBYFR3RA",
          "dtype": "f8"
         }
        },
        {
         "line": {
          "color": "gray",
          "width": 1.5
         },
         "mode": "lines",
         "showlegend": false,
         "type": "scatter",
         "x": {
          "bdata": "6AfpB+oH6wfsB+0H7gfvB/AH8QfyB/MH",
          "dtype": "i2"
         },
         "y": {
          "bdata": "MgmCsqlje0DP9SN3GCh6QFATQPhUkHlAbKc8lHDxeECdJ6JC2k94QAZBAPwftndAWipkqhvhd0AulFwxZPt3QK5OTxcVundASBchEOdqd0AJgSbX5Dp3QFjEdQOZL3dA",
          "dtype": "f8"
         }
        },
        {
         "line": {
          "color": "gray",
          "width": 1.5
         },
         "mode": "lines",
         "showlegend": false,
         "type": "scatter",
         "x": {
          "bdata": "6AfpB+oH6wfsB+0H7gfvB/AH8QfyB/MH",
          "dtype": "i2"
         },
         "y": {
          "bdata": "z+EvD5A+e0DXdPGZcht5QNNwKrQ+JXhAKIbOEevfdkDjmrbuSHR1QAJevcugPXRAF1nmnMF8c0CKkRRCU9RyQEUqM5AWvHFAJWH/7dGjcEDIjazGlnduQLPMI1qIZmxA",
          "dtype": "f8"
         }
        },
        {
         "line": {
          "color": "gray",
          "width": 1.5
         },
         "mode": "lines",
         "showlegend": false,
         "type": "scatter",
         "x": {
          "bdata": "6AfpB+oH6wfsB+0H7gfvB/AH8QfyB/MH",
          "dtype": "i2"
         },
         "y": {
          "bdata": "xlnPQDVLe0AFkSpEg6t5QGORrkiiNXhAoWsggSL8dkBa8hTMvaF1QEDsEGeQwnRAC6LuL6MTdECiP6MyRWtzQKAHC9XCc3JAUKmNBlx3cUCJVE3eFKNwQLoCln+ddm9A",
          "dtype": "f8"
         }
        },
        {
         "line": {
          "color": "gray",
          "width": 1.5
         },
         "mode": "lines",
         "showlegend": false,
         "type": "scatter",
         "x": {
          "bdata": "6AfpB+oH6wfsB+0H7gfvB/AH8QfyB/MH",
          "dtype": "i2"
         },
         "y": {
          "bdata": "vtlDW8tbe0BUDtswhBl6QLFZunj3N3lAWKWAWbkPeEDJyVmt7tJ2QLlJuVFmCnZAsjd67kFwdUCN1lAHiG10QIHlNDMPE3NAUfZlMIomckAShKYpUnRxQPWMEgqMonBA",
          "dtype": "f8"
         }
        },
        {
         "line": {
          "color": "gray",
          "width": 1.5
         },
         "mode": "lines",
         "showlegend": false,
         "type": "scatter",
         "x": {
          "bdata": "6AfpB+oH6wfsB+0H7gfvB/AH8QfyB/MH",
          "dtype": "i2"
         },
         "y": {
          "bdata": "c0vtYuxme0DuHQh82C96QNGjQJB7ZXlAtGkSCoyTeEBu9DHUYph3QALXFRr0vHZAT4/uBlcVdkB4dYvDyV91QCBNy39eSHRAmViPvIt4c0AQ57xQSOJyQNsDPUILP3JA",
          "dtype": "f8"
         }
        },
        {
         "line": {
          "color": "gray",
          "width": 1.5
         },
         "mode": "lines",
         "showlegend": false,
         "type": "scatter",
         "x": {
          "bdata": "6AfpB+oH6wfsB+0H7gfvB/AH8QfyB/MH",
          "dtype": "i2"
         },
         "y": {
          "bdata": "eH9eVodne0CFEFNPDi56QAtx1Ep7unlADD8AKYsWeUCRS+IOLEZ4QJrntOmKnXdAXXlpxHXOdkAsuORJ0Bt2QG08eSggHHVAaY4IjeQwdEB0wd1dtMBzQMTrqvEjV3NA",
          "dtype": "f8"
         }
        },
        {
         "line": {
          "color": "gray",
          "width": 1.5
         },
         "mode": "lines",
         "showlegend": false,
         "type": "scatter",
         "x": {
          "bdata": "6AfpB+oH6wfsB+0H7gfvB/AH8QfyB/MH",
          "dtype": "i2"
         },
         "y": {
          "bdata": "XOS0YF9ne0DJ9NmFtix6QOk8vRVbwXlAGlZoQalHeUCAZ1+oJKV4QFzs5ppwK3hAm4JRaVqZd0BuxiHJiN52QESgYfQxwHVAXF5yO2URdUAG0/mA47N0QAwFMte3YHRA",
          "dtype": "f8"
         }
        },
        {
         "line": {
          "color": "gray",
          "width": 1.5
         },
         "mode": "lines",
         "showlegend": false,
         "type": "scatter",
         "x": {
          "bdata": "6AfpB+oH6wfsB+0H7gfvB/AH8QfyB/MH",
          "dtype": "i2"
         },
         "y": {
          "bdata": "NAdbQiVle0CJjwxo+VN6QFTlFJkREHpAibVDHr+teUCYscRotkZ5QHcEEZj893hAaOhl0K2ReEBgqNrb8hN4QFkT1hePM3dAt+oPHd9WdkBsXbUBpAV2QFwjRXtxz3VA",
          "dtype": "f8"
         }
        },
        {
         "line": {
          "color": "gray",
          "width": 1.5
         },
         "mode": "lines",
         "showlegend": false,
         "type": "scatter",
         "x": {
          "bdata": "6AfpB+oH6wfsB+0H7gfvB/AH8QfyB/MH",
          "dtype": "i2"
         },
         "y": {
          "bdata": "sMrPyg5qe0BCqdtMv/V5QKSDh4+RXXlA8I9FPUzPeEAvb74kTzR4QEweZ71esHdAt4bjEh48d0DNSBQDEZR2QL287t8+k3VA0AstZT+xdEBVkua770V0QDSlsKoY5HNA",
          "dtype": "f8"
         }
        },
        {
         "line": {
          "color": "gray",
          "width": 1.5
         },
         "mode": "lines",
         "showlegend": false,
         "type": "scatter",
         "x": {
          "bdata": "6AfpB+oH6wfsB+0H7gfvB/AH8QfyB/MH",
          "dtype": "i2"
         },
         "y": {
          "bdata": "OJC2mQdne0AXik9/8it6QHQwZ5c/vXlACqpr6YpTeUBFvfSWQN94QOtTizoZiXhA+nSrryYpeECKlrXPwp93QGOgC7qkw3ZABUAyNwPwdUCvJGtZu3p1QM374ikINXVA",
          "dtype": "f8"
         }
        },
        {
         "line": {
          "color": "gray",
          "width": 1.5
         },
         "mode": "lines",
         "showlegend": false,
         "type": "scatter",
         "x": {
          "bdata": "6AfpB+oH6wfsB+0H7gfvB/AH8QfyB/MH",
          "dtype": "i2"
         },
         "y": {
          "bdata": "9VYMJOSPe0B/bUtSTFx6QIHewrQW9nlAy5ygthrUeUBtDpWeVJ15QAhHvO7vLnlAR8DDb2oueUC1PT3td+p4QDIfU8h4bnhAP664u8gKeEBsfLZnZNR3QJ4wF0WMdndA",
          "dtype": "f8"
         }
        },
        {
         "line": {
          "color": "gray",
          "width": 1.5
         },
         "mode": "lines",
         "showlegend": false,
         "type": "scatter",
         "x": {
          "bdata": "6AfpB+oH6wfsB+0H7gfvB/AH8QfyB/MH",
          "dtype": "i2"
         },
         "y": {
          "bdata": "/H0ULVOQe0CYdNkUoEt6QAIE7RIYIHpASmJC8Az9eUD/Pc4IDrl5QLihTz17P3lAQK08irEaeUCgVjg/kL14QEPusGqeO3hAb3EFksvQd0CuYE9kuZJ3QJ0GEbgFZXdA",
          "dtype": "f8"
         }
        },
        {
         "line": {
          "color": "gray",
          "width": 1.5
         },
         "mode": "lines",
         "showlegend": false,
         "type": "scatter",
         "x": {
          "bdata": "6AfpB+oH6wfsB+0H7gfvB/AH8QfyB/MH",
          "dtype": "i2"
         },
         "y": {
          "bdata": "6p489UaQe0BtvgXTlFx6QCe6P+skJHpAl5Iu5cX/eUCUL3r9Ibx5QHR3ZOKXQHlAiSjjzxIreUCV2MHJIcx4QK785s1zTHhA0ps1f3Dmd0ADpKcqZqp3QHf3cXdZRXdA",
          "dtype": "f8"
         }
        },
        {
         "line": {
          "color": "gray",
          "width": 1.5
         },
         "mode": "lines",
         "showlegend": false,
         "type": "scatter",
         "x": {
          "bdata": "6AfpB+oH6wfsB+0H7gfvB/AH8QfyB/MH",
          "dtype": "i2"
         },
         "y": {
          "bdata": "g/6DELONe0Db3JZPHYV6QNQBLEY7QXpAa3Tb7eIsekDMfsX0C/d5QILlBHvIlnlADROkV62VeUCXXXo+MUx5QNL0tsHN4nhAMDETDRWGeECsobDcbEt4QP/KAgKl+HdA",
          "dtype": "f8"
         }
        },
        {
         "line": {
          "color": "gray",
          "width": 1.5
         },
         "mode": "lines",
         "showlegend": false,
         "type": "scatter",
         "x": {
          "bdata": "6AfpB+oH6wfsB+0H7gfvB/AH8QfyB/MH",
          "dtype": "i2"
         },
         "y": {
          "bdata": "IuAffcq7e0DnewCU2Xd6QDkiUIldHnpAl96T4qHyeUAM1hmUz6p5QDyOCDwTaHlA8WM3p9QmeUD8fPY/COx4QMwzfdaUVHhAFuvYO0/td0AZlKcb+JN3QNkl/oWBqndA",
          "dtype": "f8"
         }
        },
        {
         "line": {
          "color": "gray",
          "width": 1.5
         },
         "mode": "lines",
         "showlegend": false,
         "type": "scatter",
         "x": {
          "bdata": "6AfpB+oH6wfsB+0H7gfvB/AH8QfyB/MH",
          "dtype": "i2"
         },
         "y": {
          "bdata": "lOvLGOSPe0Au9ZOjVlx6QAMSnGse9nlARmLcUCjUeUBg0/r4Tp15QKWwnQbdLnlAh7nKMlwueUB5usNxZ+p4QHY7enBSbnhAhEgHVpYKeECdQ+UOBtR3QCljgoNhdndA",
          "dtype": "f8"
         }
        },
        {
         "line": {
          "color": "gray",
          "width": 1.5
         },
         "mode": "lines",
         "showlegend": false,
         "type": "scatter",
         "x": {
          "bdata": "6AfpB+oH6wfsB+0H7gfvB/AH8QfyB/MH",
          "dtype": "i2"
         },
         "y": {
          "bdata": "Ee3YGOSPe0A+Ia2jVlx6QPI2NWoe9nlA7afJOCjUeUAkUrrkTp15QEAYuvXcLnlAo8gK4VsueUDF40H/Z+p4QNWW3pVTbnhA9esQGJgKeEBY5D9pCNR3QLd333VkdndA",
          "dtype": "f8"
         }
        },
        {
         "line": {
          "color": "gray",
          "width": 1.5
         },
         "mode": "lines",
         "showlegend": false,
         "type": "scatter",
         "x": {
          "bdata": "6AfpB+oH6wfsB+0H7gfvB/AH8QfyB/MH",
          "dtype": "i2"
         },
         "y": {
          "bdata": "VLfxh2Fce0DLQOwaVBp6QD2vSgbcZnhAopRuIx1HdkDFzPUpkkF1QNjb0HkUjnNAW2AOeFGHckDHShRxprJxQHLlyy+keXBAWeeMxMtUbkDxkfrihG1sQNXw73iP32pA",
          "dtype": "f8"
         }
        },
        {
         "line": {
          "color": "gray",
          "width": 1.5
         },
         "mode": "lines",
         "showlegend": false,
         "type": "scatter",
         "x": {
          "bdata": "6AfpB+oH6wfsB+0H7gfvB/AH8QfyB/MH",
          "dtype": "i2"
         },
         "y": {
          "bdata": "1tQRUlpie0AOg/NojCJ6QOlvFNlzT3lAD9bPWQXvdkA18T2+/v51QAU0iMYTBnVApNdV3OEbdEDwK/0deS1zQLAnNxZCJ3JA+1kU8iAccUDOg6fLBR1vQKB+qZM7g21A",
          "dtype": "f8"
         }
        },
        {
         "line": {
          "color": "gray",
          "width": 1.5
         },
         "mode": "lines",
         "showlegend": false,
         "type": "scatter",
         "x": {
          "bdata": "6AfpB+oH6wfsB+0H7gfvB/AH8QfyB/MH",
          "dtype": "i2"
         },
         "y": {
          "bdata": "E/BZOk5pe0Czv8z41C96QGXfnU22xnlAGNY+WO4AeUCgM+ODlCt4QKNAZ/QePHdAUKtkBRMjdkDLK7IkbNl0QHTek6Id4HJAP69UhgzecUAesFUK4cRwQNQpDEGz/29A",
          "dtype": "f8"
         }
        },
        {
         "line": {
          "color": "gray",
          "width": 1.5
         },
         "mode": "lines",
         "showlegend": false,
         "type": "scatter",
         "x": {
          "bdata": "6AfpB+oH6wfsB+0H7gfvB/AH8QfyB/MH",
          "dtype": "i2"
         },
         "y": {
          "bdata": "FOvmVOxpe0BCsJSRfTF6QNegtS/e1nlAkp3ES5sVeUBIv4kEek54QP9oRvpFbXdAfICXJkl4dkAWG6SbhYp1QIq8t6TzU3RAzj0rwmBQc0AvYWg/N49yQD7xvDoq6HFA",
          "dtype": "f8"
         }
        },
        {
         "line": {
          "color": "gray",
          "width": 1.5
         },
         "mode": "lines",
         "showlegend": false,
         "type": "scatter",
         "x": {
          "bdata": "6AfpB+oH6wfsB+0H7gfvB/AH8QfyB/MH",
          "dtype": "i2"
         },
         "y": {
          "bdata": "Y8XbDhpte0DeWJ9Sevt5QMqk2rRepXlAd2l4nJW/eEBQ5r0P+ON3QAEBF/g753ZAUtJ7OmYLdkBR1XthFhZ1QOuvY/XA2nNAzvTKYQzZckCJWH9jkOlxQEHTUEDbMHFA",
          "dtype": "f8"
         }
        },
        {
         "line": {
          "color": "gray",
          "width": 1.5
         },
         "mode": "lines",
         "showlegend": false,
         "type": "scatter",
         "x": {
          "bdata": "6AfpB+oH6wfsB+0H7gfvB/AH8QfyB/MH",
          "dtype": "i2"
         },
         "y": {
          "bdata": "ZW4hHvhpe0AhvYtaqTF6QEdZrMoOA3pAe3m4bVVIeUC4fyhzdKR4QFL158Ok8HdAgahrc+Usd0CBIIHyLWB2QOjnKSSxQHVADQT4X7NddECTokJH/6VzQBI4s9dIHnNA",
          "dtype": "f8"
         }
        }
       ],
       "layout": {
        "font": {
         "family": "Arial",
         "size": 14
        },
        "margin": {
         "b": 60,
         "l": 60,
         "r": 30,
         "t": 60
        },
        "showlegend": false,
        "template": {
         "data": {
          "bar": [
           {
            "error_x": {
             "color": "rgb(36,36,36)"
            },
            "error_y": {
             "color": "rgb(36,36,36)"
            },
            "marker": {
             "line": {
              "color": "white",
              "width": 0.5
             },
             "pattern": {
              "fillmode": "overlay",
              "size": 10,
              "solidity": 0.2
             }
            },
            "type": "bar"
           }
          ],
          "barpolar": [
           {
            "marker": {
             "line": {
              "color": "white",
              "width": 0.5
             },
             "pattern": {
              "fillmode": "overlay",
              "size": 10,
              "solidity": 0.2
             }
            },
            "type": "barpolar"
           }
          ],
          "carpet": [
           {
            "aaxis": {
             "endlinecolor": "rgb(36,36,36)",
             "gridcolor": "white",
             "linecolor": "white",
             "minorgridcolor": "white",
             "startlinecolor": "rgb(36,36,36)"
            },
            "baxis": {
             "endlinecolor": "rgb(36,36,36)",
             "gridcolor": "white",
             "linecolor": "white",
             "minorgridcolor": "white",
             "startlinecolor": "rgb(36,36,36)"
            },
            "type": "carpet"
           }
          ],
          "choropleth": [
           {
            "colorbar": {
             "outlinewidth": 1,
             "tickcolor": "rgb(36,36,36)",
             "ticks": "outside"
            },
            "type": "choropleth"
           }
          ],
          "contour": [
           {
            "colorbar": {
             "outlinewidth": 1,
             "tickcolor": "rgb(36,36,36)",
             "ticks": "outside"
            },
            "colorscale": [
             [
              0,
              "#440154"
             ],
             [
              0.1111111111111111,
              "#482878"
             ],
             [
              0.2222222222222222,
              "#3e4989"
             ],
             [
              0.3333333333333333,
              "#31688e"
             ],
             [
              0.4444444444444444,
              "#26828e"
             ],
             [
              0.5555555555555556,
              "#1f9e89"
             ],
             [
              0.6666666666666666,
              "#35b779"
             ],
             [
              0.7777777777777778,
              "#6ece58"
             ],
             [
              0.8888888888888888,
              "#b5de2b"
             ],
             [
              1,
              "#fde725"
             ]
            ],
            "type": "contour"
           }
          ],
          "contourcarpet": [
           {
            "colorbar": {
             "outlinewidth": 1,
             "tickcolor": "rgb(36,36,36)",
             "ticks": "outside"
            },
            "type": "contourcarpet"
           }
          ],
          "heatmap": [
           {
            "colorbar": {
             "outlinewidth": 1,
             "tickcolor": "rgb(36,36,36)",
             "ticks": "outside"
            },
            "colorscale": [
             [
              0,
              "#440154"
             ],
             [
              0.1111111111111111,
              "#482878"
             ],
             [
              0.2222222222222222,
              "#3e4989"
             ],
             [
              0.3333333333333333,
              "#31688e"
             ],
             [
              0.4444444444444444,
              "#26828e"
             ],
             [
              0.5555555555555556,
              "#1f9e89"
             ],
             [
              0.6666666666666666,
              "#35b779"
             ],
             [
              0.7777777777777778,
              "#6ece58"
             ],
             [
              0.8888888888888888,
              "#b5de2b"
             ],
             [
              1,
              "#fde725"
             ]
            ],
            "type": "heatmap"
           }
          ],
          "histogram": [
           {
            "marker": {
             "line": {
              "color": "white",
              "width": 0.6
             }
            },
            "type": "histogram"
           }
          ],
          "histogram2d": [
           {
            "colorbar": {
             "outlinewidth": 1,
             "tickcolor": "rgb(36,36,36)",
             "ticks": "outside"
            },
            "colorscale": [
             [
              0,
              "#440154"
             ],
             [
              0.1111111111111111,
              "#482878"
             ],
             [
              0.2222222222222222,
              "#3e4989"
             ],
             [
              0.3333333333333333,
              "#31688e"
             ],
             [
              0.4444444444444444,
              "#26828e"
             ],
             [
              0.5555555555555556,
              "#1f9e89"
             ],
             [
              0.6666666666666666,
              "#35b779"
             ],
             [
              0.7777777777777778,
              "#6ece58"
             ],
             [
              0.8888888888888888,
              "#b5de2b"
             ],
             [
              1,
              "#fde725"
             ]
            ],
            "type": "histogram2d"
           }
          ],
          "histogram2dcontour": [
           {
            "colorbar": {
             "outlinewidth": 1,
             "tickcolor": "rgb(36,36,36)",
             "ticks": "outside"
            },
            "colorscale": [
             [
              0,
              "#440154"
             ],
             [
              0.1111111111111111,
              "#482878"
             ],
             [
              0.2222222222222222,
              "#3e4989"
             ],
             [
              0.3333333333333333,
              "#31688e"
             ],
             [
              0.4444444444444444,
              "#26828e"
             ],
             [
              0.5555555555555556,
              "#1f9e89"
             ],
             [
              0.6666666666666666,
              "#35b779"
             ],
             [
              0.7777777777777778,
              "#6ece58"
             ],
             [
              0.8888888888888888,
              "#b5de2b"
             ],
             [
              1,
              "#fde725"
             ]
            ],
            "type": "histogram2dcontour"
           }
          ],
          "mesh3d": [
           {
            "colorbar": {
             "outlinewidth": 1,
             "tickcolor": "rgb(36,36,36)",
             "ticks": "outside"
            },
            "type": "mesh3d"
           }
          ],
          "parcoords": [
           {
            "line": {
             "colorbar": {
              "outlinewidth": 1,
              "tickcolor": "rgb(36,36,36)",
              "ticks": "outside"
             }
            },
            "type": "parcoords"
           }
          ],
          "pie": [
           {
            "automargin": true,
            "type": "pie"
           }
          ],
          "scatter": [
           {
            "fillpattern": {
             "fillmode": "overlay",
             "size": 10,
             "solidity": 0.2
            },
            "type": "scatter"
           }
          ],
          "scatter3d": [
           {
            "line": {
             "colorbar": {
              "outlinewidth": 1,
              "tickcolor": "rgb(36,36,36)",
              "ticks": "outside"
             }
            },
            "marker": {
             "colorbar": {
              "outlinewidth": 1,
              "tickcolor": "rgb(36,36,36)",
              "ticks": "outside"
             }
            },
            "type": "scatter3d"
           }
          ],
          "scattercarpet": [
           {
            "marker": {
             "colorbar": {
              "outlinewidth": 1,
              "tickcolor": "rgb(36,36,36)",
              "ticks": "outside"
             }
            },
            "type": "scattercarpet"
           }
          ],
          "scattergeo": [
           {
            "marker": {
             "colorbar": {
              "outlinewidth": 1,
              "tickcolor": "rgb(36,36,36)",
              "ticks": "outside"
             }
            },
            "type": "scattergeo"
           }
          ],
          "scattergl": [
           {
            "marker": {
             "colorbar": {
              "outlinewidth": 1,
              "tickcolor": "rgb(36,36,36)",
              "ticks": "outside"
             }
            },
            "type": "scattergl"
           }
          ],
          "scattermap": [
           {
            "marker": {
             "colorbar": {
              "outlinewidth": 1,
              "tickcolor": "rgb(36,36,36)",
              "ticks": "outside"
             }
            },
            "type": "scattermap"
           }
          ],
          "scattermapbox": [
           {
            "marker": {
             "colorbar": {
              "outlinewidth": 1,
              "tickcolor": "rgb(36,36,36)",
              "ticks": "outside"
             }
            },
            "type": "scattermapbox"
           }
          ],
          "scatterpolar": [
           {
            "marker": {
             "colorbar": {
              "outlinewidth": 1,
              "tickcolor": "rgb(36,36,36)",
              "ticks": "outside"
             }
            },
            "type": "scatterpolar"
           }
          ],
          "scatterpolargl": [
           {
            "marker": {
             "colorbar": {
              "outlinewidth": 1,
              "tickcolor": "rgb(36,36,36)",
              "ticks": "outside"
             }
            },
            "type": "scatterpolargl"
           }
          ],
          "scatterternary": [
           {
            "marker": {
             "colorbar": {
              "outlinewidth": 1,
              "tickcolor": "rgb(36,36,36)",
              "ticks": "outside"
             }
            },
            "type": "scatterternary"
           }
          ],
          "surface": [
           {
            "colorbar": {
             "outlinewidth": 1,
             "tickcolor": "rgb(36,36,36)",
             "ticks": "outside"
            },
            "colorscale": [
             [
              0,
              "#440154"
             ],
             [
              0.1111111111111111,
              "#482878"
             ],
             [
              0.2222222222222222,
              "#3e4989"
             ],
             [
              0.3333333333333333,
              "#31688e"
             ],
             [
              0.4444444444444444,
              "#26828e"
             ],
             [
              0.5555555555555556,
              "#1f9e89"
             ],
             [
              0.6666666666666666,
              "#35b779"
             ],
             [
              0.7777777777777778,
              "#6ece58"
             ],
             [
              0.8888888888888888,
              "#b5de2b"
             ],
             [
              1,
              "#fde725"
             ]
            ],
            "type": "surface"
           }
          ],
          "table": [
           {
            "cells": {
             "fill": {
              "color": "rgb(237,237,237)"
             },
             "line": {
              "color": "white"
             }
            },
            "header": {
             "fill": {
              "color": "rgb(217,217,217)"
             },
             "line": {
              "color": "white"
             }
            },
            "type": "table"
           }
          ]
         },
         "layout": {
          "annotationdefaults": {
           "arrowhead": 0,
           "arrowwidth": 1
          },
          "autotypenumbers": "strict",
          "coloraxis": {
           "colorbar": {
            "outlinewidth": 1,
            "tickcolor": "rgb(36,36,36)",
            "ticks": "outside"
           }
          },
          "colorscale": {
           "diverging": [
            [
             0,
             "rgb(103,0,31)"
            ],
            [
             0.1,
             "rgb(178,24,43)"
            ],
            [
             0.2,
             "rgb(214,96,77)"
            ],
            [
             0.3,
             "rgb(244,165,130)"
            ],
            [
             0.4,
             "rgb(253,219,199)"
            ],
            [
             0.5,
             "rgb(247,247,247)"
            ],
            [
             0.6,
             "rgb(209,229,240)"
            ],
            [
             0.7,
             "rgb(146,197,222)"
            ],
            [
             0.8,
             "rgb(67,147,195)"
            ],
            [
             0.9,
             "rgb(33,102,172)"
            ],
            [
             1,
             "rgb(5,48,97)"
            ]
           ],
           "sequential": [
            [
             0,
             "#440154"
            ],
            [
             0.1111111111111111,
             "#482878"
            ],
            [
             0.2222222222222222,
             "#3e4989"
            ],
            [
             0.3333333333333333,
             "#31688e"
            ],
            [
             0.4444444444444444,
             "#26828e"
            ],
            [
             0.5555555555555556,
             "#1f9e89"
            ],
            [
             0.6666666666666666,
             "#35b779"
            ],
            [
             0.7777777777777778,
             "#6ece58"
            ],
            [
             0.8888888888888888,
             "#b5de2b"
            ],
            [
             1,
             "#fde725"
            ]
           ],
           "sequentialminus": [
            [
             0,
             "#440154"
            ],
            [
             0.1111111111111111,
             "#482878"
            ],
            [
             0.2222222222222222,
             "#3e4989"
            ],
            [
             0.3333333333333333,
             "#31688e"
            ],
            [
             0.4444444444444444,
             "#26828e"
            ],
            [
             0.5555555555555556,
             "#1f9e89"
            ],
            [
             0.6666666666666666,
             "#35b779"
            ],
            [
             0.7777777777777778,
             "#6ece58"
            ],
            [
             0.8888888888888888,
             "#b5de2b"
            ],
            [
             1,
             "#fde725"
            ]
           ]
          },
          "colorway": [
           "#1F77B4",
           "#FF7F0E",
           "#2CA02C",
           "#D62728",
           "#9467BD",
           "#8C564B",
           "#E377C2",
           "#7F7F7F",
           "#BCBD22",
           "#17BECF"
          ],
          "font": {
           "color": "rgb(36,36,36)"
          },
          "geo": {
           "bgcolor": "white",
           "lakecolor": "white",
           "landcolor": "white",
           "showlakes": true,
           "showland": true,
           "subunitcolor": "white"
          },
          "hoverlabel": {
           "align": "left"
          },
          "hovermode": "closest",
          "mapbox": {
           "style": "light"
          },
          "paper_bgcolor": "white",
          "plot_bgcolor": "white",
          "polar": {
           "angularaxis": {
            "gridcolor": "rgb(232,232,232)",
            "linecolor": "rgb(36,36,36)",
            "showgrid": false,
            "showline": true,
            "ticks": "outside"
           },
           "bgcolor": "white",
           "radialaxis": {
            "gridcolor": "rgb(232,232,232)",
            "linecolor": "rgb(36,36,36)",
            "showgrid": false,
            "showline": true,
            "ticks": "outside"
           }
          },
          "scene": {
           "xaxis": {
            "backgroundcolor": "white",
            "gridcolor": "rgb(232,232,232)",
            "gridwidth": 2,
            "linecolor": "rgb(36,36,36)",
            "showbackground": true,
            "showgrid": false,
            "showline": true,
            "ticks": "outside",
            "zeroline": false,
            "zerolinecolor": "rgb(36,36,36)"
           },
           "yaxis": {
            "backgroundcolor": "white",
            "gridcolor": "rgb(232,232,232)",
            "gridwidth": 2,
            "linecolor": "rgb(36,36,36)",
            "showbackground": true,
            "showgrid": false,
            "showline": true,
            "ticks": "outside",
            "zeroline": false,
            "zerolinecolor": "rgb(36,36,36)"
           },
           "zaxis": {
            "backgroundcolor": "white",
            "gridcolor": "rgb(232,232,232)",
            "gridwidth": 2,
            "linecolor": "rgb(36,36,36)",
            "showbackground": true,
            "showgrid": false,
            "showline": true,
            "ticks": "outside",
            "zeroline": false,
            "zerolinecolor": "rgb(36,36,36)"
           }
          },
          "shapedefaults": {
           "fillcolor": "black",
           "line": {
            "width": 0
           },
           "opacity": 0.3
          },
          "ternary": {
           "aaxis": {
            "gridcolor": "rgb(232,232,232)",
            "linecolor": "rgb(36,36,36)",
            "showgrid": false,
            "showline": true,
            "ticks": "outside"
           },
           "baxis": {
            "gridcolor": "rgb(232,232,232)",
            "linecolor": "rgb(36,36,36)",
            "showgrid": false,
            "showline": true,
            "ticks": "outside"
           },
           "bgcolor": "white",
           "caxis": {
            "gridcolor": "rgb(232,232,232)",
            "linecolor": "rgb(36,36,36)",
            "showgrid": false,
            "showline": true,
            "ticks": "outside"
           }
          },
          "title": {
           "x": 0.05
          },
          "xaxis": {
           "automargin": true,
           "gridcolor": "rgb(232,232,232)",
           "linecolor": "rgb(36,36,36)",
           "showgrid": false,
           "showline": true,
           "ticks": "outside",
           "title": {
            "standoff": 15
           },
           "zeroline": false,
           "zerolinecolor": "rgb(36,36,36)"
          },
          "yaxis": {
           "automargin": true,
           "gridcolor": "rgb(232,232,232)",
           "linecolor": "rgb(36,36,36)",
           "showgrid": false,
           "showline": true,
           "ticks": "outside",
           "title": {
            "standoff": 15
           },
           "zeroline": false,
           "zerolinecolor": "rgb(36,36,36)"
          }
         }
        },
        "title": {
         "text": ""
        },
        "xaxis": {
         "dtick": 1,
         "range": [
          2024,
          2035
         ],
         "tick0": 2024,
         "tickmode": "linear"
        }
       }
      }
     },
     "metadata": {},
     "output_type": "display_data"
    }
   ],
   "source": [
    "fig1 = go.Figure()\n",
    "\n",
    "for scenario in fig1_data['Scenario'].unique():\n",
    "    subset = fig1_data[fig1_data['Scenario'] == scenario]\n",
    "    fig1.add_trace(go.Scatter(\n",
    "        x=subset['Year'], y=subset['CO2eq'], mode='lines',\n",
    "        line=dict(width=1.5, color='gray'),\n",
    "        showlegend=False\n",
    "    ))\n",
    "\n",
    "fig1 = apply_common_layout(fig1, \"\")\n",
    "\n",
    "\n",
    "\n",
    "fig1.write_image(f\"{output_dir}/fig1_total_emissions_by_scenario.jpeg\")\n",
    "fig1_data.to_csv(f\"{output_dir}/fig1_data.csv\", index=False)\n",
    "fig1.show()\n"
   ]
  },
  {
   "cell_type": "markdown",
   "id": "66d9a5ff",
   "metadata": {},
   "source": [
    "## figure 2: Shaded emissions chart for all scenario families"
   ]
  },
  {
   "cell_type": "markdown",
   "id": "be982a01",
   "metadata": {},
   "source": [
    "### Aggregate CO2 values"
   ]
  },
  {
   "cell_type": "code",
   "execution_count": 29,
   "id": "5a07181f",
   "metadata": {},
   "outputs": [],
   "source": [
    "\n",
    "scenario_year_emissions = df\n",
    "# Sum over all lower-level categories to Scenario-Year level\n",
    "scenario_year_emissions = (\n",
    "    df.groupby(['Scenario', 'ScenarioFamily','Year'])['CO2eq']\n",
    "    .sum()\n",
    "    .reset_index(name='CO2eq_Total')\n",
    ")"
   ]
  },
  {
   "cell_type": "markdown",
   "id": "54e9edc6",
   "metadata": {},
   "source": [
    "REMOVE LCARB because we dont need to show it (?)"
   ]
  },
  {
   "cell_type": "code",
   "execution_count": 30,
   "id": "03ba7fb3",
   "metadata": {},
   "outputs": [],
   "source": [
    "scenario_year_emissions = scenario_year_emissions[~scenario_year_emissions['ScenarioFamily'].isin(['Low Carbon'])]"
   ]
  },
  {
   "cell_type": "markdown",
   "id": "564295f6",
   "metadata": {},
   "source": [
    "### Get aggregate Stats for Shaded Bands (min, max, mean)"
   ]
  },
  {
   "cell_type": "code",
   "execution_count": 31,
   "id": "eb9b849d",
   "metadata": {},
   "outputs": [],
   "source": [
    "## group CPP together\n",
    "\n",
    "# Group into broader ScenarioGroup\n",
    "scenario_year_emissions['ScenarioGroup'] = scenario_year_emissions['ScenarioFamily'].apply(\n",
    "    lambda x: 'CPP' if x.startswith('CPP') else x\n",
    ")\n",
    "\n",
    "\n",
    "# Compute min, max, and mean across scenarios in a group\n",
    "group_stats = (\n",
    "    scenario_year_emissions\n",
    "    .groupby(['ScenarioGroup', 'Year'])['CO2eq_Total']\n",
    "    .agg(['min', 'max', 'mean'])\n",
    "    .reset_index()\n",
    "    .rename(columns={'min': 'Emissions_min', 'max': 'Emissions_max', 'mean': 'Emissions_mean'})\n",
    ")\n"
   ]
  },
  {
   "cell_type": "markdown",
   "id": "d9c76185",
   "metadata": {},
   "source": [
    "SHOW THE NUMBERS"
   ]
  },
  {
   "cell_type": "code",
   "execution_count": 32,
   "id": "cb88f417",
   "metadata": {},
   "outputs": [
    {
     "data": {
      "text/html": [
       "<div>\n",
       "<style scoped>\n",
       "    .dataframe tbody tr th:only-of-type {\n",
       "        vertical-align: middle;\n",
       "    }\n",
       "\n",
       "    .dataframe tbody tr th {\n",
       "        vertical-align: top;\n",
       "    }\n",
       "\n",
       "    .dataframe thead th {\n",
       "        text-align: right;\n",
       "    }\n",
       "</style>\n",
       "<table border=\"1\" class=\"dataframe\">\n",
       "  <thead>\n",
       "    <tr style=\"text-align: right;\">\n",
       "      <th></th>\n",
       "      <th>ScenarioGroup</th>\n",
       "      <th>Year</th>\n",
       "      <th>Emissions_min</th>\n",
       "      <th>Emissions_max</th>\n",
       "      <th>Emissions_mean</th>\n",
       "    </tr>\n",
       "  </thead>\n",
       "  <tbody>\n",
       "    <tr>\n",
       "      <th>0</th>\n",
       "      <td>BASE</td>\n",
       "      <td>2024</td>\n",
       "      <td>438233.797424</td>\n",
       "      <td>442284.399680</td>\n",
       "      <td>440314.869676</td>\n",
       "    </tr>\n",
       "    <tr>\n",
       "      <th>12</th>\n",
       "      <td>CPP</td>\n",
       "      <td>2024</td>\n",
       "      <td>435019.953470</td>\n",
       "      <td>438805.487438</td>\n",
       "      <td>437852.966901</td>\n",
       "    </tr>\n",
       "    <tr>\n",
       "      <th>24</th>\n",
       "      <td>High Carbon</td>\n",
       "      <td>2024</td>\n",
       "      <td>440856.216922</td>\n",
       "      <td>443736.935734</td>\n",
       "      <td>441372.908136</td>\n",
       "    </tr>\n",
       "  </tbody>\n",
       "</table>\n",
       "</div>"
      ],
      "text/plain": [
       "   ScenarioGroup  Year  Emissions_min  Emissions_max  Emissions_mean\n",
       "0           BASE  2024  438233.797424  442284.399680   440314.869676\n",
       "12           CPP  2024  435019.953470  438805.487438   437852.966901\n",
       "24   High Carbon  2024  440856.216922  443736.935734   441372.908136"
      ]
     },
     "execution_count": 32,
     "metadata": {},
     "output_type": "execute_result"
    }
   ],
   "source": [
    "group_stats[group_stats['Year'] == 2024]"
   ]
  },
  {
   "cell_type": "code",
   "execution_count": 104,
   "id": "3db8c1ce",
   "metadata": {},
   "outputs": [
    {
     "data": {
      "application/vnd.plotly.v1+json": {
       "config": {
        "plotlyServerURL": "https://plot.ly"
       },
       "data": [
        {
         "fill": "toself",
         "fillcolor": "rgba(0, 0, 255, 0.2)",
         "line": {
          "color": "rgba(255,255,255,0)"
         },
         "name": "BASE Range",
         "showlegend": true,
         "type": "scatter",
         "x": {
          "bdata": "6AfpB+oH6wfsB+0H7gfvB/AH8QfyB/MH8wfyB/EH8AfvB+4H7QfsB+sH6gfpB+gH",
          "dtype": "i2"
         },
         "y": {
          "bdata": "DfePMGe/GkFxjKSaZI8ZQSp04lQy3RhBP0rxNY7DF0HpsPQWhDkWQcLvxfLODhVBbokZcmNuFEG8ItBsIuQSQRttY6qUyBFBh103gPn1D0H1folJttINQcKWHmxJOwxBbzP1lhljFkH8fAsoPooWQY/QM8g+ABdBrJx3kNavF0F+JlbUuE0YQarPKS2tqRhB1MDB2ikEGUEnONMONhwZQZn/X/sjcxlBsn6F0D65GUF8MEeWfPYZQRfORZmx/hpB",
          "dtype": "f8"
         }
        },
        {
         "line": {
          "color": "Blue",
          "width": 2
         },
         "mode": "lines",
         "name": "BASE Mean",
         "type": "scatter",
         "x": {
          "bdata": "6AfpB+oH6wfsB+0H7gfvB/AH8QfyB/MH",
          "dtype": "i2"
         },
         "y": {
          "bdata": "X1qMeuvfGkFfD6s9ucgZQRSgl2OuRxlB/x0Hgm27GEEEN1maBycYQY4hSh/TvBdBxbB+GAYzF0Eg0+0MjpIWQREV5mkOvxVBKsAvUAj7FEEFzGn40oEUQWooCKmhJxRB",
          "dtype": "f8"
         }
        },
        {
         "fill": "toself",
         "fillcolor": "rgba(255, 255, 0, 0.2)",
         "line": {
          "color": "rgba(255,255,255,0)"
         },
         "name": "CPP Range",
         "showlegend": true,
         "type": "scatter",
         "x": {
          "bdata": "6AfpB+oH6wfsB+0H7gfvB/AH8QfyB/MH8wfyB/EH8AfvB+4H7QfsB+sH6gfpB+gH",
          "dtype": "i2"
         },
         "y": {
          "bdata": "XnZa0C+NGkEazFXqzYQYQWDOw+gRlBdByy+4+bRVFkFCUx45j/MUQc7t9gYvxBNBAPM4E9UHE0EhFohOWWMSQUf30QiuURFB3mRrAvs/EEH3d/eGRJQNQUjbcAnKcAtBvgFhbXukFkEDmht6g68WQbxQwKVl3hZBAKZv/7oyF0EZoC6Sp+wXQeJlFfOIRxhBuJ3ATKaMGEF5jt3xK84YQfTqQCcUJRlBxt423wmWGUEmkPTTMsEZQRzWIvNVyBpB",
          "dtype": "f8"
         }
        },
        {
         "line": {
          "color": "Yellow",
          "width": 2
         },
         "mode": "lines",
         "name": "CPP Mean",
         "type": "scatter",
         "x": {
          "bdata": "6AfpB+oH6wfsB+0H7gfvB/AH8QfyB/MH",
          "dtype": "i2"
         },
         "y": {
          "bdata": "DkMb3nO5GkE6j5wD4GoZQa63aJlAzBhBXvNJliXxF0FLUX/kZycXQb/KlLtrbxZBWigWHinLFUHYtq/+jCAVQeBb22T3IhRBjCayRXdLE0GCHrhpAJMSQQVzrlyj/RFB",
          "dtype": "f8"
         }
        },
        {
         "fill": "toself",
         "fillcolor": "rgba(255, 0, 0, 0.2)",
         "line": {
          "color": "rgba(255,255,255,0)"
         },
         "name": "High Carbon Range",
         "showlegend": true,
         "type": "scatter",
         "x": {
          "bdata": "6AfpB+oH6wfsB+0H7gfvB/AH8QfyB/MH8wfyB/EH8AfvB+4H7QfsB+sH6gfpB+gH",
          "dtype": "i2"
         },
         "y": {
          "bdata": "jOYg3mDoGkHcW1xU2q0ZQUpNhixSWhlBHtlYFiI5GUE39F0LnwMZQa6798fDlxhBMEH/YBGEGEGYBL3dHikYQa3IMLQ4qhdBxlCZzOZBF0FqhPULSQUXQapLpV65uRZBPbr2I9FoF0HifYRPqLkXQQm+xI7w8hdBFass73xNGEFlfwMXaLQYQZs6lkcr/BhBIcgiyD/9GEHT3QitQVsZQbBPSJzVjxlByfmG4rOjGUGuU7mf/uUZQeEgMb5jFRtB",
          "dtype": "f8"
         }
        },
        {
         "line": {
          "color": "red",
          "width": 2
         },
         "mode": "lines",
         "name": "High Carbon Mean",
         "type": "scatter",
         "x": {
          "bdata": "6AfpB+oH6wfsB+0H7gfvB/AH8QfyB/MH",
          "dtype": "i2"
         },
         "y": {
          "bdata": "KVPuoXPwGkFVbc7JZcUZQaLxc3u3dhlBeG6J55hVGUHNU73eMhoZQSoW5uELsxhBaSdYM3GhGEGfQuZiT1gYQWu+Gk+e3BdBtVGy/md6F0EX+z9f6T0XQV0mCGrQ+RZB",
          "dtype": "f8"
         }
        }
       ],
       "layout": {
        "font": {
         "family": "Arial",
         "size": 12
        },
        "legend": {
         "orientation": "h",
         "x": 0.5,
         "xanchor": "center",
         "y": -0.25,
         "yanchor": "bottom"
        },
        "margin": {
         "b": 60,
         "l": 60,
         "r": 30,
         "t": 60
        },
        "template": {
         "data": {
          "bar": [
           {
            "error_x": {
             "color": "rgb(36,36,36)"
            },
            "error_y": {
             "color": "rgb(36,36,36)"
            },
            "marker": {
             "line": {
              "color": "white",
              "width": 0.5
             },
             "pattern": {
              "fillmode": "overlay",
              "size": 10,
              "solidity": 0.2
             }
            },
            "type": "bar"
           }
          ],
          "barpolar": [
           {
            "marker": {
             "line": {
              "color": "white",
              "width": 0.5
             },
             "pattern": {
              "fillmode": "overlay",
              "size": 10,
              "solidity": 0.2
             }
            },
            "type": "barpolar"
           }
          ],
          "carpet": [
           {
            "aaxis": {
             "endlinecolor": "rgb(36,36,36)",
             "gridcolor": "white",
             "linecolor": "white",
             "minorgridcolor": "white",
             "startlinecolor": "rgb(36,36,36)"
            },
            "baxis": {
             "endlinecolor": "rgb(36,36,36)",
             "gridcolor": "white",
             "linecolor": "white",
             "minorgridcolor": "white",
             "startlinecolor": "rgb(36,36,36)"
            },
            "type": "carpet"
           }
          ],
          "choropleth": [
           {
            "colorbar": {
             "outlinewidth": 1,
             "tickcolor": "rgb(36,36,36)",
             "ticks": "outside"
            },
            "type": "choropleth"
           }
          ],
          "contour": [
           {
            "colorbar": {
             "outlinewidth": 1,
             "tickcolor": "rgb(36,36,36)",
             "ticks": "outside"
            },
            "colorscale": [
             [
              0,
              "#440154"
             ],
             [
              0.1111111111111111,
              "#482878"
             ],
             [
              0.2222222222222222,
              "#3e4989"
             ],
             [
              0.3333333333333333,
              "#31688e"
             ],
             [
              0.4444444444444444,
              "#26828e"
             ],
             [
              0.5555555555555556,
              "#1f9e89"
             ],
             [
              0.6666666666666666,
              "#35b779"
             ],
             [
              0.7777777777777778,
              "#6ece58"
             ],
             [
              0.8888888888888888,
              "#b5de2b"
             ],
             [
              1,
              "#fde725"
             ]
            ],
            "type": "contour"
           }
          ],
          "contourcarpet": [
           {
            "colorbar": {
             "outlinewidth": 1,
             "tickcolor": "rgb(36,36,36)",
             "ticks": "outside"
            },
            "type": "contourcarpet"
           }
          ],
          "heatmap": [
           {
            "colorbar": {
             "outlinewidth": 1,
             "tickcolor": "rgb(36,36,36)",
             "ticks": "outside"
            },
            "colorscale": [
             [
              0,
              "#440154"
             ],
             [
              0.1111111111111111,
              "#482878"
             ],
             [
              0.2222222222222222,
              "#3e4989"
             ],
             [
              0.3333333333333333,
              "#31688e"
             ],
             [
              0.4444444444444444,
              "#26828e"
             ],
             [
              0.5555555555555556,
              "#1f9e89"
             ],
             [
              0.6666666666666666,
              "#35b779"
             ],
             [
              0.7777777777777778,
              "#6ece58"
             ],
             [
              0.8888888888888888,
              "#b5de2b"
             ],
             [
              1,
              "#fde725"
             ]
            ],
            "type": "heatmap"
           }
          ],
          "histogram": [
           {
            "marker": {
             "line": {
              "color": "white",
              "width": 0.6
             }
            },
            "type": "histogram"
           }
          ],
          "histogram2d": [
           {
            "colorbar": {
             "outlinewidth": 1,
             "tickcolor": "rgb(36,36,36)",
             "ticks": "outside"
            },
            "colorscale": [
             [
              0,
              "#440154"
             ],
             [
              0.1111111111111111,
              "#482878"
             ],
             [
              0.2222222222222222,
              "#3e4989"
             ],
             [
              0.3333333333333333,
              "#31688e"
             ],
             [
              0.4444444444444444,
              "#26828e"
             ],
             [
              0.5555555555555556,
              "#1f9e89"
             ],
             [
              0.6666666666666666,
              "#35b779"
             ],
             [
              0.7777777777777778,
              "#6ece58"
             ],
             [
              0.8888888888888888,
              "#b5de2b"
             ],
             [
              1,
              "#fde725"
             ]
            ],
            "type": "histogram2d"
           }
          ],
          "histogram2dcontour": [
           {
            "colorbar": {
             "outlinewidth": 1,
             "tickcolor": "rgb(36,36,36)",
             "ticks": "outside"
            },
            "colorscale": [
             [
              0,
              "#440154"
             ],
             [
              0.1111111111111111,
              "#482878"
             ],
             [
              0.2222222222222222,
              "#3e4989"
             ],
             [
              0.3333333333333333,
              "#31688e"
             ],
             [
              0.4444444444444444,
              "#26828e"
             ],
             [
              0.5555555555555556,
              "#1f9e89"
             ],
             [
              0.6666666666666666,
              "#35b779"
             ],
             [
              0.7777777777777778,
              "#6ece58"
             ],
             [
              0.8888888888888888,
              "#b5de2b"
             ],
             [
              1,
              "#fde725"
             ]
            ],
            "type": "histogram2dcontour"
           }
          ],
          "mesh3d": [
           {
            "colorbar": {
             "outlinewidth": 1,
             "tickcolor": "rgb(36,36,36)",
             "ticks": "outside"
            },
            "type": "mesh3d"
           }
          ],
          "parcoords": [
           {
            "line": {
             "colorbar": {
              "outlinewidth": 1,
              "tickcolor": "rgb(36,36,36)",
              "ticks": "outside"
             }
            },
            "type": "parcoords"
           }
          ],
          "pie": [
           {
            "automargin": true,
            "type": "pie"
           }
          ],
          "scatter": [
           {
            "fillpattern": {
             "fillmode": "overlay",
             "size": 10,
             "solidity": 0.2
            },
            "type": "scatter"
           }
          ],
          "scatter3d": [
           {
            "line": {
             "colorbar": {
              "outlinewidth": 1,
              "tickcolor": "rgb(36,36,36)",
              "ticks": "outside"
             }
            },
            "marker": {
             "colorbar": {
              "outlinewidth": 1,
              "tickcolor": "rgb(36,36,36)",
              "ticks": "outside"
             }
            },
            "type": "scatter3d"
           }
          ],
          "scattercarpet": [
           {
            "marker": {
             "colorbar": {
              "outlinewidth": 1,
              "tickcolor": "rgb(36,36,36)",
              "ticks": "outside"
             }
            },
            "type": "scattercarpet"
           }
          ],
          "scattergeo": [
           {
            "marker": {
             "colorbar": {
              "outlinewidth": 1,
              "tickcolor": "rgb(36,36,36)",
              "ticks": "outside"
             }
            },
            "type": "scattergeo"
           }
          ],
          "scattergl": [
           {
            "marker": {
             "colorbar": {
              "outlinewidth": 1,
              "tickcolor": "rgb(36,36,36)",
              "ticks": "outside"
             }
            },
            "type": "scattergl"
           }
          ],
          "scattermap": [
           {
            "marker": {
             "colorbar": {
              "outlinewidth": 1,
              "tickcolor": "rgb(36,36,36)",
              "ticks": "outside"
             }
            },
            "type": "scattermap"
           }
          ],
          "scattermapbox": [
           {
            "marker": {
             "colorbar": {
              "outlinewidth": 1,
              "tickcolor": "rgb(36,36,36)",
              "ticks": "outside"
             }
            },
            "type": "scattermapbox"
           }
          ],
          "scatterpolar": [
           {
            "marker": {
             "colorbar": {
              "outlinewidth": 1,
              "tickcolor": "rgb(36,36,36)",
              "ticks": "outside"
             }
            },
            "type": "scatterpolar"
           }
          ],
          "scatterpolargl": [
           {
            "marker": {
             "colorbar": {
              "outlinewidth": 1,
              "tickcolor": "rgb(36,36,36)",
              "ticks": "outside"
             }
            },
            "type": "scatterpolargl"
           }
          ],
          "scatterternary": [
           {
            "marker": {
             "colorbar": {
              "outlinewidth": 1,
              "tickcolor": "rgb(36,36,36)",
              "ticks": "outside"
             }
            },
            "type": "scatterternary"
           }
          ],
          "surface": [
           {
            "colorbar": {
             "outlinewidth": 1,
             "tickcolor": "rgb(36,36,36)",
             "ticks": "outside"
            },
            "colorscale": [
             [
              0,
              "#440154"
             ],
             [
              0.1111111111111111,
              "#482878"
             ],
             [
              0.2222222222222222,
              "#3e4989"
             ],
             [
              0.3333333333333333,
              "#31688e"
             ],
             [
              0.4444444444444444,
              "#26828e"
             ],
             [
              0.5555555555555556,
              "#1f9e89"
             ],
             [
              0.6666666666666666,
              "#35b779"
             ],
             [
              0.7777777777777778,
              "#6ece58"
             ],
             [
              0.8888888888888888,
              "#b5de2b"
             ],
             [
              1,
              "#fde725"
             ]
            ],
            "type": "surface"
           }
          ],
          "table": [
           {
            "cells": {
             "fill": {
              "color": "rgb(237,237,237)"
             },
             "line": {
              "color": "white"
             }
            },
            "header": {
             "fill": {
              "color": "rgb(217,217,217)"
             },
             "line": {
              "color": "white"
             }
            },
            "type": "table"
           }
          ]
         },
         "layout": {
          "annotationdefaults": {
           "arrowhead": 0,
           "arrowwidth": 1
          },
          "autotypenumbers": "strict",
          "coloraxis": {
           "colorbar": {
            "outlinewidth": 1,
            "tickcolor": "rgb(36,36,36)",
            "ticks": "outside"
           }
          },
          "colorscale": {
           "diverging": [
            [
             0,
             "rgb(103,0,31)"
            ],
            [
             0.1,
             "rgb(178,24,43)"
            ],
            [
             0.2,
             "rgb(214,96,77)"
            ],
            [
             0.3,
             "rgb(244,165,130)"
            ],
            [
             0.4,
             "rgb(253,219,199)"
            ],
            [
             0.5,
             "rgb(247,247,247)"
            ],
            [
             0.6,
             "rgb(209,229,240)"
            ],
            [
             0.7,
             "rgb(146,197,222)"
            ],
            [
             0.8,
             "rgb(67,147,195)"
            ],
            [
             0.9,
             "rgb(33,102,172)"
            ],
            [
             1,
             "rgb(5,48,97)"
            ]
           ],
           "sequential": [
            [
             0,
             "#440154"
            ],
            [
             0.1111111111111111,
             "#482878"
            ],
            [
             0.2222222222222222,
             "#3e4989"
            ],
            [
             0.3333333333333333,
             "#31688e"
            ],
            [
             0.4444444444444444,
             "#26828e"
            ],
            [
             0.5555555555555556,
             "#1f9e89"
            ],
            [
             0.6666666666666666,
             "#35b779"
            ],
            [
             0.7777777777777778,
             "#6ece58"
            ],
            [
             0.8888888888888888,
             "#b5de2b"
            ],
            [
             1,
             "#fde725"
            ]
           ],
           "sequentialminus": [
            [
             0,
             "#440154"
            ],
            [
             0.1111111111111111,
             "#482878"
            ],
            [
             0.2222222222222222,
             "#3e4989"
            ],
            [
             0.3333333333333333,
             "#31688e"
            ],
            [
             0.4444444444444444,
             "#26828e"
            ],
            [
             0.5555555555555556,
             "#1f9e89"
            ],
            [
             0.6666666666666666,
             "#35b779"
            ],
            [
             0.7777777777777778,
             "#6ece58"
            ],
            [
             0.8888888888888888,
             "#b5de2b"
            ],
            [
             1,
             "#fde725"
            ]
           ]
          },
          "colorway": [
           "#1F77B4",
           "#FF7F0E",
           "#2CA02C",
           "#D62728",
           "#9467BD",
           "#8C564B",
           "#E377C2",
           "#7F7F7F",
           "#BCBD22",
           "#17BECF"
          ],
          "font": {
           "color": "rgb(36,36,36)"
          },
          "geo": {
           "bgcolor": "white",
           "lakecolor": "white",
           "landcolor": "white",
           "showlakes": true,
           "showland": true,
           "subunitcolor": "white"
          },
          "hoverlabel": {
           "align": "left"
          },
          "hovermode": "closest",
          "mapbox": {
           "style": "light"
          },
          "paper_bgcolor": "white",
          "plot_bgcolor": "white",
          "polar": {
           "angularaxis": {
            "gridcolor": "rgb(232,232,232)",
            "linecolor": "rgb(36,36,36)",
            "showgrid": false,
            "showline": true,
            "ticks": "outside"
           },
           "bgcolor": "white",
           "radialaxis": {
            "gridcolor": "rgb(232,232,232)",
            "linecolor": "rgb(36,36,36)",
            "showgrid": false,
            "showline": true,
            "ticks": "outside"
           }
          },
          "scene": {
           "xaxis": {
            "backgroundcolor": "white",
            "gridcolor": "rgb(232,232,232)",
            "gridwidth": 2,
            "linecolor": "rgb(36,36,36)",
            "showbackground": true,
            "showgrid": false,
            "showline": true,
            "ticks": "outside",
            "zeroline": false,
            "zerolinecolor": "rgb(36,36,36)"
           },
           "yaxis": {
            "backgroundcolor": "white",
            "gridcolor": "rgb(232,232,232)",
            "gridwidth": 2,
            "linecolor": "rgb(36,36,36)",
            "showbackground": true,
            "showgrid": false,
            "showline": true,
            "ticks": "outside",
            "zeroline": false,
            "zerolinecolor": "rgb(36,36,36)"
           },
           "zaxis": {
            "backgroundcolor": "white",
            "gridcolor": "rgb(232,232,232)",
            "gridwidth": 2,
            "linecolor": "rgb(36,36,36)",
            "showbackground": true,
            "showgrid": false,
            "showline": true,
            "ticks": "outside",
            "zeroline": false,
            "zerolinecolor": "rgb(36,36,36)"
           }
          },
          "shapedefaults": {
           "fillcolor": "black",
           "line": {
            "width": 0
           },
           "opacity": 0.3
          },
          "ternary": {
           "aaxis": {
            "gridcolor": "rgb(232,232,232)",
            "linecolor": "rgb(36,36,36)",
            "showgrid": false,
            "showline": true,
            "ticks": "outside"
           },
           "baxis": {
            "gridcolor": "rgb(232,232,232)",
            "linecolor": "rgb(36,36,36)",
            "showgrid": false,
            "showline": true,
            "ticks": "outside"
           },
           "bgcolor": "white",
           "caxis": {
            "gridcolor": "rgb(232,232,232)",
            "linecolor": "rgb(36,36,36)",
            "showgrid": false,
            "showline": true,
            "ticks": "outside"
           }
          },
          "title": {
           "x": 0.05
          },
          "xaxis": {
           "automargin": true,
           "gridcolor": "rgb(232,232,232)",
           "linecolor": "rgb(36,36,36)",
           "showgrid": false,
           "showline": true,
           "ticks": "outside",
           "title": {
            "standoff": 15
           },
           "zeroline": false,
           "zerolinecolor": "rgb(36,36,36)"
          },
          "yaxis": {
           "automargin": true,
           "gridcolor": "rgb(232,232,232)",
           "linecolor": "rgb(36,36,36)",
           "showgrid": false,
           "showline": true,
           "ticks": "outside",
           "title": {
            "standoff": 15
           },
           "zeroline": false,
           "zerolinecolor": "rgb(36,36,36)"
          }
         }
        },
        "title": {
         "text": "Total CO₂ Emissions by Scenario Group (Shaded Bands)"
        },
        "xaxis": {
         "title": {
          "text": "Year"
         }
        },
        "yaxis": {
         "title": {
          "text": "CO₂ Emissions (kt)"
         }
        }
       }
      }
     },
     "metadata": {},
     "output_type": "display_data"
    }
   ],
   "source": [
    "group_colors = {\n",
    "    'CPP': 'rgba(255, 255, 0, 0.2)',        # blue with 20% opacity\n",
    "    'BASE': 'rgba(0, 0, 255, 0.2)',         # yellow\n",
    "    'High Carbon': 'rgba(255, 0, 0, 0.2)',# red\n",
    "    'Low Carbon': 'rgba(0, 128, 0, 0.2)', # green\n",
    "    'Other': 'rgba(128, 128, 128, 0.2)'   # gray\n",
    "}\n",
    "\n",
    "line_colors = {\n",
    "    'CPP': 'Yellow',\n",
    "    'BASE': 'Blue',\n",
    "    'High Carbon': 'red',\n",
    "    'Low Carbon': 'green',\n",
    "    'Other': 'gray'\n",
    "}\n",
    "\n",
    "fig = go.Figure()\n",
    "\n",
    "\n",
    "for group in group_stats['ScenarioGroup'].unique():\n",
    "    data = group_stats[group_stats['ScenarioGroup'] == group]\n",
    "    fill_color = group_colors.get(group, 'rgba(128,128,128,0.9)')\n",
    "    line_color = line_colors.get(group, 'gray')\n",
    "\n",
    "    # Shaded band\n",
    "    fig.add_trace(go.Scatter(\n",
    "        x=pd.concat([data['Year'], data['Year'][::-1]]),\n",
    "        y=pd.concat([data['Emissions_min'], data['Emissions_max'][::-1]]),\n",
    "        fill='toself',\n",
    "        fillcolor=fill_color,\n",
    "        line=dict(color='rgba(255,255,255,0)'),  # no border\n",
    "        name=f'{group} Range',\n",
    "        showlegend=True\n",
    "    ))\n",
    "\n",
    "    # Mean line\n",
    "    fig.add_trace(go.Scatter(\n",
    "        x=data['Year'],\n",
    "        y=data['Emissions_mean'],\n",
    "        mode='lines',\n",
    "        line=dict(color=line_color, width=2),\n",
    "        name=f'{group} Mean'\n",
    "    ))\n",
    "\n",
    "\n",
    "fig.update_layout(\n",
    "    title='Total CO₂ Emissions by Scenario Group (Shaded Bands)',\n",
    "    xaxis_title='Year',\n",
    "    yaxis_title='CO₂ Emissions (kt)',\n",
    "    template='simple_white',\n",
    "    font=dict(family='Arial', size=12),\n",
    "    legend=dict(\n",
    "        orientation=\"h\",\n",
    "        yanchor=\"bottom\",\n",
    "        y=-0.25,\n",
    "        xanchor=\"center\",\n",
    "        x=0.5\n",
    "    ),\n",
    "    margin=dict(l=60, r=30, t=60, b=60)\n",
    ")\n",
    "\n",
    "\n",
    "#Write to file\n",
    "fig.write_image(f\"{output_dir}/fig2_shadedbands.jpeg\")\n",
    "group_stats.to_csv(f\"{output_dir}/fig2_data.csv\", index=False)\n",
    "fig.show()"
   ]
  },
  {
   "cell_type": "markdown",
   "id": "bd987093",
   "metadata": {},
   "source": [
    "## Figure 3: change in emissions to 2035 by sector"
   ]
  },
  {
   "cell_type": "code",
   "execution_count": null,
   "id": "eec99b96",
   "metadata": {},
   "outputs": [
    {
     "data": {
      "application/vnd.plotly.v1+json": {
       "config": {
        "plotlyServerURL": "https://plot.ly"
       },
       "data": [
        {
         "marker": {
          "color": "red",
          "size": 10,
          "symbol": "circle"
         },
         "mode": "markers",
         "name": "2024",
         "type": "scatter",
         "x": {
          "bdata": "vmujKN/t+EDGT03ckKHiQOevMP4PDAdBYbXa2ksL6UBltObZSpbsQA==",
          "dtype": "f8"
         },
         "y": [
          "All others (-9286)",
          "Industry (5745)",
          "Power (-57219)",
          "Refineries (-12280)",
          "Transport (-9775)"
         ]
        },
        {
         "marker": {
          "color": "blue",
          "size": 10,
          "symbol": "x"
         },
         "mode": "markers",
         "name": "2035",
         "type": "scatter",
         "x": {
          "bdata": "0Zj6Z3+p9kCiuNbroW/lQI90oU75DwBBLt2+w1gM40DQna0oXtDnQA==",
          "dtype": "f8"
         },
         "y": [
          "All others (-9286)",
          "Industry (5745)",
          "Power (-57219)",
          "Refineries (-12280)",
          "Transport (-9775)"
         ]
        }
       ],
       "layout": {
        "font": {
         "family": "Arial",
         "size": 14
        },
        "legend": {
         "orientation": "h",
         "x": 0.5,
         "xanchor": "center",
         "y": -0.3,
         "yanchor": "bottom"
        },
        "margin": {
         "b": 100,
         "l": 60,
         "r": 30,
         "t": 60
        },
        "template": {
         "data": {
          "bar": [
           {
            "error_x": {
             "color": "rgb(36,36,36)"
            },
            "error_y": {
             "color": "rgb(36,36,36)"
            },
            "marker": {
             "line": {
              "color": "white",
              "width": 0.5
             },
             "pattern": {
              "fillmode": "overlay",
              "size": 10,
              "solidity": 0.2
             }
            },
            "type": "bar"
           }
          ],
          "barpolar": [
           {
            "marker": {
             "line": {
              "color": "white",
              "width": 0.5
             },
             "pattern": {
              "fillmode": "overlay",
              "size": 10,
              "solidity": 0.2
             }
            },
            "type": "barpolar"
           }
          ],
          "carpet": [
           {
            "aaxis": {
             "endlinecolor": "rgb(36,36,36)",
             "gridcolor": "white",
             "linecolor": "white",
             "minorgridcolor": "white",
             "startlinecolor": "rgb(36,36,36)"
            },
            "baxis": {
             "endlinecolor": "rgb(36,36,36)",
             "gridcolor": "white",
             "linecolor": "white",
             "minorgridcolor": "white",
             "startlinecolor": "rgb(36,36,36)"
            },
            "type": "carpet"
           }
          ],
          "choropleth": [
           {
            "colorbar": {
             "outlinewidth": 1,
             "tickcolor": "rgb(36,36,36)",
             "ticks": "outside"
            },
            "type": "choropleth"
           }
          ],
          "contour": [
           {
            "colorbar": {
             "outlinewidth": 1,
             "tickcolor": "rgb(36,36,36)",
             "ticks": "outside"
            },
            "colorscale": [
             [
              0,
              "#440154"
             ],
             [
              0.1111111111111111,
              "#482878"
             ],
             [
              0.2222222222222222,
              "#3e4989"
             ],
             [
              0.3333333333333333,
              "#31688e"
             ],
             [
              0.4444444444444444,
              "#26828e"
             ],
             [
              0.5555555555555556,
              "#1f9e89"
             ],
             [
              0.6666666666666666,
              "#35b779"
             ],
             [
              0.7777777777777778,
              "#6ece58"
             ],
             [
              0.8888888888888888,
              "#b5de2b"
             ],
             [
              1,
              "#fde725"
             ]
            ],
            "type": "contour"
           }
          ],
          "contourcarpet": [
           {
            "colorbar": {
             "outlinewidth": 1,
             "tickcolor": "rgb(36,36,36)",
             "ticks": "outside"
            },
            "type": "contourcarpet"
           }
          ],
          "heatmap": [
           {
            "colorbar": {
             "outlinewidth": 1,
             "tickcolor": "rgb(36,36,36)",
             "ticks": "outside"
            },
            "colorscale": [
             [
              0,
              "#440154"
             ],
             [
              0.1111111111111111,
              "#482878"
             ],
             [
              0.2222222222222222,
              "#3e4989"
             ],
             [
              0.3333333333333333,
              "#31688e"
             ],
             [
              0.4444444444444444,
              "#26828e"
             ],
             [
              0.5555555555555556,
              "#1f9e89"
             ],
             [
              0.6666666666666666,
              "#35b779"
             ],
             [
              0.7777777777777778,
              "#6ece58"
             ],
             [
              0.8888888888888888,
              "#b5de2b"
             ],
             [
              1,
              "#fde725"
             ]
            ],
            "type": "heatmap"
           }
          ],
          "histogram": [
           {
            "marker": {
             "line": {
              "color": "white",
              "width": 0.6
             }
            },
            "type": "histogram"
           }
          ],
          "histogram2d": [
           {
            "colorbar": {
             "outlinewidth": 1,
             "tickcolor": "rgb(36,36,36)",
             "ticks": "outside"
            },
            "colorscale": [
             [
              0,
              "#440154"
             ],
             [
              0.1111111111111111,
              "#482878"
             ],
             [
              0.2222222222222222,
              "#3e4989"
             ],
             [
              0.3333333333333333,
              "#31688e"
             ],
             [
              0.4444444444444444,
              "#26828e"
             ],
             [
              0.5555555555555556,
              "#1f9e89"
             ],
             [
              0.6666666666666666,
              "#35b779"
             ],
             [
              0.7777777777777778,
              "#6ece58"
             ],
             [
              0.8888888888888888,
              "#b5de2b"
             ],
             [
              1,
              "#fde725"
             ]
            ],
            "type": "histogram2d"
           }
          ],
          "histogram2dcontour": [
           {
            "colorbar": {
             "outlinewidth": 1,
             "tickcolor": "rgb(36,36,36)",
             "ticks": "outside"
            },
            "colorscale": [
             [
              0,
              "#440154"
             ],
             [
              0.1111111111111111,
              "#482878"
             ],
             [
              0.2222222222222222,
              "#3e4989"
             ],
             [
              0.3333333333333333,
              "#31688e"
             ],
             [
              0.4444444444444444,
              "#26828e"
             ],
             [
              0.5555555555555556,
              "#1f9e89"
             ],
             [
              0.6666666666666666,
              "#35b779"
             ],
             [
              0.7777777777777778,
              "#6ece58"
             ],
             [
              0.8888888888888888,
              "#b5de2b"
             ],
             [
              1,
              "#fde725"
             ]
            ],
            "type": "histogram2dcontour"
           }
          ],
          "mesh3d": [
           {
            "colorbar": {
             "outlinewidth": 1,
             "tickcolor": "rgb(36,36,36)",
             "ticks": "outside"
            },
            "type": "mesh3d"
           }
          ],
          "parcoords": [
           {
            "line": {
             "colorbar": {
              "outlinewidth": 1,
              "tickcolor": "rgb(36,36,36)",
              "ticks": "outside"
             }
            },
            "type": "parcoords"
           }
          ],
          "pie": [
           {
            "automargin": true,
            "type": "pie"
           }
          ],
          "scatter": [
           {
            "fillpattern": {
             "fillmode": "overlay",
             "size": 10,
             "solidity": 0.2
            },
            "type": "scatter"
           }
          ],
          "scatter3d": [
           {
            "line": {
             "colorbar": {
              "outlinewidth": 1,
              "tickcolor": "rgb(36,36,36)",
              "ticks": "outside"
             }
            },
            "marker": {
             "colorbar": {
              "outlinewidth": 1,
              "tickcolor": "rgb(36,36,36)",
              "ticks": "outside"
             }
            },
            "type": "scatter3d"
           }
          ],
          "scattercarpet": [
           {
            "marker": {
             "colorbar": {
              "outlinewidth": 1,
              "tickcolor": "rgb(36,36,36)",
              "ticks": "outside"
             }
            },
            "type": "scattercarpet"
           }
          ],
          "scattergeo": [
           {
            "marker": {
             "colorbar": {
              "outlinewidth": 1,
              "tickcolor": "rgb(36,36,36)",
              "ticks": "outside"
             }
            },
            "type": "scattergeo"
           }
          ],
          "scattergl": [
           {
            "marker": {
             "colorbar": {
              "outlinewidth": 1,
              "tickcolor": "rgb(36,36,36)",
              "ticks": "outside"
             }
            },
            "type": "scattergl"
           }
          ],
          "scattermap": [
           {
            "marker": {
             "colorbar": {
              "outlinewidth": 1,
              "tickcolor": "rgb(36,36,36)",
              "ticks": "outside"
             }
            },
            "type": "scattermap"
           }
          ],
          "scattermapbox": [
           {
            "marker": {
             "colorbar": {
              "outlinewidth": 1,
              "tickcolor": "rgb(36,36,36)",
              "ticks": "outside"
             }
            },
            "type": "scattermapbox"
           }
          ],
          "scatterpolar": [
           {
            "marker": {
             "colorbar": {
              "outlinewidth": 1,
              "tickcolor": "rgb(36,36,36)",
              "ticks": "outside"
             }
            },
            "type": "scatterpolar"
           }
          ],
          "scatterpolargl": [
           {
            "marker": {
             "colorbar": {
              "outlinewidth": 1,
              "tickcolor": "rgb(36,36,36)",
              "ticks": "outside"
             }
            },
            "type": "scatterpolargl"
           }
          ],
          "scatterternary": [
           {
            "marker": {
             "colorbar": {
              "outlinewidth": 1,
              "tickcolor": "rgb(36,36,36)",
              "ticks": "outside"
             }
            },
            "type": "scatterternary"
           }
          ],
          "surface": [
           {
            "colorbar": {
             "outlinewidth": 1,
             "tickcolor": "rgb(36,36,36)",
             "ticks": "outside"
            },
            "colorscale": [
             [
              0,
              "#440154"
             ],
             [
              0.1111111111111111,
              "#482878"
             ],
             [
              0.2222222222222222,
              "#3e4989"
             ],
             [
              0.3333333333333333,
              "#31688e"
             ],
             [
              0.4444444444444444,
              "#26828e"
             ],
             [
              0.5555555555555556,
              "#1f9e89"
             ],
             [
              0.6666666666666666,
              "#35b779"
             ],
             [
              0.7777777777777778,
              "#6ece58"
             ],
             [
              0.8888888888888888,
              "#b5de2b"
             ],
             [
              1,
              "#fde725"
             ]
            ],
            "type": "surface"
           }
          ],
          "table": [
           {
            "cells": {
             "fill": {
              "color": "rgb(237,237,237)"
             },
             "line": {
              "color": "white"
             }
            },
            "header": {
             "fill": {
              "color": "rgb(217,217,217)"
             },
             "line": {
              "color": "white"
             }
            },
            "type": "table"
           }
          ]
         },
         "layout": {
          "annotationdefaults": {
           "arrowhead": 0,
           "arrowwidth": 1
          },
          "autotypenumbers": "strict",
          "coloraxis": {
           "colorbar": {
            "outlinewidth": 1,
            "tickcolor": "rgb(36,36,36)",
            "ticks": "outside"
           }
          },
          "colorscale": {
           "diverging": [
            [
             0,
             "rgb(103,0,31)"
            ],
            [
             0.1,
             "rgb(178,24,43)"
            ],
            [
             0.2,
             "rgb(214,96,77)"
            ],
            [
             0.3,
             "rgb(244,165,130)"
            ],
            [
             0.4,
             "rgb(253,219,199)"
            ],
            [
             0.5,
             "rgb(247,247,247)"
            ],
            [
             0.6,
             "rgb(209,229,240)"
            ],
            [
             0.7,
             "rgb(146,197,222)"
            ],
            [
             0.8,
             "rgb(67,147,195)"
            ],
            [
             0.9,
             "rgb(33,102,172)"
            ],
            [
             1,
             "rgb(5,48,97)"
            ]
           ],
           "sequential": [
            [
             0,
             "#440154"
            ],
            [
             0.1111111111111111,
             "#482878"
            ],
            [
             0.2222222222222222,
             "#3e4989"
            ],
            [
             0.3333333333333333,
             "#31688e"
            ],
            [
             0.4444444444444444,
             "#26828e"
            ],
            [
             0.5555555555555556,
             "#1f9e89"
            ],
            [
             0.6666666666666666,
             "#35b779"
            ],
            [
             0.7777777777777778,
             "#6ece58"
            ],
            [
             0.8888888888888888,
             "#b5de2b"
            ],
            [
             1,
             "#fde725"
            ]
           ],
           "sequentialminus": [
            [
             0,
             "#440154"
            ],
            [
             0.1111111111111111,
             "#482878"
            ],
            [
             0.2222222222222222,
             "#3e4989"
            ],
            [
             0.3333333333333333,
             "#31688e"
            ],
            [
             0.4444444444444444,
             "#26828e"
            ],
            [
             0.5555555555555556,
             "#1f9e89"
            ],
            [
             0.6666666666666666,
             "#35b779"
            ],
            [
             0.7777777777777778,
             "#6ece58"
            ],
            [
             0.8888888888888888,
             "#b5de2b"
            ],
            [
             1,
             "#fde725"
            ]
           ]
          },
          "colorway": [
           "#1F77B4",
           "#FF7F0E",
           "#2CA02C",
           "#D62728",
           "#9467BD",
           "#8C564B",
           "#E377C2",
           "#7F7F7F",
           "#BCBD22",
           "#17BECF"
          ],
          "font": {
           "color": "rgb(36,36,36)"
          },
          "geo": {
           "bgcolor": "white",
           "lakecolor": "white",
           "landcolor": "white",
           "showlakes": true,
           "showland": true,
           "subunitcolor": "white"
          },
          "hoverlabel": {
           "align": "left"
          },
          "hovermode": "closest",
          "mapbox": {
           "style": "light"
          },
          "paper_bgcolor": "white",
          "plot_bgcolor": "white",
          "polar": {
           "angularaxis": {
            "gridcolor": "rgb(232,232,232)",
            "linecolor": "rgb(36,36,36)",
            "showgrid": false,
            "showline": true,
            "ticks": "outside"
           },
           "bgcolor": "white",
           "radialaxis": {
            "gridcolor": "rgb(232,232,232)",
            "linecolor": "rgb(36,36,36)",
            "showgrid": false,
            "showline": true,
            "ticks": "outside"
           }
          },
          "scene": {
           "xaxis": {
            "backgroundcolor": "white",
            "gridcolor": "rgb(232,232,232)",
            "gridwidth": 2,
            "linecolor": "rgb(36,36,36)",
            "showbackground": true,
            "showgrid": false,
            "showline": true,
            "ticks": "outside",
            "zeroline": false,
            "zerolinecolor": "rgb(36,36,36)"
           },
           "yaxis": {
            "backgroundcolor": "white",
            "gridcolor": "rgb(232,232,232)",
            "gridwidth": 2,
            "linecolor": "rgb(36,36,36)",
            "showbackground": true,
            "showgrid": false,
            "showline": true,
            "ticks": "outside",
            "zeroline": false,
            "zerolinecolor": "rgb(36,36,36)"
           },
           "zaxis": {
            "backgroundcolor": "white",
            "gridcolor": "rgb(232,232,232)",
            "gridwidth": 2,
            "linecolor": "rgb(36,36,36)",
            "showbackground": true,
            "showgrid": false,
            "showline": true,
            "ticks": "outside",
            "zeroline": false,
            "zerolinecolor": "rgb(36,36,36)"
           }
          },
          "shapedefaults": {
           "fillcolor": "black",
           "line": {
            "width": 0
           },
           "opacity": 0.3
          },
          "ternary": {
           "aaxis": {
            "gridcolor": "rgb(232,232,232)",
            "linecolor": "rgb(36,36,36)",
            "showgrid": false,
            "showline": true,
            "ticks": "outside"
           },
           "baxis": {
            "gridcolor": "rgb(232,232,232)",
            "linecolor": "rgb(36,36,36)",
            "showgrid": false,
            "showline": true,
            "ticks": "outside"
           },
           "bgcolor": "white",
           "caxis": {
            "gridcolor": "rgb(232,232,232)",
            "linecolor": "rgb(36,36,36)",
            "showgrid": false,
            "showline": true,
            "ticks": "outside"
           }
          },
          "title": {
           "x": 0.05
          },
          "xaxis": {
           "automargin": true,
           "gridcolor": "rgb(232,232,232)",
           "linecolor": "rgb(36,36,36)",
           "showgrid": false,
           "showline": true,
           "ticks": "outside",
           "title": {
            "standoff": 15
           },
           "zeroline": false,
           "zerolinecolor": "rgb(36,36,36)"
          },
          "yaxis": {
           "automargin": true,
           "gridcolor": "rgb(232,232,232)",
           "linecolor": "rgb(36,36,36)",
           "showgrid": false,
           "showline": true,
           "ticks": "outside",
           "title": {
            "standoff": 15
           },
           "zeroline": false,
           "zerolinecolor": "rgb(36,36,36)"
          }
         }
        },
        "title": {
         "text": "Fig 3: NDC_BASE-RG Emissions by Aggregate Sector Group (Sorted by Δ 2035-2024)"
        },
        "xaxis": {
         "title": {
          "text": "CO₂eq (kt)"
         }
        },
        "yaxis": {
         "categoryarray": [
          "Industry (5745)",
          "All others (-9286)",
          "Transport (-9775)",
          "Refineries (-12280)",
          "Power (-57219)"
         ],
         "categoryorder": "array",
         "title": {
          "text": "Sector Group (Δ 2035–2024)"
         }
        }
       }
      }
     },
     "metadata": {},
     "output_type": "display_data"
    }
   ],
   "source": [
    "# --- Fig 3: NDC_BASE-RG aggregated and sorted sector groups for 2024 and 2035 ---\n",
    "\n",
    "# Step 1: Filter and group sectors\n",
    "subset_df = df[\n",
    "    (df['CO2eq'] != 0.0) &\n",
    "    (df['Scenario'] == 'NDC_BASE-RG') &\n",
    "    (df['Year'].isin([2024, 2035]))\n",
    "].copy()\n",
    "\n",
    "def map_sector_group(sector):\n",
    "    if sector in ['Industry', 'Process emissions']:\n",
    "        return 'Industry'\n",
    "    elif sector == 'Power':\n",
    "        return 'Power'\n",
    "    elif sector == 'Transport':\n",
    "        return 'Transport'\n",
    "    elif sector == 'Refineries':\n",
    "        return 'Refineries'\n",
    "    else:\n",
    "        return 'All others'\n",
    "\n",
    "subset_df['SectorGroup'] = subset_df['Sector'].apply(map_sector_group)\n",
    "\n",
    "# Step 2: Aggregate emissions\n",
    "fig3_data = subset_df.groupby(['Year', 'SectorGroup'])['CO2eq'].sum().reset_index()\n",
    "\n",
    "# Step 3: Calculate differences and formatted labels\n",
    "pivot_df = fig3_data.pivot(index='SectorGroup', columns='Year', values='CO2eq').fillna(0)\n",
    "pivot_df['diff'] = pivot_df[2035] - pivot_df[2024]\n",
    "pivot_df['label'] = pivot_df.index + ' (' + pivot_df['diff'].round(0).astype(int).astype(str) + ')'\n",
    "label_map = pivot_df['label'].to_dict()\n",
    "\n",
    "# Step 4: Map new labels to fig3_data\n",
    "fig3_data['SectorLabel'] = fig3_data['SectorGroup'].map(label_map)\n",
    "\n",
    "# Step 5: Sort order\n",
    "ordered_labels = fig3_data[fig3_data['Year'] == 2035][['SectorGroup', 'SectorLabel']]\n",
    "ordered_labels['abs_diff'] = ordered_labels['SectorGroup'].map(pivot_df['diff'].abs())\n",
    "ordered_labels = ordered_labels.drop_duplicates().sort_values('abs_diff')\n",
    "ordered_label_list = ordered_labels['SectorLabel'].tolist()\n",
    "\n",
    "# Step 6: Plot\n",
    "fig3 = go.Figure()\n",
    "\n",
    "# 2024: red circle\n",
    "subset_2024 = fig3_data[fig3_data['Year'] == 2024]\n",
    "fig3.add_trace(go.Scatter(\n",
    "    x=subset_2024['CO2eq'],\n",
    "    y=subset_2024['SectorLabel'],\n",
    "    mode='markers',\n",
    "    name='2024',\n",
    "    marker=dict(size=10, color='red', symbol='circle')\n",
    "))\n",
    "\n",
    "# 2035: blue X\n",
    "subset_2035 = fig3_data[fig3_data['Year'] == 2035]\n",
    "fig3.add_trace(go.Scatter(\n",
    "    x=subset_2035['CO2eq'],\n",
    "    y=subset_2035['SectorLabel'],\n",
    "    mode='markers',\n",
    "    name='2035',\n",
    "    marker=dict(size=10, color='blue', symbol='x')\n",
    "))\n",
    "\n",
    "# Step 7: Layout\n",
    "fig3.update_layout(\n",
    "    title=\"Fig 3: NDC_BASE-RG Emissions by Aggregate Sector Group (Sorted by Δ 2035-2024)\",\n",
    "    xaxis_title=\"CO₂eq (kt)\",\n",
    "    yaxis_title=\"Sector Group (Δ 2035–2024)\",\n",
    "    yaxis=dict(categoryorder='array', categoryarray=ordered_label_list),\n",
    "    template=\"simple_white\",\n",
    "    font=dict(family=\"Arial\", size=14),\n",
    "    margin=dict(l=60, r=30, t=60, b=100),\n",
    "    legend=dict(orientation=\"h\", yanchor=\"bottom\", y=-0.3, xanchor=\"center\", x=0.5)\n",
    ")\n",
    "\n",
    "fig3.show()\n",
    "fig3.write_image(f\"{output_dir}/fig3_ndc_emissions_by_sector.jpeg\")\n",
    "fig3_data.to_csv(f\"{output_dir}/fig3_data.csv\", index=False)"
   ]
  },
  {
   "cell_type": "markdown",
   "id": "cb43ffd8",
   "metadata": {},
   "source": [
    "### Figure 3b: as a bar plot"
   ]
  },
  {
   "cell_type": "code",
   "execution_count": null,
   "id": "1c25db3a",
   "metadata": {},
   "outputs": [
    {
     "data": {
      "application/vnd.plotly.v1+json": {
       "config": {
        "plotlyServerURL": "https://plot.ly"
       },
       "data": [
        {
         "marker": {
          "color": "red"
         },
         "name": "2024",
         "orientation": "h",
         "type": "bar",
         "x": {
          "bdata": "vmujKN/t+EDGT03ckKHiQOevMP4PDAdBYbXa2ksL6UBltObZSpbsQA==",
          "dtype": "f8"
         },
         "y": [
          "All others (-9286)",
          "Industry (5745)",
          "Power (-57219)",
          "Refineries (-12280)",
          "Transport (-9775)"
         ]
        },
        {
         "marker": {
          "color": "blue"
         },
         "name": "2035",
         "orientation": "h",
         "type": "bar",
         "x": {
          "bdata": "0Zj6Z3+p9kCiuNbroW/lQI90oU75DwBBLt2+w1gM40DQna0oXtDnQA==",
          "dtype": "f8"
         },
         "y": [
          "All others (-9286)",
          "Industry (5745)",
          "Power (-57219)",
          "Refineries (-12280)",
          "Transport (-9775)"
         ]
        }
       ],
       "layout": {
        "barmode": "group",
        "font": {
         "family": "Arial",
         "size": 14
        },
        "legend": {
         "orientation": "h",
         "x": 0.5,
         "xanchor": "center",
         "y": -0.3,
         "yanchor": "bottom"
        },
        "margin": {
         "b": 100,
         "l": 60,
         "r": 30,
         "t": 60
        },
        "template": {
         "data": {
          "bar": [
           {
            "error_x": {
             "color": "rgb(36,36,36)"
            },
            "error_y": {
             "color": "rgb(36,36,36)"
            },
            "marker": {
             "line": {
              "color": "white",
              "width": 0.5
             },
             "pattern": {
              "fillmode": "overlay",
              "size": 10,
              "solidity": 0.2
             }
            },
            "type": "bar"
           }
          ],
          "barpolar": [
           {
            "marker": {
             "line": {
              "color": "white",
              "width": 0.5
             },
             "pattern": {
              "fillmode": "overlay",
              "size": 10,
              "solidity": 0.2
             }
            },
            "type": "barpolar"
           }
          ],
          "carpet": [
           {
            "aaxis": {
             "endlinecolor": "rgb(36,36,36)",
             "gridcolor": "white",
             "linecolor": "white",
             "minorgridcolor": "white",
             "startlinecolor": "rgb(36,36,36)"
            },
            "baxis": {
             "endlinecolor": "rgb(36,36,36)",
             "gridcolor": "white",
             "linecolor": "white",
             "minorgridcolor": "white",
             "startlinecolor": "rgb(36,36,36)"
            },
            "type": "carpet"
           }
          ],
          "choropleth": [
           {
            "colorbar": {
             "outlinewidth": 1,
             "tickcolor": "rgb(36,36,36)",
             "ticks": "outside"
            },
            "type": "choropleth"
           }
          ],
          "contour": [
           {
            "colorbar": {
             "outlinewidth": 1,
             "tickcolor": "rgb(36,36,36)",
             "ticks": "outside"
            },
            "colorscale": [
             [
              0,
              "#440154"
             ],
             [
              0.1111111111111111,
              "#482878"
             ],
             [
              0.2222222222222222,
              "#3e4989"
             ],
             [
              0.3333333333333333,
              "#31688e"
             ],
             [
              0.4444444444444444,
              "#26828e"
             ],
             [
              0.5555555555555556,
              "#1f9e89"
             ],
             [
              0.6666666666666666,
              "#35b779"
             ],
             [
              0.7777777777777778,
              "#6ece58"
             ],
             [
              0.8888888888888888,
              "#b5de2b"
             ],
             [
              1,
              "#fde725"
             ]
            ],
            "type": "contour"
           }
          ],
          "contourcarpet": [
           {
            "colorbar": {
             "outlinewidth": 1,
             "tickcolor": "rgb(36,36,36)",
             "ticks": "outside"
            },
            "type": "contourcarpet"
           }
          ],
          "heatmap": [
           {
            "colorbar": {
             "outlinewidth": 1,
             "tickcolor": "rgb(36,36,36)",
             "ticks": "outside"
            },
            "colorscale": [
             [
              0,
              "#440154"
             ],
             [
              0.1111111111111111,
              "#482878"
             ],
             [
              0.2222222222222222,
              "#3e4989"
             ],
             [
              0.3333333333333333,
              "#31688e"
             ],
             [
              0.4444444444444444,
              "#26828e"
             ],
             [
              0.5555555555555556,
              "#1f9e89"
             ],
             [
              0.6666666666666666,
              "#35b779"
             ],
             [
              0.7777777777777778,
              "#6ece58"
             ],
             [
              0.8888888888888888,
              "#b5de2b"
             ],
             [
              1,
              "#fde725"
             ]
            ],
            "type": "heatmap"
           }
          ],
          "histogram": [
           {
            "marker": {
             "line": {
              "color": "white",
              "width": 0.6
             }
            },
            "type": "histogram"
           }
          ],
          "histogram2d": [
           {
            "colorbar": {
             "outlinewidth": 1,
             "tickcolor": "rgb(36,36,36)",
             "ticks": "outside"
            },
            "colorscale": [
             [
              0,
              "#440154"
             ],
             [
              0.1111111111111111,
              "#482878"
             ],
             [
              0.2222222222222222,
              "#3e4989"
             ],
             [
              0.3333333333333333,
              "#31688e"
             ],
             [
              0.4444444444444444,
              "#26828e"
             ],
             [
              0.5555555555555556,
              "#1f9e89"
             ],
             [
              0.6666666666666666,
              "#35b779"
             ],
             [
              0.7777777777777778,
              "#6ece58"
             ],
             [
              0.8888888888888888,
              "#b5de2b"
             ],
             [
              1,
              "#fde725"
             ]
            ],
            "type": "histogram2d"
           }
          ],
          "histogram2dcontour": [
           {
            "colorbar": {
             "outlinewidth": 1,
             "tickcolor": "rgb(36,36,36)",
             "ticks": "outside"
            },
            "colorscale": [
             [
              0,
              "#440154"
             ],
             [
              0.1111111111111111,
              "#482878"
             ],
             [
              0.2222222222222222,
              "#3e4989"
             ],
             [
              0.3333333333333333,
              "#31688e"
             ],
             [
              0.4444444444444444,
              "#26828e"
             ],
             [
              0.5555555555555556,
              "#1f9e89"
             ],
             [
              0.6666666666666666,
              "#35b779"
             ],
             [
              0.7777777777777778,
              "#6ece58"
             ],
             [
              0.8888888888888888,
              "#b5de2b"
             ],
             [
              1,
              "#fde725"
             ]
            ],
            "type": "histogram2dcontour"
           }
          ],
          "mesh3d": [
           {
            "colorbar": {
             "outlinewidth": 1,
             "tickcolor": "rgb(36,36,36)",
             "ticks": "outside"
            },
            "type": "mesh3d"
           }
          ],
          "parcoords": [
           {
            "line": {
             "colorbar": {
              "outlinewidth": 1,
              "tickcolor": "rgb(36,36,36)",
              "ticks": "outside"
             }
            },
            "type": "parcoords"
           }
          ],
          "pie": [
           {
            "automargin": true,
            "type": "pie"
           }
          ],
          "scatter": [
           {
            "fillpattern": {
             "fillmode": "overlay",
             "size": 10,
             "solidity": 0.2
            },
            "type": "scatter"
           }
          ],
          "scatter3d": [
           {
            "line": {
             "colorbar": {
              "outlinewidth": 1,
              "tickcolor": "rgb(36,36,36)",
              "ticks": "outside"
             }
            },
            "marker": {
             "colorbar": {
              "outlinewidth": 1,
              "tickcolor": "rgb(36,36,36)",
              "ticks": "outside"
             }
            },
            "type": "scatter3d"
           }
          ],
          "scattercarpet": [
           {
            "marker": {
             "colorbar": {
              "outlinewidth": 1,
              "tickcolor": "rgb(36,36,36)",
              "ticks": "outside"
             }
            },
            "type": "scattercarpet"
           }
          ],
          "scattergeo": [
           {
            "marker": {
             "colorbar": {
              "outlinewidth": 1,
              "tickcolor": "rgb(36,36,36)",
              "ticks": "outside"
             }
            },
            "type": "scattergeo"
           }
          ],
          "scattergl": [
           {
            "marker": {
             "colorbar": {
              "outlinewidth": 1,
              "tickcolor": "rgb(36,36,36)",
              "ticks": "outside"
             }
            },
            "type": "scattergl"
           }
          ],
          "scattermap": [
           {
            "marker": {
             "colorbar": {
              "outlinewidth": 1,
              "tickcolor": "rgb(36,36,36)",
              "ticks": "outside"
             }
            },
            "type": "scattermap"
           }
          ],
          "scattermapbox": [
           {
            "marker": {
             "colorbar": {
              "outlinewidth": 1,
              "tickcolor": "rgb(36,36,36)",
              "ticks": "outside"
             }
            },
            "type": "scattermapbox"
           }
          ],
          "scatterpolar": [
           {
            "marker": {
             "colorbar": {
              "outlinewidth": 1,
              "tickcolor": "rgb(36,36,36)",
              "ticks": "outside"
             }
            },
            "type": "scatterpolar"
           }
          ],
          "scatterpolargl": [
           {
            "marker": {
             "colorbar": {
              "outlinewidth": 1,
              "tickcolor": "rgb(36,36,36)",
              "ticks": "outside"
             }
            },
            "type": "scatterpolargl"
           }
          ],
          "scatterternary": [
           {
            "marker": {
             "colorbar": {
              "outlinewidth": 1,
              "tickcolor": "rgb(36,36,36)",
              "ticks": "outside"
             }
            },
            "type": "scatterternary"
           }
          ],
          "surface": [
           {
            "colorbar": {
             "outlinewidth": 1,
             "tickcolor": "rgb(36,36,36)",
             "ticks": "outside"
            },
            "colorscale": [
             [
              0,
              "#440154"
             ],
             [
              0.1111111111111111,
              "#482878"
             ],
             [
              0.2222222222222222,
              "#3e4989"
             ],
             [
              0.3333333333333333,
              "#31688e"
             ],
             [
              0.4444444444444444,
              "#26828e"
             ],
             [
              0.5555555555555556,
              "#1f9e89"
             ],
             [
              0.6666666666666666,
              "#35b779"
             ],
             [
              0.7777777777777778,
              "#6ece58"
             ],
             [
              0.8888888888888888,
              "#b5de2b"
             ],
             [
              1,
              "#fde725"
             ]
            ],
            "type": "surface"
           }
          ],
          "table": [
           {
            "cells": {
             "fill": {
              "color": "rgb(237,237,237)"
             },
             "line": {
              "color": "white"
             }
            },
            "header": {
             "fill": {
              "color": "rgb(217,217,217)"
             },
             "line": {
              "color": "white"
             }
            },
            "type": "table"
           }
          ]
         },
         "layout": {
          "annotationdefaults": {
           "arrowhead": 0,
           "arrowwidth": 1
          },
          "autotypenumbers": "strict",
          "coloraxis": {
           "colorbar": {
            "outlinewidth": 1,
            "tickcolor": "rgb(36,36,36)",
            "ticks": "outside"
           }
          },
          "colorscale": {
           "diverging": [
            [
             0,
             "rgb(103,0,31)"
            ],
            [
             0.1,
             "rgb(178,24,43)"
            ],
            [
             0.2,
             "rgb(214,96,77)"
            ],
            [
             0.3,
             "rgb(244,165,130)"
            ],
            [
             0.4,
             "rgb(253,219,199)"
            ],
            [
             0.5,
             "rgb(247,247,247)"
            ],
            [
             0.6,
             "rgb(209,229,240)"
            ],
            [
             0.7,
             "rgb(146,197,222)"
            ],
            [
             0.8,
             "rgb(67,147,195)"
            ],
            [
             0.9,
             "rgb(33,102,172)"
            ],
            [
             1,
             "rgb(5,48,97)"
            ]
           ],
           "sequential": [
            [
             0,
             "#440154"
            ],
            [
             0.1111111111111111,
             "#482878"
            ],
            [
             0.2222222222222222,
             "#3e4989"
            ],
            [
             0.3333333333333333,
             "#31688e"
            ],
            [
             0.4444444444444444,
             "#26828e"
            ],
            [
             0.5555555555555556,
             "#1f9e89"
            ],
            [
             0.6666666666666666,
             "#35b779"
            ],
            [
             0.7777777777777778,
             "#6ece58"
            ],
            [
             0.8888888888888888,
             "#b5de2b"
            ],
            [
             1,
             "#fde725"
            ]
           ],
           "sequentialminus": [
            [
             0,
             "#440154"
            ],
            [
             0.1111111111111111,
             "#482878"
            ],
            [
             0.2222222222222222,
             "#3e4989"
            ],
            [
             0.3333333333333333,
             "#31688e"
            ],
            [
             0.4444444444444444,
             "#26828e"
            ],
            [
             0.5555555555555556,
             "#1f9e89"
            ],
            [
             0.6666666666666666,
             "#35b779"
            ],
            [
             0.7777777777777778,
             "#6ece58"
            ],
            [
             0.8888888888888888,
             "#b5de2b"
            ],
            [
             1,
             "#fde725"
            ]
           ]
          },
          "colorway": [
           "#1F77B4",
           "#FF7F0E",
           "#2CA02C",
           "#D62728",
           "#9467BD",
           "#8C564B",
           "#E377C2",
           "#7F7F7F",
           "#BCBD22",
           "#17BECF"
          ],
          "font": {
           "color": "rgb(36,36,36)"
          },
          "geo": {
           "bgcolor": "white",
           "lakecolor": "white",
           "landcolor": "white",
           "showlakes": true,
           "showland": true,
           "subunitcolor": "white"
          },
          "hoverlabel": {
           "align": "left"
          },
          "hovermode": "closest",
          "mapbox": {
           "style": "light"
          },
          "paper_bgcolor": "white",
          "plot_bgcolor": "white",
          "polar": {
           "angularaxis": {
            "gridcolor": "rgb(232,232,232)",
            "linecolor": "rgb(36,36,36)",
            "showgrid": false,
            "showline": true,
            "ticks": "outside"
           },
           "bgcolor": "white",
           "radialaxis": {
            "gridcolor": "rgb(232,232,232)",
            "linecolor": "rgb(36,36,36)",
            "showgrid": false,
            "showline": true,
            "ticks": "outside"
           }
          },
          "scene": {
           "xaxis": {
            "backgroundcolor": "white",
            "gridcolor": "rgb(232,232,232)",
            "gridwidth": 2,
            "linecolor": "rgb(36,36,36)",
            "showbackground": true,
            "showgrid": false,
            "showline": true,
            "ticks": "outside",
            "zeroline": false,
            "zerolinecolor": "rgb(36,36,36)"
           },
           "yaxis": {
            "backgroundcolor": "white",
            "gridcolor": "rgb(232,232,232)",
            "gridwidth": 2,
            "linecolor": "rgb(36,36,36)",
            "showbackground": true,
            "showgrid": false,
            "showline": true,
            "ticks": "outside",
            "zeroline": false,
            "zerolinecolor": "rgb(36,36,36)"
           },
           "zaxis": {
            "backgroundcolor": "white",
            "gridcolor": "rgb(232,232,232)",
            "gridwidth": 2,
            "linecolor": "rgb(36,36,36)",
            "showbackground": true,
            "showgrid": false,
            "showline": true,
            "ticks": "outside",
            "zeroline": false,
            "zerolinecolor": "rgb(36,36,36)"
           }
          },
          "shapedefaults": {
           "fillcolor": "black",
           "line": {
            "width": 0
           },
           "opacity": 0.3
          },
          "ternary": {
           "aaxis": {
            "gridcolor": "rgb(232,232,232)",
            "linecolor": "rgb(36,36,36)",
            "showgrid": false,
            "showline": true,
            "ticks": "outside"
           },
           "baxis": {
            "gridcolor": "rgb(232,232,232)",
            "linecolor": "rgb(36,36,36)",
            "showgrid": false,
            "showline": true,
            "ticks": "outside"
           },
           "bgcolor": "white",
           "caxis": {
            "gridcolor": "rgb(232,232,232)",
            "linecolor": "rgb(36,36,36)",
            "showgrid": false,
            "showline": true,
            "ticks": "outside"
           }
          },
          "title": {
           "x": 0.05
          },
          "xaxis": {
           "automargin": true,
           "gridcolor": "rgb(232,232,232)",
           "linecolor": "rgb(36,36,36)",
           "showgrid": false,
           "showline": true,
           "ticks": "outside",
           "title": {
            "standoff": 15
           },
           "zeroline": false,
           "zerolinecolor": "rgb(36,36,36)"
          },
          "yaxis": {
           "automargin": true,
           "gridcolor": "rgb(232,232,232)",
           "linecolor": "rgb(36,36,36)",
           "showgrid": false,
           "showline": true,
           "ticks": "outside",
           "title": {
            "standoff": 15
           },
           "zeroline": false,
           "zerolinecolor": "rgb(36,36,36)"
          }
         }
        },
        "title": {
         "text": "Fig 3: NDC_BASE-RG Emissions by Aggregate Sector Group (Sorted by Δ 2035-2024)"
        },
        "xaxis": {
         "title": {
          "text": "CO₂eq (kt)"
         }
        },
        "yaxis": {
         "categoryarray": [
          "Industry (5745)",
          "All others (-9286)",
          "Transport (-9775)",
          "Refineries (-12280)",
          "Power (-57219)"
         ],
         "categoryorder": "array",
         "title": {
          "text": "Sector Group (Δ 2035–2024)"
         }
        }
       }
      }
     },
     "metadata": {},
     "output_type": "display_data"
    }
   ],
   "source": [
    "# --- Fig 3: NDC_BASE-RG aggregated and sorted sector groups as bar chart ---\n",
    "\n",
    "# Step 1: Filter and group sectors\n",
    "subset_df = df[\n",
    "    (df['CO2eq'] != 0.0) &\n",
    "    (df['Scenario'] == 'NDC_BASE-RG') &\n",
    "    (df['Year'].isin([2024, 2035]))\n",
    "].copy()\n",
    "\n",
    "def map_sector_group(sector):\n",
    "    if sector in ['Industry', 'Process emissions']:\n",
    "        return 'Industry'\n",
    "    elif sector == 'Power':\n",
    "        return 'Power'\n",
    "    elif sector == 'Transport':\n",
    "        return 'Transport'\n",
    "    elif sector == 'Refineries':\n",
    "        return 'Refineries'\n",
    "    else:\n",
    "        return 'All others'\n",
    "\n",
    "subset_df['SectorGroup'] = subset_df['Sector'].apply(map_sector_group)\n",
    "\n",
    "# Step 2: Aggregate emissions\n",
    "fig3_data = subset_df.groupby(['Year', 'SectorGroup'])['CO2eq'].sum().reset_index()\n",
    "\n",
    "# Step 3: Calculate differences and formatted labels\n",
    "pivot_df = fig3_data.pivot(index='SectorGroup', columns='Year', values='CO2eq').fillna(0)\n",
    "pivot_df['diff'] = pivot_df[2035] - pivot_df[2024]\n",
    "pivot_df['label'] = pivot_df.index + ' (' + pivot_df['diff'].round(0).astype(int).astype(str) + ')'\n",
    "label_map = pivot_df['label'].to_dict()\n",
    "\n",
    "# Step 4: Map new labels to fig3_data\n",
    "fig3_data['SectorLabel'] = fig3_data['SectorGroup'].map(label_map)\n",
    "\n",
    "# Step 5: Sort by absolute difference\n",
    "ordered_labels = fig3_data[fig3_data['Year'] == 2035][['SectorGroup', 'SectorLabel']]\n",
    "ordered_labels['abs_diff'] = ordered_labels['SectorGroup'].map(pivot_df['diff'].abs())\n",
    "ordered_labels = ordered_labels.drop_duplicates().sort_values('abs_diff')\n",
    "ordered_label_list = ordered_labels['SectorLabel'].tolist()\n",
    "\n",
    "# Step 6: Plot as bar chart\n",
    "fig3b = go.Figure()\n",
    "\n",
    "# 2024: red bar\n",
    "subset_2024 = fig3_data[fig3_data['Year'] == 2024]\n",
    "fig3b.add_trace(go.Bar(\n",
    "    x=subset_2024['CO2eq'],\n",
    "    y=subset_2024['SectorLabel'],\n",
    "    name='2024',\n",
    "    orientation='h',\n",
    "    marker_color='red'\n",
    "))\n",
    "\n",
    "# 2035: blue bar\n",
    "subset_2035 = fig3_data[fig3_data['Year'] == 2035]\n",
    "fig3b.add_trace(go.Bar(\n",
    "    x=subset_2035['CO2eq'],\n",
    "    y=subset_2035['SectorLabel'],\n",
    "    name='2035',\n",
    "    orientation='h',\n",
    "    marker_color='blue'\n",
    "))\n",
    "\n",
    "# Step 7: Layout\n",
    "fig3b.update_layout(\n",
    "    barmode='group',\n",
    "    title=\"Fig 3: NDC_BASE-RG Emissions by Aggregate Sector Group (Sorted by Δ 2035-2024)\",\n",
    "    xaxis_title=\"CO₂eq (kt)\",\n",
    "    yaxis_title=\"Sector Group (Δ 2035–2024)\",\n",
    "    yaxis=dict(categoryorder='array', categoryarray=ordered_label_list),\n",
    "    template=\"simple_white\",\n",
    "    font=dict(family=\"Arial\", size=14),\n",
    "    margin=dict(l=60, r=30, t=60, b=100),\n",
    "    legend=dict(orientation=\"h\", yanchor=\"bottom\", y=-0.3, xanchor=\"center\", x=0.5)\n",
    ")\n",
    "\n",
    "\n",
    "fig3b.show()\n",
    "fig3b.write_image(f\"{output_dir}/fig3b_ndc_emissions_by_sector.jpeg\")\n",
    "fig3b_data.to_csv(f\"{output_dir}/fig3b_data.csv\", index=False)\n",
    "\n"
   ]
  },
  {
   "cell_type": "markdown",
   "id": "5801041e",
   "metadata": {},
   "source": [
    "## Figure 4"
   ]
  },
  {
   "cell_type": "code",
   "execution_count": 82,
   "id": "469f55b0",
   "metadata": {},
   "outputs": [
    {
     "data": {
      "text/html": [
       "<div>\n",
       "<style scoped>\n",
       "    .dataframe tbody tr th:only-of-type {\n",
       "        vertical-align: middle;\n",
       "    }\n",
       "\n",
       "    .dataframe tbody tr th {\n",
       "        vertical-align: top;\n",
       "    }\n",
       "\n",
       "    .dataframe thead th {\n",
       "        text-align: right;\n",
       "    }\n",
       "</style>\n",
       "<table border=\"1\" class=\"dataframe\">\n",
       "  <thead>\n",
       "    <tr style=\"text-align: right;\">\n",
       "      <th></th>\n",
       "      <th>Process</th>\n",
       "      <th>Commodity</th>\n",
       "      <th>Year</th>\n",
       "      <th>Scenario</th>\n",
       "      <th>Indicator</th>\n",
       "      <th>SATIMGE</th>\n",
       "      <th>Sector</th>\n",
       "      <th>Subsector</th>\n",
       "      <th>Subsubsector</th>\n",
       "      <th>TechDescription</th>\n",
       "      <th>IPCC_Category_L1</th>\n",
       "      <th>IPCC_Category_L2</th>\n",
       "      <th>IPCC_Category_L3</th>\n",
       "      <th>IPCC_Category_L4</th>\n",
       "      <th>Description</th>\n",
       "      <th>Short Description</th>\n",
       "      <th>Commodity_Name</th>\n",
       "      <th>CO2eq</th>\n",
       "      <th>ScenarioFamily</th>\n",
       "    </tr>\n",
       "  </thead>\n",
       "  <tbody>\n",
       "    <tr>\n",
       "      <th>138</th>\n",
       "      <td>SATIMMarginals</td>\n",
       "      <td>CF4</td>\n",
       "      <td>2024</td>\n",
       "      <td>NDC_CPP4-08-RG</td>\n",
       "      <td>Marginals</td>\n",
       "      <td>-3798.909553</td>\n",
       "      <td>All</td>\n",
       "      <td>All</td>\n",
       "      <td>All</td>\n",
       "      <td>SATIMMarginals Annual</td>\n",
       "      <td>NaN</td>\n",
       "      <td>NaN</td>\n",
       "      <td>NaN</td>\n",
       "      <td>NaN</td>\n",
       "      <td>Industry Process emissions CF4</td>\n",
       "      <td>CF4</td>\n",
       "      <td>CF4</td>\n",
       "      <td>-0.0</td>\n",
       "      <td>CPP4 Variant</td>\n",
       "    </tr>\n",
       "    <tr>\n",
       "      <th>139</th>\n",
       "      <td>SATIMMarginals</td>\n",
       "      <td>CF4</td>\n",
       "      <td>2024</td>\n",
       "      <td>NDC_CPP4-085-RG</td>\n",
       "      <td>Marginals</td>\n",
       "      <td>-2304.482119</td>\n",
       "      <td>All</td>\n",
       "      <td>All</td>\n",
       "      <td>All</td>\n",
       "      <td>SATIMMarginals Annual</td>\n",
       "      <td>NaN</td>\n",
       "      <td>NaN</td>\n",
       "      <td>NaN</td>\n",
       "      <td>NaN</td>\n",
       "      <td>Industry Process emissions CF4</td>\n",
       "      <td>CF4</td>\n",
       "      <td>CF4</td>\n",
       "      <td>-0.0</td>\n",
       "      <td>CPP4 Variant</td>\n",
       "    </tr>\n",
       "    <tr>\n",
       "      <th>140</th>\n",
       "      <td>SATIMMarginals</td>\n",
       "      <td>CF4</td>\n",
       "      <td>2024</td>\n",
       "      <td>NDC_CPP4-09-RG</td>\n",
       "      <td>Marginals</td>\n",
       "      <td>-1087.177196</td>\n",
       "      <td>All</td>\n",
       "      <td>All</td>\n",
       "      <td>All</td>\n",
       "      <td>SATIMMarginals Annual</td>\n",
       "      <td>NaN</td>\n",
       "      <td>NaN</td>\n",
       "      <td>NaN</td>\n",
       "      <td>NaN</td>\n",
       "      <td>Industry Process emissions CF4</td>\n",
       "      <td>CF4</td>\n",
       "      <td>CF4</td>\n",
       "      <td>-0.0</td>\n",
       "      <td>CPP4 Variant</td>\n",
       "    </tr>\n",
       "    <tr>\n",
       "      <th>141</th>\n",
       "      <td>SATIMMarginals</td>\n",
       "      <td>CF4</td>\n",
       "      <td>2024</td>\n",
       "      <td>NDC_CPP3-075-RG</td>\n",
       "      <td>Marginals</td>\n",
       "      <td>-5925.639034</td>\n",
       "      <td>All</td>\n",
       "      <td>All</td>\n",
       "      <td>All</td>\n",
       "      <td>SATIMMarginals Annual</td>\n",
       "      <td>NaN</td>\n",
       "      <td>NaN</td>\n",
       "      <td>NaN</td>\n",
       "      <td>NaN</td>\n",
       "      <td>Industry Process emissions CF4</td>\n",
       "      <td>CF4</td>\n",
       "      <td>CF4</td>\n",
       "      <td>-0.0</td>\n",
       "      <td>CPP3</td>\n",
       "    </tr>\n",
       "    <tr>\n",
       "      <th>142</th>\n",
       "      <td>SATIMMarginals</td>\n",
       "      <td>CF4</td>\n",
       "      <td>2024</td>\n",
       "      <td>NDC_CPP3-08-RG</td>\n",
       "      <td>Marginals</td>\n",
       "      <td>-3848.301145</td>\n",
       "      <td>All</td>\n",
       "      <td>All</td>\n",
       "      <td>All</td>\n",
       "      <td>SATIMMarginals Annual</td>\n",
       "      <td>NaN</td>\n",
       "      <td>NaN</td>\n",
       "      <td>NaN</td>\n",
       "      <td>NaN</td>\n",
       "      <td>Industry Process emissions CF4</td>\n",
       "      <td>CF4</td>\n",
       "      <td>CF4</td>\n",
       "      <td>-0.0</td>\n",
       "      <td>CPP3</td>\n",
       "    </tr>\n",
       "    <tr>\n",
       "      <th>...</th>\n",
       "      <td>...</td>\n",
       "      <td>...</td>\n",
       "      <td>...</td>\n",
       "      <td>...</td>\n",
       "      <td>...</td>\n",
       "      <td>...</td>\n",
       "      <td>...</td>\n",
       "      <td>...</td>\n",
       "      <td>...</td>\n",
       "      <td>...</td>\n",
       "      <td>...</td>\n",
       "      <td>...</td>\n",
       "      <td>...</td>\n",
       "      <td>...</td>\n",
       "      <td>...</td>\n",
       "      <td>...</td>\n",
       "      <td>...</td>\n",
       "      <td>...</td>\n",
       "      <td>...</td>\n",
       "    </tr>\n",
       "    <tr>\n",
       "      <th>20051291</th>\n",
       "      <td>XUPSOCR</td>\n",
       "      <td>UPSOCR</td>\n",
       "      <td>2035</td>\n",
       "      <td>NDC_CPP4EKH-RG</td>\n",
       "      <td>FlowOut</td>\n",
       "      <td>362.745208</td>\n",
       "      <td>NaN</td>\n",
       "      <td>NaN</td>\n",
       "      <td>Other</td>\n",
       "      <td>Supply Sector Oil Crude                       ...</td>\n",
       "      <td>NaN</td>\n",
       "      <td>NaN</td>\n",
       "      <td>NaN</td>\n",
       "      <td>NaN</td>\n",
       "      <td>Supply Sector Oil Crude                       ...</td>\n",
       "      <td>Crude Oil</td>\n",
       "      <td>0</td>\n",
       "      <td>0.0</td>\n",
       "      <td>CPP4 Variant</td>\n",
       "    </tr>\n",
       "    <tr>\n",
       "      <th>20051292</th>\n",
       "      <td>XUPSOCR</td>\n",
       "      <td>UPSOCR</td>\n",
       "      <td>2035</td>\n",
       "      <td>NDC_CPP4EKH-HG</td>\n",
       "      <td>FlowOut</td>\n",
       "      <td>362.745208</td>\n",
       "      <td>NaN</td>\n",
       "      <td>NaN</td>\n",
       "      <td>Other</td>\n",
       "      <td>Supply Sector Oil Crude                       ...</td>\n",
       "      <td>NaN</td>\n",
       "      <td>NaN</td>\n",
       "      <td>NaN</td>\n",
       "      <td>NaN</td>\n",
       "      <td>Supply Sector Oil Crude                       ...</td>\n",
       "      <td>Crude Oil</td>\n",
       "      <td>0</td>\n",
       "      <td>0.0</td>\n",
       "      <td>CPP4 Variant</td>\n",
       "    </tr>\n",
       "    <tr>\n",
       "      <th>20051293</th>\n",
       "      <td>XUPSOCR</td>\n",
       "      <td>UPSOCR</td>\n",
       "      <td>2035</td>\n",
       "      <td>NDC_CPP4GE-RG</td>\n",
       "      <td>FlowOut</td>\n",
       "      <td>362.745208</td>\n",
       "      <td>NaN</td>\n",
       "      <td>NaN</td>\n",
       "      <td>Other</td>\n",
       "      <td>Supply Sector Oil Crude                       ...</td>\n",
       "      <td>NaN</td>\n",
       "      <td>NaN</td>\n",
       "      <td>NaN</td>\n",
       "      <td>NaN</td>\n",
       "      <td>Supply Sector Oil Crude                       ...</td>\n",
       "      <td>Crude Oil</td>\n",
       "      <td>0</td>\n",
       "      <td>0.0</td>\n",
       "      <td>CPP4 Variant</td>\n",
       "    </tr>\n",
       "    <tr>\n",
       "      <th>20051294</th>\n",
       "      <td>XUPSOCR</td>\n",
       "      <td>UPSOCR</td>\n",
       "      <td>2035</td>\n",
       "      <td>NDC_CPP4GE-09-RG</td>\n",
       "      <td>FlowOut</td>\n",
       "      <td>362.745208</td>\n",
       "      <td>NaN</td>\n",
       "      <td>NaN</td>\n",
       "      <td>Other</td>\n",
       "      <td>Supply Sector Oil Crude                       ...</td>\n",
       "      <td>NaN</td>\n",
       "      <td>NaN</td>\n",
       "      <td>NaN</td>\n",
       "      <td>NaN</td>\n",
       "      <td>Supply Sector Oil Crude                       ...</td>\n",
       "      <td>Crude Oil</td>\n",
       "      <td>0</td>\n",
       "      <td>0.0</td>\n",
       "      <td>CPP4 Variant</td>\n",
       "    </tr>\n",
       "    <tr>\n",
       "      <th>20051295</th>\n",
       "      <td>XUPSOCR</td>\n",
       "      <td>UPSOCR</td>\n",
       "      <td>2035</td>\n",
       "      <td>NDC_BASE-MES-RG</td>\n",
       "      <td>FlowOut</td>\n",
       "      <td>362.745208</td>\n",
       "      <td>NaN</td>\n",
       "      <td>NaN</td>\n",
       "      <td>Other</td>\n",
       "      <td>Supply Sector Oil Crude                       ...</td>\n",
       "      <td>NaN</td>\n",
       "      <td>NaN</td>\n",
       "      <td>NaN</td>\n",
       "      <td>NaN</td>\n",
       "      <td>Supply Sector Oil Crude                       ...</td>\n",
       "      <td>Crude Oil</td>\n",
       "      <td>0</td>\n",
       "      <td>0.0</td>\n",
       "      <td>BASE</td>\n",
       "    </tr>\n",
       "  </tbody>\n",
       "</table>\n",
       "<p>7355184 rows × 19 columns</p>\n",
       "</div>"
      ],
      "text/plain": [
       "                 Process Commodity  Year          Scenario  Indicator  \\\n",
       "138       SATIMMarginals       CF4  2024    NDC_CPP4-08-RG  Marginals   \n",
       "139       SATIMMarginals       CF4  2024   NDC_CPP4-085-RG  Marginals   \n",
       "140       SATIMMarginals       CF4  2024    NDC_CPP4-09-RG  Marginals   \n",
       "141       SATIMMarginals       CF4  2024   NDC_CPP3-075-RG  Marginals   \n",
       "142       SATIMMarginals       CF4  2024    NDC_CPP3-08-RG  Marginals   \n",
       "...                  ...       ...   ...               ...        ...   \n",
       "20051291         XUPSOCR    UPSOCR  2035    NDC_CPP4EKH-RG    FlowOut   \n",
       "20051292         XUPSOCR    UPSOCR  2035    NDC_CPP4EKH-HG    FlowOut   \n",
       "20051293         XUPSOCR    UPSOCR  2035     NDC_CPP4GE-RG    FlowOut   \n",
       "20051294         XUPSOCR    UPSOCR  2035  NDC_CPP4GE-09-RG    FlowOut   \n",
       "20051295         XUPSOCR    UPSOCR  2035   NDC_BASE-MES-RG    FlowOut   \n",
       "\n",
       "              SATIMGE Sector Subsector Subsubsector  \\\n",
       "138      -3798.909553    All       All          All   \n",
       "139      -2304.482119    All       All          All   \n",
       "140      -1087.177196    All       All          All   \n",
       "141      -5925.639034    All       All          All   \n",
       "142      -3848.301145    All       All          All   \n",
       "...               ...    ...       ...          ...   \n",
       "20051291   362.745208    NaN       NaN        Other   \n",
       "20051292   362.745208    NaN       NaN        Other   \n",
       "20051293   362.745208    NaN       NaN        Other   \n",
       "20051294   362.745208    NaN       NaN        Other   \n",
       "20051295   362.745208    NaN       NaN        Other   \n",
       "\n",
       "                                            TechDescription IPCC_Category_L1  \\\n",
       "138                                   SATIMMarginals Annual              NaN   \n",
       "139                                   SATIMMarginals Annual              NaN   \n",
       "140                                   SATIMMarginals Annual              NaN   \n",
       "141                                   SATIMMarginals Annual              NaN   \n",
       "142                                   SATIMMarginals Annual              NaN   \n",
       "...                                                     ...              ...   \n",
       "20051291  Supply Sector Oil Crude                       ...              NaN   \n",
       "20051292  Supply Sector Oil Crude                       ...              NaN   \n",
       "20051293  Supply Sector Oil Crude                       ...              NaN   \n",
       "20051294  Supply Sector Oil Crude                       ...              NaN   \n",
       "20051295  Supply Sector Oil Crude                       ...              NaN   \n",
       "\n",
       "         IPCC_Category_L2 IPCC_Category_L3 IPCC_Category_L4  \\\n",
       "138                   NaN              NaN              NaN   \n",
       "139                   NaN              NaN              NaN   \n",
       "140                   NaN              NaN              NaN   \n",
       "141                   NaN              NaN              NaN   \n",
       "142                   NaN              NaN              NaN   \n",
       "...                   ...              ...              ...   \n",
       "20051291              NaN              NaN              NaN   \n",
       "20051292              NaN              NaN              NaN   \n",
       "20051293              NaN              NaN              NaN   \n",
       "20051294              NaN              NaN              NaN   \n",
       "20051295              NaN              NaN              NaN   \n",
       "\n",
       "                                                Description Short Description  \\\n",
       "138                          Industry Process emissions CF4               CF4   \n",
       "139                          Industry Process emissions CF4               CF4   \n",
       "140                          Industry Process emissions CF4               CF4   \n",
       "141                          Industry Process emissions CF4               CF4   \n",
       "142                          Industry Process emissions CF4               CF4   \n",
       "...                                                     ...               ...   \n",
       "20051291  Supply Sector Oil Crude                       ...         Crude Oil   \n",
       "20051292  Supply Sector Oil Crude                       ...         Crude Oil   \n",
       "20051293  Supply Sector Oil Crude                       ...         Crude Oil   \n",
       "20051294  Supply Sector Oil Crude                       ...         Crude Oil   \n",
       "20051295  Supply Sector Oil Crude                       ...         Crude Oil   \n",
       "\n",
       "         Commodity_Name  CO2eq ScenarioFamily  \n",
       "138                 CF4   -0.0   CPP4 Variant  \n",
       "139                 CF4   -0.0   CPP4 Variant  \n",
       "140                 CF4   -0.0   CPP4 Variant  \n",
       "141                 CF4   -0.0           CPP3  \n",
       "142                 CF4   -0.0           CPP3  \n",
       "...                 ...    ...            ...  \n",
       "20051291              0    0.0   CPP4 Variant  \n",
       "20051292              0    0.0   CPP4 Variant  \n",
       "20051293              0    0.0   CPP4 Variant  \n",
       "20051294              0    0.0   CPP4 Variant  \n",
       "20051295              0    0.0           BASE  \n",
       "\n",
       "[7355184 rows x 19 columns]"
      ]
     },
     "execution_count": 82,
     "metadata": {},
     "output_type": "execute_result"
    }
   ],
   "source": [
    "df"
   ]
  },
  {
   "cell_type": "code",
   "execution_count": 63,
   "id": "33a1a1b3",
   "metadata": {},
   "outputs": [
    {
     "data": {
      "text/plain": [
       "array([nan, '2 Industrial Processes and Product Use ', '3 Agriculture',\n",
       "       '4 LULUCF', '5 Waste', '1 Energy'], dtype=object)"
      ]
     },
     "execution_count": 63,
     "metadata": {},
     "output_type": "execute_result"
    }
   ],
   "source": [
    "df['IPCC_Category_L1'].unique()\n"
   ]
  },
  {
   "cell_type": "code",
   "execution_count": 75,
   "id": "704a9d06",
   "metadata": {},
   "outputs": [
    {
     "name": "stderr",
     "output_type": "stream",
     "text": [
      "C:\\Users\\01425453\\AppData\\Local\\Temp\\ipykernel_47340\\2413063992.py:7: SettingWithCopyWarning:\n",
      "\n",
      "\n",
      "A value is trying to be set on a copy of a slice from a DataFrame.\n",
      "Try using .loc[row_indexer,col_indexer] = value instead\n",
      "\n",
      "See the caveats in the documentation: https://pandas.pydata.org/pandas-docs/stable/user_guide/indexing.html#returning-a-view-versus-a-copy\n",
      "\n"
     ]
    },
    {
     "data": {
      "application/vnd.plotly.v1+json": {
       "config": {
        "plotlyServerURL": "https://plot.ly"
       },
       "data": [
        {
         "name": "All others",
         "type": "bar",
         "x": [
          "NDC_LCARB-075-RG",
          "NDC_CPP3-075-RG",
          "NDC_CPP3-0775-RG",
          "NDC_CPP4-0775-RG",
          "NDC_CPP3-0825-RG",
          "NDC_CPP4S-085-RG",
          "NDC_LCARB-LG",
          "NDC_CPP3-0925-RG",
          "NDC_CPP4-0875-RG",
          "NDC_CPP4-0925-RG",
          "NDC_CPP4-0925-HG",
          "NDC_LCARB-RG",
          "NDC_BASE-095-RG",
          "NDC_CPP4S-LG",
          "NDC_CPP4GE-09-RG",
          "NDC_CPP4-RG",
          "NDC_CPP4-HG",
          "NDC_BASE-MES-RG",
          "NDC_HCARB-RG",
          "NDC_HCARB-NZ-RG",
          "NDC_BASE-RG"
         ],
         "y": {
          "bdata": "prMvDpXpwEBxy5NLSSvBQIUgku2zZcFAj6PVIvygwUD1CnVuHZDBQEKtpN8SH8JAohy/Xz45wkA/a35GVcXCQCGtBuIdH8NAC2wsX/Iew0DYuBvcFs/DQJcwQKdIP8RAKFVCyC+2xUAWp012VDvEQCo35KAQlMNAvo/b74h8xUDrJaUsSvzFQMPB1dO6isZAojvxLowhyECM6Dmas1rJQHLJhryRRMlA",
          "dtype": "f8"
         }
        },
        {
         "name": "Refineries",
         "type": "bar",
         "x": [
          "NDC_LCARB-075-RG",
          "NDC_CPP3-075-RG",
          "NDC_CPP3-0775-RG",
          "NDC_CPP4-0775-RG",
          "NDC_CPP3-0825-RG",
          "NDC_CPP4S-085-RG",
          "NDC_LCARB-LG",
          "NDC_CPP3-0925-RG",
          "NDC_CPP4-0875-RG",
          "NDC_CPP4-0925-RG",
          "NDC_CPP4-0925-HG",
          "NDC_LCARB-RG",
          "NDC_BASE-095-RG",
          "NDC_CPP4S-LG",
          "NDC_CPP4GE-09-RG",
          "NDC_CPP4-RG",
          "NDC_CPP4-HG",
          "NDC_BASE-MES-RG",
          "NDC_HCARB-RG",
          "NDC_HCARB-NZ-RG",
          "NDC_BASE-RG"
         ],
         "y": {
          "bdata": "AAAAAAAAAABMTaNzpiLgQEpNo3OmIuBAW02jc6Yi4EBMTaNzpiLgQGApTgXjI+BAlAatRPNN4kDTMe+LZg/jQLAYvKGiC+NAWsJRIbsL40BowlEhuwvjQJHARWHNTeJAHLDH9nML40At3b7DWAzjQCHuh9GBCONALt2+w1gM40Au3b7DWAzjQC7dvsNYDONAcZTUOjE56ED7L7RL/v/pQGG12tpLC+lA",
          "dtype": "f8"
         }
        },
        {
         "name": "Transport",
         "type": "bar",
         "x": [
          "NDC_LCARB-075-RG",
          "NDC_CPP3-075-RG",
          "NDC_CPP3-0775-RG",
          "NDC_CPP4-0775-RG",
          "NDC_CPP3-0825-RG",
          "NDC_CPP4S-085-RG",
          "NDC_LCARB-LG",
          "NDC_CPP3-0925-RG",
          "NDC_CPP4-0875-RG",
          "NDC_CPP4-0925-RG",
          "NDC_CPP4-0925-HG",
          "NDC_LCARB-RG",
          "NDC_BASE-095-RG",
          "NDC_CPP4S-LG",
          "NDC_CPP4GE-09-RG",
          "NDC_CPP4-RG",
          "NDC_CPP4-HG",
          "NDC_BASE-MES-RG",
          "NDC_HCARB-RG",
          "NDC_HCARB-NZ-RG",
          "NDC_BASE-RG"
         ],
         "y": {
          "bdata": "XAnirO8h40Cgu8GI/UnjQO6g07W4q+NABV59gW7n40BFXz2xn07kQGvdgR7qsORAQjVl6rkQ40BrtIJz0u7lQCIbKbcZuOVAq4wjLQIE5kBY/f1QUBfnQJUICiNqEuVA4tOQTqVw5kCWnD1nZy7lQAeJxwsgl+ZAE/R69Srk5kCik32YmOXnQKZ+BFiT0+dALYwdZ/R96kBzxkbPSkPqQGW05tlKluxA",
          "dtype": "f8"
         }
        },
        {
         "name": "Industry",
         "type": "bar",
         "x": [
          "NDC_LCARB-075-RG",
          "NDC_CPP3-075-RG",
          "NDC_CPP3-0775-RG",
          "NDC_CPP4-0775-RG",
          "NDC_CPP3-0825-RG",
          "NDC_CPP4S-085-RG",
          "NDC_LCARB-LG",
          "NDC_CPP3-0925-RG",
          "NDC_CPP4-0875-RG",
          "NDC_CPP4-0925-RG",
          "NDC_CPP4-0925-HG",
          "NDC_LCARB-RG",
          "NDC_BASE-095-RG",
          "NDC_CPP4S-LG",
          "NDC_CPP4GE-09-RG",
          "NDC_CPP4-RG",
          "NDC_CPP4-HG",
          "NDC_BASE-MES-RG",
          "NDC_HCARB-RG",
          "NDC_HCARB-NZ-RG",
          "NDC_BASE-RG"
         ],
         "y": {
          "bdata": "EjqVINw44EBqX8+ZKa3fQEuhF1XpHOBAJO0Zp9ol4EDQ7zyDIHbgQPkSvL/jOOFAx5bi9GRi4UBV1LkuDPXjQAZjDr2Xe+NA2fT6xBX440D95XzWAArlQGFyMstrAuRAwIP3MuQb5UBIBYl6/evhQCpAXTU2guRA5/y0lNI/5EC+qdrmC0TlQMbhM7lDbeVApTBh0zAd5UC8rwANcFDoQGs2FwfkoOJA",
          "dtype": "f8"
         }
        },
        {
         "name": "Power",
         "type": "bar",
         "x": [
          "NDC_LCARB-075-RG",
          "NDC_CPP3-075-RG",
          "NDC_CPP3-0775-RG",
          "NDC_CPP4-0775-RG",
          "NDC_CPP3-0825-RG",
          "NDC_CPP4S-085-RG",
          "NDC_LCARB-LG",
          "NDC_CPP3-0925-RG",
          "NDC_CPP4-0875-RG",
          "NDC_CPP4-0925-RG",
          "NDC_CPP4-0925-HG",
          "NDC_LCARB-RG",
          "NDC_BASE-095-RG",
          "NDC_CPP4S-LG",
          "NDC_CPP4GE-09-RG",
          "NDC_CPP4-RG",
          "NDC_CPP4-HG",
          "NDC_BASE-MES-RG",
          "NDC_HCARB-RG",
          "NDC_HCARB-NZ-RG",
          "NDC_BASE-RG"
         ],
         "y": {
          "bdata": "UONpJjxF6kDh0Q7ASBDfQFFv5KO/NOdA1u7+per260Au7rVWF8jtQEIrIqdN6e9A8c6zk3lK80BQ7QfhQdXxQK/2qVC+gfJAIb/ujlk79EBFD8Llsh/0QCOYakeBePZA7C2323ux9UDXUooGnOn7QPZ4l5QdCPpAjn1XafIV/UA/kp87lGf9QLu6Mg4FtABB92T+N3YfAEGFoIRDpuD+QOevMP4PDAdB",
          "dtype": "f8"
         }
        },
        {
         "mode": "text",
         "showlegend": false,
         "text": [
          "2024"
         ],
         "textfont": {
          "color": "black",
          "family": "Arial Black",
          "size": 12
         },
         "textposition": "top center",
         "type": "scatter",
         "x": [
          "NDC_BASE-RG"
         ],
         "y": [
          349726.97311261704
         ]
        }
       ],
       "layout": {
        "barmode": "stack",
        "font": {
         "family": "Arial",
         "size": 14
        },
        "legend": {
         "orientation": "v",
         "x": 1.02,
         "xanchor": "left",
         "y": 1,
         "yanchor": "top"
        },
        "margin": {
         "b": 100,
         "l": 60,
         "r": 30,
         "t": 60
        },
        "template": {
         "data": {
          "bar": [
           {
            "error_x": {
             "color": "rgb(36,36,36)"
            },
            "error_y": {
             "color": "rgb(36,36,36)"
            },
            "marker": {
             "line": {
              "color": "white",
              "width": 0.5
             },
             "pattern": {
              "fillmode": "overlay",
              "size": 10,
              "solidity": 0.2
             }
            },
            "type": "bar"
           }
          ],
          "barpolar": [
           {
            "marker": {
             "line": {
              "color": "white",
              "width": 0.5
             },
             "pattern": {
              "fillmode": "overlay",
              "size": 10,
              "solidity": 0.2
             }
            },
            "type": "barpolar"
           }
          ],
          "carpet": [
           {
            "aaxis": {
             "endlinecolor": "rgb(36,36,36)",
             "gridcolor": "white",
             "linecolor": "white",
             "minorgridcolor": "white",
             "startlinecolor": "rgb(36,36,36)"
            },
            "baxis": {
             "endlinecolor": "rgb(36,36,36)",
             "gridcolor": "white",
             "linecolor": "white",
             "minorgridcolor": "white",
             "startlinecolor": "rgb(36,36,36)"
            },
            "type": "carpet"
           }
          ],
          "choropleth": [
           {
            "colorbar": {
             "outlinewidth": 1,
             "tickcolor": "rgb(36,36,36)",
             "ticks": "outside"
            },
            "type": "choropleth"
           }
          ],
          "contour": [
           {
            "colorbar": {
             "outlinewidth": 1,
             "tickcolor": "rgb(36,36,36)",
             "ticks": "outside"
            },
            "colorscale": [
             [
              0,
              "#440154"
             ],
             [
              0.1111111111111111,
              "#482878"
             ],
             [
              0.2222222222222222,
              "#3e4989"
             ],
             [
              0.3333333333333333,
              "#31688e"
             ],
             [
              0.4444444444444444,
              "#26828e"
             ],
             [
              0.5555555555555556,
              "#1f9e89"
             ],
             [
              0.6666666666666666,
              "#35b779"
             ],
             [
              0.7777777777777778,
              "#6ece58"
             ],
             [
              0.8888888888888888,
              "#b5de2b"
             ],
             [
              1,
              "#fde725"
             ]
            ],
            "type": "contour"
           }
          ],
          "contourcarpet": [
           {
            "colorbar": {
             "outlinewidth": 1,
             "tickcolor": "rgb(36,36,36)",
             "ticks": "outside"
            },
            "type": "contourcarpet"
           }
          ],
          "heatmap": [
           {
            "colorbar": {
             "outlinewidth": 1,
             "tickcolor": "rgb(36,36,36)",
             "ticks": "outside"
            },
            "colorscale": [
             [
              0,
              "#440154"
             ],
             [
              0.1111111111111111,
              "#482878"
             ],
             [
              0.2222222222222222,
              "#3e4989"
             ],
             [
              0.3333333333333333,
              "#31688e"
             ],
             [
              0.4444444444444444,
              "#26828e"
             ],
             [
              0.5555555555555556,
              "#1f9e89"
             ],
             [
              0.6666666666666666,
              "#35b779"
             ],
             [
              0.7777777777777778,
              "#6ece58"
             ],
             [
              0.8888888888888888,
              "#b5de2b"
             ],
             [
              1,
              "#fde725"
             ]
            ],
            "type": "heatmap"
           }
          ],
          "histogram": [
           {
            "marker": {
             "line": {
              "color": "white",
              "width": 0.6
             }
            },
            "type": "histogram"
           }
          ],
          "histogram2d": [
           {
            "colorbar": {
             "outlinewidth": 1,
             "tickcolor": "rgb(36,36,36)",
             "ticks": "outside"
            },
            "colorscale": [
             [
              0,
              "#440154"
             ],
             [
              0.1111111111111111,
              "#482878"
             ],
             [
              0.2222222222222222,
              "#3e4989"
             ],
             [
              0.3333333333333333,
              "#31688e"
             ],
             [
              0.4444444444444444,
              "#26828e"
             ],
             [
              0.5555555555555556,
              "#1f9e89"
             ],
             [
              0.6666666666666666,
              "#35b779"
             ],
             [
              0.7777777777777778,
              "#6ece58"
             ],
             [
              0.8888888888888888,
              "#b5de2b"
             ],
             [
              1,
              "#fde725"
             ]
            ],
            "type": "histogram2d"
           }
          ],
          "histogram2dcontour": [
           {
            "colorbar": {
             "outlinewidth": 1,
             "tickcolor": "rgb(36,36,36)",
             "ticks": "outside"
            },
            "colorscale": [
             [
              0,
              "#440154"
             ],
             [
              0.1111111111111111,
              "#482878"
             ],
             [
              0.2222222222222222,
              "#3e4989"
             ],
             [
              0.3333333333333333,
              "#31688e"
             ],
             [
              0.4444444444444444,
              "#26828e"
             ],
             [
              0.5555555555555556,
              "#1f9e89"
             ],
             [
              0.6666666666666666,
              "#35b779"
             ],
             [
              0.7777777777777778,
              "#6ece58"
             ],
             [
              0.8888888888888888,
              "#b5de2b"
             ],
             [
              1,
              "#fde725"
             ]
            ],
            "type": "histogram2dcontour"
           }
          ],
          "mesh3d": [
           {
            "colorbar": {
             "outlinewidth": 1,
             "tickcolor": "rgb(36,36,36)",
             "ticks": "outside"
            },
            "type": "mesh3d"
           }
          ],
          "parcoords": [
           {
            "line": {
             "colorbar": {
              "outlinewidth": 1,
              "tickcolor": "rgb(36,36,36)",
              "ticks": "outside"
             }
            },
            "type": "parcoords"
           }
          ],
          "pie": [
           {
            "automargin": true,
            "type": "pie"
           }
          ],
          "scatter": [
           {
            "fillpattern": {
             "fillmode": "overlay",
             "size": 10,
             "solidity": 0.2
            },
            "type": "scatter"
           }
          ],
          "scatter3d": [
           {
            "line": {
             "colorbar": {
              "outlinewidth": 1,
              "tickcolor": "rgb(36,36,36)",
              "ticks": "outside"
             }
            },
            "marker": {
             "colorbar": {
              "outlinewidth": 1,
              "tickcolor": "rgb(36,36,36)",
              "ticks": "outside"
             }
            },
            "type": "scatter3d"
           }
          ],
          "scattercarpet": [
           {
            "marker": {
             "colorbar": {
              "outlinewidth": 1,
              "tickcolor": "rgb(36,36,36)",
              "ticks": "outside"
             }
            },
            "type": "scattercarpet"
           }
          ],
          "scattergeo": [
           {
            "marker": {
             "colorbar": {
              "outlinewidth": 1,
              "tickcolor": "rgb(36,36,36)",
              "ticks": "outside"
             }
            },
            "type": "scattergeo"
           }
          ],
          "scattergl": [
           {
            "marker": {
             "colorbar": {
              "outlinewidth": 1,
              "tickcolor": "rgb(36,36,36)",
              "ticks": "outside"
             }
            },
            "type": "scattergl"
           }
          ],
          "scattermap": [
           {
            "marker": {
             "colorbar": {
              "outlinewidth": 1,
              "tickcolor": "rgb(36,36,36)",
              "ticks": "outside"
             }
            },
            "type": "scattermap"
           }
          ],
          "scattermapbox": [
           {
            "marker": {
             "colorbar": {
              "outlinewidth": 1,
              "tickcolor": "rgb(36,36,36)",
              "ticks": "outside"
             }
            },
            "type": "scattermapbox"
           }
          ],
          "scatterpolar": [
           {
            "marker": {
             "colorbar": {
              "outlinewidth": 1,
              "tickcolor": "rgb(36,36,36)",
              "ticks": "outside"
             }
            },
            "type": "scatterpolar"
           }
          ],
          "scatterpolargl": [
           {
            "marker": {
             "colorbar": {
              "outlinewidth": 1,
              "tickcolor": "rgb(36,36,36)",
              "ticks": "outside"
             }
            },
            "type": "scatterpolargl"
           }
          ],
          "scatterternary": [
           {
            "marker": {
             "colorbar": {
              "outlinewidth": 1,
              "tickcolor": "rgb(36,36,36)",
              "ticks": "outside"
             }
            },
            "type": "scatterternary"
           }
          ],
          "surface": [
           {
            "colorbar": {
             "outlinewidth": 1,
             "tickcolor": "rgb(36,36,36)",
             "ticks": "outside"
            },
            "colorscale": [
             [
              0,
              "#440154"
             ],
             [
              0.1111111111111111,
              "#482878"
             ],
             [
              0.2222222222222222,
              "#3e4989"
             ],
             [
              0.3333333333333333,
              "#31688e"
             ],
             [
              0.4444444444444444,
              "#26828e"
             ],
             [
              0.5555555555555556,
              "#1f9e89"
             ],
             [
              0.6666666666666666,
              "#35b779"
             ],
             [
              0.7777777777777778,
              "#6ece58"
             ],
             [
              0.8888888888888888,
              "#b5de2b"
             ],
             [
              1,
              "#fde725"
             ]
            ],
            "type": "surface"
           }
          ],
          "table": [
           {
            "cells": {
             "fill": {
              "color": "rgb(237,237,237)"
             },
             "line": {
              "color": "white"
             }
            },
            "header": {
             "fill": {
              "color": "rgb(217,217,217)"
             },
             "line": {
              "color": "white"
             }
            },
            "type": "table"
           }
          ]
         },
         "layout": {
          "annotationdefaults": {
           "arrowhead": 0,
           "arrowwidth": 1
          },
          "autotypenumbers": "strict",
          "coloraxis": {
           "colorbar": {
            "outlinewidth": 1,
            "tickcolor": "rgb(36,36,36)",
            "ticks": "outside"
           }
          },
          "colorscale": {
           "diverging": [
            [
             0,
             "rgb(103,0,31)"
            ],
            [
             0.1,
             "rgb(178,24,43)"
            ],
            [
             0.2,
             "rgb(214,96,77)"
            ],
            [
             0.3,
             "rgb(244,165,130)"
            ],
            [
             0.4,
             "rgb(253,219,199)"
            ],
            [
             0.5,
             "rgb(247,247,247)"
            ],
            [
             0.6,
             "rgb(209,229,240)"
            ],
            [
             0.7,
             "rgb(146,197,222)"
            ],
            [
             0.8,
             "rgb(67,147,195)"
            ],
            [
             0.9,
             "rgb(33,102,172)"
            ],
            [
             1,
             "rgb(5,48,97)"
            ]
           ],
           "sequential": [
            [
             0,
             "#440154"
            ],
            [
             0.1111111111111111,
             "#482878"
            ],
            [
             0.2222222222222222,
             "#3e4989"
            ],
            [
             0.3333333333333333,
             "#31688e"
            ],
            [
             0.4444444444444444,
             "#26828e"
            ],
            [
             0.5555555555555556,
             "#1f9e89"
            ],
            [
             0.6666666666666666,
             "#35b779"
            ],
            [
             0.7777777777777778,
             "#6ece58"
            ],
            [
             0.8888888888888888,
             "#b5de2b"
            ],
            [
             1,
             "#fde725"
            ]
           ],
           "sequentialminus": [
            [
             0,
             "#440154"
            ],
            [
             0.1111111111111111,
             "#482878"
            ],
            [
             0.2222222222222222,
             "#3e4989"
            ],
            [
             0.3333333333333333,
             "#31688e"
            ],
            [
             0.4444444444444444,
             "#26828e"
            ],
            [
             0.5555555555555556,
             "#1f9e89"
            ],
            [
             0.6666666666666666,
             "#35b779"
            ],
            [
             0.7777777777777778,
             "#6ece58"
            ],
            [
             0.8888888888888888,
             "#b5de2b"
            ],
            [
             1,
             "#fde725"
            ]
           ]
          },
          "colorway": [
           "#1F77B4",
           "#FF7F0E",
           "#2CA02C",
           "#D62728",
           "#9467BD",
           "#8C564B",
           "#E377C2",
           "#7F7F7F",
           "#BCBD22",
           "#17BECF"
          ],
          "font": {
           "color": "rgb(36,36,36)"
          },
          "geo": {
           "bgcolor": "white",
           "lakecolor": "white",
           "landcolor": "white",
           "showlakes": true,
           "showland": true,
           "subunitcolor": "white"
          },
          "hoverlabel": {
           "align": "left"
          },
          "hovermode": "closest",
          "mapbox": {
           "style": "light"
          },
          "paper_bgcolor": "white",
          "plot_bgcolor": "white",
          "polar": {
           "angularaxis": {
            "gridcolor": "rgb(232,232,232)",
            "linecolor": "rgb(36,36,36)",
            "showgrid": false,
            "showline": true,
            "ticks": "outside"
           },
           "bgcolor": "white",
           "radialaxis": {
            "gridcolor": "rgb(232,232,232)",
            "linecolor": "rgb(36,36,36)",
            "showgrid": false,
            "showline": true,
            "ticks": "outside"
           }
          },
          "scene": {
           "xaxis": {
            "backgroundcolor": "white",
            "gridcolor": "rgb(232,232,232)",
            "gridwidth": 2,
            "linecolor": "rgb(36,36,36)",
            "showbackground": true,
            "showgrid": false,
            "showline": true,
            "ticks": "outside",
            "zeroline": false,
            "zerolinecolor": "rgb(36,36,36)"
           },
           "yaxis": {
            "backgroundcolor": "white",
            "gridcolor": "rgb(232,232,232)",
            "gridwidth": 2,
            "linecolor": "rgb(36,36,36)",
            "showbackground": true,
            "showgrid": false,
            "showline": true,
            "ticks": "outside",
            "zeroline": false,
            "zerolinecolor": "rgb(36,36,36)"
           },
           "zaxis": {
            "backgroundcolor": "white",
            "gridcolor": "rgb(232,232,232)",
            "gridwidth": 2,
            "linecolor": "rgb(36,36,36)",
            "showbackground": true,
            "showgrid": false,
            "showline": true,
            "ticks": "outside",
            "zeroline": false,
            "zerolinecolor": "rgb(36,36,36)"
           }
          },
          "shapedefaults": {
           "fillcolor": "black",
           "line": {
            "width": 0
           },
           "opacity": 0.3
          },
          "ternary": {
           "aaxis": {
            "gridcolor": "rgb(232,232,232)",
            "linecolor": "rgb(36,36,36)",
            "showgrid": false,
            "showline": true,
            "ticks": "outside"
           },
           "baxis": {
            "gridcolor": "rgb(232,232,232)",
            "linecolor": "rgb(36,36,36)",
            "showgrid": false,
            "showline": true,
            "ticks": "outside"
           },
           "bgcolor": "white",
           "caxis": {
            "gridcolor": "rgb(232,232,232)",
            "linecolor": "rgb(36,36,36)",
            "showgrid": false,
            "showline": true,
            "ticks": "outside"
           }
          },
          "title": {
           "x": 0.05
          },
          "xaxis": {
           "automargin": true,
           "gridcolor": "rgb(232,232,232)",
           "linecolor": "rgb(36,36,36)",
           "showgrid": false,
           "showline": true,
           "ticks": "outside",
           "title": {
            "standoff": 15
           },
           "zeroline": false,
           "zerolinecolor": "rgb(36,36,36)"
          },
          "yaxis": {
           "automargin": true,
           "gridcolor": "rgb(232,232,232)",
           "linecolor": "rgb(36,36,36)",
           "showgrid": false,
           "showline": true,
           "ticks": "outside",
           "title": {
            "standoff": 15
           },
           "zeroline": false,
           "zerolinecolor": "rgb(36,36,36)"
          }
         }
        },
        "title": {
         "text": "Energy Emissions"
        },
        "xaxis": {
         "title": {
          "text": ""
         }
        },
        "yaxis": {
         "title": {
          "text": "CO₂eq (kt)"
         }
        }
       }
      }
     },
     "metadata": {},
     "output_type": "display_data"
    }
   ],
   "source": [
    "# --- Fig 4: Stacked bar of emissions in 2035 by scenario and sector group ---\n",
    "\n",
    "df_f4 = df[df['IPCC_Category_L1']=='1 Energy'] # keep only energy combustion emissions\n",
    "\n",
    "\n",
    "# --- Fig 4: Stacked bar of emissions in 2035 by scenario and sector group ---\n",
    "df_f4['SectorGroup'] = df_f4['Sector'].apply(map_sector_group)\n",
    "\n",
    "# Step 1: Sum 2035 emissions by Scenario\n",
    "\n",
    "# select a random sample of 18 scenarios from the middle of the sorted list of scenarios, excluding the one with the smallest and the largest total emissions.\n",
    "\n",
    "total_2035 = df_f4[df_f4['Year'] == 2035].groupby('Scenario')['CO2eq'].sum().sort_values()\n",
    "selected_scenarios = total_2035.head(1).index.tolist() + \\\n",
    "                     total_2035.iloc[1:-1].sample(n=18, random_state=42).index.tolist() + \\\n",
    "                     total_2035.tail(1).index.tolist()\n",
    "\n",
    "# Step 2: Get 2035 emissions by SectorGroup and Scenario\n",
    "fig4_data = df_f4[(df_f4['Year'] == 2035) & (df_f4['Scenario'].isin(selected_scenarios))]\n",
    "fig4_grouped = fig4_data.groupby(['Scenario', 'SectorGroup'])['CO2eq'].sum().reset_index()\n",
    "\n",
    "# Step 3: Add NDC_BASE-RG 2024 emissions as comparison\n",
    "total_2024 = df_f4[(df_f4['Year'] == 2024) & (df_f4['Scenario'] == 'NDC_BASE-RG')].groupby(['SectorGroup'])['CO2eq'].sum().reset_index()\n",
    "total_2024['Scenario'] = 'NDC_BASE-RG'\n",
    "\n",
    "fig4_grouped = pd.concat([fig4_grouped, total_2024], ignore_index=True)\n",
    "\n",
    "# Step 4: Order scenarios by total emissions\n",
    "scenario_order = fig4_grouped.groupby('Scenario')['CO2eq'].sum().sort_values().index.tolist()\n",
    "\n",
    "# Step 5: Pivot for stacked bar chart\n",
    "fig4_pivot = fig4_grouped.pivot(index='Scenario', columns='SectorGroup', values='CO2eq').fillna(0)\n",
    "fig4_pivot = fig4_pivot.reindex(scenario_order)\n",
    "\n",
    "# Step 6: Plot stacked bar\n",
    "fig4 = go.Figure()\n",
    "sector_order = ['All others', 'Refineries', 'Transport', 'Industry', 'Power']\n",
    "for sector in sector_order:\n",
    "    if sector in fig4_pivot.columns:\n",
    "        fig4.add_trace(go.Bar(\n",
    "            x=fig4_pivot.index,\n",
    "            y=fig4_pivot[sector],\n",
    "            name=sector\n",
    "        ))\n",
    "\n",
    "fig4.update_layout(\n",
    "    barmode='stack',\n",
    "    title=\"Energy Emissions\",\n",
    "    xaxis_title=\"\",\n",
    "    yaxis_title=\"CO₂eq (kt)\",\n",
    "    template=\"simple_white\",\n",
    "    font=dict(family=\"Arial\", size=14),\n",
    "    margin=dict(l=60, r=30, t=60, b=100),\n",
    "    legend=dict(\n",
    "        orientation=\"v\",\n",
    "        yanchor=\"top\",\n",
    "        y=1,\n",
    "        xanchor=\"left\",\n",
    "        x=1.02\n",
    "    )\n",
    ")\n",
    "\n",
    "fig4.add_trace(go.Scatter(\n",
    "    x=['NDC_BASE-RG'],\n",
    "    y=[fig4_pivot.loc['NDC_BASE-RG'].sum()],\n",
    "    mode='text',\n",
    "    text=['2024'],\n",
    "    textposition='top center',\n",
    "    showlegend=False,\n",
    "    textfont=dict(size=12, color='black', family='Arial Black')\n",
    "))\n",
    "\n",
    "fig4.show()\n",
    "fig4.write_image(f\"{output_dir}/fig4_2035_StackedBarByScenarios.jpeg\")\n",
    "fig4_grouped.to_csv(f\"{output_dir}/fig4_data.csv\", index=False)"
   ]
  },
  {
   "cell_type": "markdown",
   "id": "4d0a72bd",
   "metadata": {},
   "source": [
    "## Figure 5: measures impact on BASE"
   ]
  },
  {
   "cell_type": "code",
   "execution_count": null,
   "id": "172b4f67",
   "metadata": {},
   "outputs": [
    {
     "name": "stderr",
     "output_type": "stream",
     "text": [
      "C:\\Users\\01425453\\AppData\\Local\\Temp\\ipykernel_47340\\375530059.py:2: SettingWithCopyWarning:\n",
      "\n",
      "\n",
      "A value is trying to be set on a copy of a slice from a DataFrame.\n",
      "Try using .loc[row_indexer,col_indexer] = value instead\n",
      "\n",
      "See the caveats in the documentation: https://pandas.pydata.org/pandas-docs/stable/user_guide/indexing.html#returning-a-view-versus-a-copy\n",
      "\n"
     ]
    },
    {
     "data": {
      "application/vnd.plotly.v1+json": {
       "config": {
        "plotlyServerURL": "https://plot.ly"
       },
       "data": [
        {
         "line": {
          "width": 2
         },
         "mode": "lines",
         "name": "NDC_BASE-08-RG",
         "type": "scatter",
         "x": {
          "bdata": "6AfpB+oH6wfsB+0H7gfvB/AH8QfyB/MH",
          "dtype": "i2"
         },
         "y": {
          "bdata": "4kJYpzPWGkE4ZBB+t64ZQSp04lQy3RhBP0rxNY7DF0HpsPQWhDkWQcLvxfLODhVBbokZcmNuFEG8ItBsIuQSQRttY6qUyBFBh103gPn1D0H1folJttINQcKWHmxJOwxB",
          "dtype": "f8"
         }
        },
        {
         "line": {
          "width": 2
         },
         "mode": "lines",
         "name": "NDC_BASE-085-NZ-RG",
         "type": "scatter",
         "x": {
          "bdata": "6AfpB+oH6wfsB+0H7gfvB/AH8QfyB/MH",
          "dtype": "i2"
         },
         "y": {
          "bdata": "MpC7GWy/GkEgJdctesMZQQ0VoS40MBlBtd3GG4UsGEHhFu69vl0XQW7nxQn/rBZBgJmp3agOFkFgJ/PLR2YVQQamXSFKORRB9zjVV+85E0FCeeMhREUSQV5itBrYyxFB",
          "dtype": "f8"
         }
        },
        {
         "line": {
          "width": 2
         },
         "mode": "lines",
         "name": "NDC_BASE-085-RG",
         "type": "scatter",
         "x": {
          "bdata": "6AfpB+oH6wfsB+0H7gfvB/AH8QfyB/MH",
          "dtype": "i2"
         },
         "y": {
          "bdata": "mAaqt33kGkENHk3gPMYZQVrnhCBmCBlB/oYyvdX5F0GR7056yCIXQUD3Lv54ZxZBIYWaSIulFUHBpB2KVMsTQeRg/iU2qBJBMv+77Q51EUFUalL0d64QQUFUfodGARBB",
          "dtype": "f8"
         }
        },
        {
         "line": {
          "width": 2
         },
         "mode": "lines",
         "name": "NDC_BASE-09-NZ-RG",
         "type": "scatter",
         "x": {
          "bdata": "6AfpB+oH6wfsB+0H7gfvB/AH8QfyB/MH",
          "dtype": "i2"
         },
         "y": {
          "bdata": "DfePMGe/GkH1dMOMucEZQYRgsaAwRhlBswhMwCCSGEFzpPIGjrIXQSx1cMiY8xZBM2wdDkpfFkH56KlWy60VQbvce7uahxRB+jro7KDOE0Ez3Fg901ATQZL/PZ+W7RJB",
          "dtype": "f8"
         }
        },
        {
         "line": {
          "width": 2
         },
         "mode": "lines",
         "name": "NDC_BASE-09-RG",
         "type": "scatter",
         "x": {
          "bdata": "6AfpB+oH6wfsB+0H7gfvB/AH8QfyB/MH",
          "dtype": "i2"
         },
         "y": {
          "bdata": "z1cWZ1zmGkFcl4a82csZQT0IYYtWEBlBhpiv8GQ3GEED8OdLiWQXQTEvpdsbtRZB/NbqtiMIFkF0Cet50lEVQRY8e5wPNhRBJSuLNChfE0FssKuUio4SQZcKgp449hFB",
          "dtype": "f8"
         }
        },
        {
         "line": {
          "width": 2
         },
         "mode": "lines",
         "name": "NDC_BASE-095-RG",
         "type": "scatter",
         "x": {
          "bdata": "6AfpB+oH6wfsB+0H7gfvB/AH8QfyB/MH",
          "dtype": "i2"
         },
         "y": {
          "bdata": "rIR+hunmGkGGndMlEMsZQflUy5XxPRlBu+mSibCQGEHI1IV07K0XQUs+PPco7BZBw5GvCSVBFkH3pMWf7JUVQfUZEUKThBRBJzG8EffJE0E5l71UaV0TQSLFjix43xJB",
          "dtype": "f8"
         }
        },
        {
         "line": {
          "width": 2
         },
         "mode": "lines",
         "name": "NDC_BASE-10-RG",
         "type": "scatter",
         "x": {
          "bdata": "6AfpB+oH6wfsB+0H7gfvB/AH8QfyB/MH",
          "dtype": "i2"
         },
         "y": {
          "bdata": "D8MPdTzmGkHqLo3NDs0ZQeKAMV1/YRlBs70s/JPfGEFm0KYk0S8YQUeYK/y6rBdBYmgd4wbuFkF7F/1kezAWQdHgdUDiFRVBm0u+mHdwFEFUNKLwlQ4UQShkdRODtBNB",
          "dtype": "f8"
         }
        },
        {
         "line": {
          "width": 2
         },
         "mode": "lines",
         "name": "NDC_BASE-105-RG",
         "type": "scatter",
         "x": {
          "bdata": "6AfpB+oH6wfsB+0H7gfvB/AH8QfyB/MH",
          "dtype": "i2"
         },
         "y": {
          "bdata": "cX9T4u3lGkH6jlJltc4ZQRK1hJy+ZhlBo0IuUXULGUFene01z3kYQSpd9XBSIRhBXp1MPpWeF0Gv+VXU/xoXQdgbTgCxUhZBCPIV2yhwFUGzfamIUjMVQSPeANRj8xRB",
          "dtype": "f8"
         }
        },
        {
         "line": {
          "width": 2
         },
         "mode": "lines",
         "name": "NDC_BASE-CtaxWEM-RG",
         "type": "scatter",
         "x": {
          "bdata": "6AfpB+oH6wfsB+0H7gfvB/AH8QfyB/MH",
          "dtype": "i2"
         },
         "y": {
          "bdata": "qcVjj9DlGkHvUsTAcM4ZQQFkxsstbBlBkFuCtJ8TGUGCu2UKG6QYQUJgYU7AVBhBy+CgKGPXF0HsVLOskF4XQThtzEMSpBZB9Guv0SvSFUHXJPQMdFQVQTteylQcExVB",
          "dtype": "f8"
         }
        },
        {
         "line": {
          "width": 2
         },
         "mode": "lines",
         "name": "NDC_BASE-EE-RG",
         "type": "scatter",
         "x": {
          "bdata": "6AfpB+oH6wfsB+0H7gfvB/AH8QfyB/MH",
          "dtype": "i2"
         },
         "y": {
          "bdata": "y9rg6vbCGkFxjKSaZI8ZQWqFrYQ2HBlBZTIA9SC9GEEJyC0hB0oYQXwKroOeDRhBAG00SOC7F0EA24IKN0UXQcrCWBQOjBZB+4lTSpziFUHbtBT6SIQVQbpgR+2JShVB",
          "dtype": "f8"
         }
        },
        {
         "line": {
          "width": 2
         },
         "mode": "lines",
         "name": "NDC_BASE-FreiM-RG",
         "type": "scatter",
         "x": {
          "bdata": "6AfpB+oH6wfsB+0H7gfvB/AH8QfyB/MH",
          "dtype": "i2"
         },
         "y": {
          "bdata": "QkiCV7zlGkFMgjjARs4ZQZUJ7D3xaxlBd4MVOfcaGUHAcD+PrbIYQb/Hp7UQiBhBXp9OCisrGEFAUMS+vb0XQXTh1n6jDxdBkP0PJoZgFkEeAGMTS/kVQTIIfVYXvhVB",
          "dtype": "f8"
         }
        },
        {
         "line": {
          "width": 2
         },
         "mode": "lines",
         "name": "NDC_BASE-HEAF-RG",
         "type": "scatter",
         "x": {
          "bdata": "6AfpB+oH6wfsB+0H7gfvB/AH8QfyB/MH",
          "dtype": "i2"
         },
         "y": {
          "bdata": "Qhf106/lGkFG+nMlYbkZQW6nFMp/ZhlBjB+T3x0dGUEpr70ri7sYQU1h6+U/jxhBC1mYDqc3GEGzCMDAvNgXQci3dK6xPBdBzQeQJ3SlFkEFehCjNisWQXLuxrR77hVB",
          "dtype": "f8"
         }
        },
        {
         "line": {
          "width": 2
         },
         "mode": "lines",
         "name": "NDC_BASE-IRPFull-RG",
         "type": "scatter",
         "x": {
          "bdata": "6AfpB+oH6wfsB+0H7gfvB/AH8QfyB/MH",
          "dtype": "i2"
         },
         "y": {
          "bdata": "z9uxXk/pGkE8eoeSMdQZQSUWOplpOhlBphwy6oEDGEESz0lMtLgXQZEW1ePMIBdBVpRc3IAZFkG6UfUHcIAVQc9sMfEPXhRByH0Jo8GGE0Gyz+XNv+sSQb74RzqEVBJB",
          "dtype": "f8"
         }
        },
        {
         "line": {
          "width": 2
         },
         "mode": "lines",
         "name": "NDC_BASE-IRPLight-RG",
         "type": "scatter",
         "x": {
          "bdata": "6AfpB+oH6wfsB+0H7gfvB/AH8QfyB/MH",
          "dtype": "i2"
         },
         "y": {
          "bdata": "IjbJ1lHoGkHSCdczJtUZQcmhHxzRMBlBrp25cB9cGEHP2isMuPgXQfU8+JrUcxdB0RRlRwnKFkFpFv/bEnIWQY4H5wfYoRVB71wX5l8WFUEosyUPNKgUQbA6IH6KKhRB",
          "dtype": "f8"
         }
        },
        {
         "line": {
          "width": 2
         },
         "mode": "lines",
         "name": "NDC_BASE-LEAF-RG",
         "type": "scatter",
         "x": {
          "bdata": "6AfpB+oH6wfsB+0H7gfvB/AH8QfyB/MH",
          "dtype": "i2"
         },
         "y": {
          "bdata": "j3hT5Z3mGkH1DjHf/L8ZQeEVhuSAABlBjJ+Iv7aBGEG6gMg2ZbAXQRcsBt0yChdBhRAEtSkgFkHx2+QLSLoVQfePZwzOQhVB3tjAHHi1FEH7L1lNEWAUQYm10CNYIxRB",
          "dtype": "f8"
         }
        },
        {
         "line": {
          "width": 2
         },
         "mode": "lines",
         "name": "NDC_BASE-MES-RG",
         "type": "scatter",
         "x": {
          "bdata": "6AfpB+oH6wfsB+0H7gfvB/AH8QfyB/MH",
          "dtype": "i2"
         },
         "y": {
          "bdata": "E4CWIaHJGkFjiQ3vXMoZQUASecdzXRlB+7SYC8kAGUE0g9yJXIoYQTxoZbZfVBhBsXDiTmPlF0GxCkyM66QXQSgfGbu7FRdBSf/QKGqrFkF7KE//sGgWQecaUjzqDxZB",
          "dtype": "f8"
         }
        },
        {
         "line": {
          "width": 2
         },
         "mode": "lines",
         "name": "NDC_BASE-OilAPS-RG",
         "type": "scatter",
         "x": {
          "bdata": "6AfpB+oH6wfsB+0H7gfvB/AH8QfyB/MH",
          "dtype": "i2"
         },
         "y": {
          "bdata": "L0Xz+3joGkFAN/EsOtQZQdfLm5VVKhlBrpOjSDvfGEHgQXMGmYQYQb1dZK48ZhhB0j/JpVEXGEGL+3RSfMQXQTO7SeQOJxdB1Av5jjx6FkHJwdq4oTwWQRGyh1mFCxZB",
          "dtype": "f8"
         }
        },
        {
         "line": {
          "width": 2
         },
         "mode": "lines",
         "name": "NDC_BASE-OilNZ-RG",
         "type": "scatter",
         "x": {
          "bdata": "6AfpB+oH6wfsB+0H7gfvB/AH8QfyB/MH",
          "dtype": "i2"
         },
         "y": {
          "bdata": "F85FmbH+GkE53oh8Eu0ZQSDFHKv4NxlBQOpRjov4GEFc3oWKo7YYQT0SQRxnqBhBctRuBZ5BGEHBdPPpSuwWQRyYWBhbaRZBwX6OFFf4FUHh32cDa+EVQTR6oLnExRVB",
          "dtype": "f8"
         }
        },
        {
         "line": {
          "width": 2
         },
         "mode": "lines",
         "name": "NDC_BASE-OilST-RG",
         "type": "scatter",
         "x": {
          "bdata": "6AfpB+oH6wfsB+0H7gfvB/AH8QfyB/MH",
          "dtype": "i2"
         },
         "y": {
          "bdata": "fQidf+LkGkHAgiP+d8wZQbXNH/uPaxlBoOCpvT8XGUHULcjbAq8YQecz2MVhghhBUbMepY0jGEEi7QW+frcXQU4dO0fN+RZBPXFd1g80FkGxZb19R9AVQYf3aOc2mxVB",
          "dtype": "f8"
         }
        },
        {
         "line": {
          "width": 2
         },
         "mode": "lines",
         "name": "NDC_BASE-PassM-RG",
         "type": "scatter",
         "x": {
          "bdata": "6AfpB+oH6wfsB+0H7gfvB/AH8QfyB/MH",
          "dtype": "i2"
         },
         "y": {
          "bdata": "CnfOCqTlGkH9Dy8AMs4ZQdCWg/1ObRlBzeVCcTUcGUFqHfR8e7MYQdlasy/uhhhBwNuCknIqGEEATyQnH70XQTm3HAB6DBdBEQNkYPZcFkEV7yTCRvUVQZVMBv0JuRVB",
          "dtype": "f8"
         }
        },
        {
         "line": {
          "width": 2
         },
         "mode": "lines",
         "name": "NDC_BASE-RG",
         "type": "scatter",
         "x": {
          "bdata": "6AfpB+oH6wfsB+0H7gfvB/AH8QfyB/MH",
          "dtype": "i2"
         },
         "y": {
          "bdata": "FApju+TJGkE8JEKzr8oZQVhrCgdvYBlBCIxI0CkKGUGWw8GhQ6QYQWIrmRUqexhBrwb0AN0eGEFPFjcsbrMXQQOYm3LLBhdB4oWqW7BYFkFdwn3oZfUVQfDGV5znuxVB",
          "dtype": "f8"
         }
        },
        {
         "line": {
          "width": 2
         },
         "mode": "lines",
         "name": "NDC_BASE-SAREM-RG",
         "type": "scatter",
         "x": {
          "bdata": "6AfpB+oH6wfsB+0H7gfvB/AH8QfyB/MH",
          "dtype": "i2"
         },
         "y": {
          "bdata": "EQHxlivnGkFNlOto29EZQR/GNbc8kBlBriEKH9D0GEGDUmW7bkAYQeFZ/wOovhdBqbFEUpMCF0Gg5G3Z6k4WQfbq5c1fVxVBdEO7Ds6SFEGDGF5GlfMTQU9bKBXifxNB",
          "dtype": "f8"
         }
        },
        {
         "line": {
          "width": 2
         },
         "mode": "lines",
         "name": "NDC_BASE-TRA-EVOpt-RG",
         "type": "scatter",
         "x": {
          "bdata": "6AfpB+oH6wfsB+0H7gfvB/AH8QfyB/MH",
          "dtype": "i2"
         },
         "y": {
          "bdata": "1h58l8LlGkFf+4JhHM4ZQarNfs4zexlB+ocUVlsmGUH2qZ+C07oYQRrqelyMiBhBzjKUJW8ZGEG6a8KSF60XQW703LIL/xZBbyD/rYpDFkHIxMvgru0VQfSJYP7zsRVB",
          "dtype": "f8"
         }
        }
       ],
       "layout": {
        "font": {
         "family": "Arial",
         "size": 14
        },
        "legend": {
         "orientation": "h",
         "x": 0.5,
         "xanchor": "center",
         "y": -0.3,
         "yanchor": "bottom"
        },
        "margin": {
         "b": 60,
         "l": 60,
         "r": 30,
         "t": 60
        },
        "template": {
         "data": {
          "bar": [
           {
            "error_x": {
             "color": "rgb(36,36,36)"
            },
            "error_y": {
             "color": "rgb(36,36,36)"
            },
            "marker": {
             "line": {
              "color": "white",
              "width": 0.5
             },
             "pattern": {
              "fillmode": "overlay",
              "size": 10,
              "solidity": 0.2
             }
            },
            "type": "bar"
           }
          ],
          "barpolar": [
           {
            "marker": {
             "line": {
              "color": "white",
              "width": 0.5
             },
             "pattern": {
              "fillmode": "overlay",
              "size": 10,
              "solidity": 0.2
             }
            },
            "type": "barpolar"
           }
          ],
          "carpet": [
           {
            "aaxis": {
             "endlinecolor": "rgb(36,36,36)",
             "gridcolor": "white",
             "linecolor": "white",
             "minorgridcolor": "white",
             "startlinecolor": "rgb(36,36,36)"
            },
            "baxis": {
             "endlinecolor": "rgb(36,36,36)",
             "gridcolor": "white",
             "linecolor": "white",
             "minorgridcolor": "white",
             "startlinecolor": "rgb(36,36,36)"
            },
            "type": "carpet"
           }
          ],
          "choropleth": [
           {
            "colorbar": {
             "outlinewidth": 1,
             "tickcolor": "rgb(36,36,36)",
             "ticks": "outside"
            },
            "type": "choropleth"
           }
          ],
          "contour": [
           {
            "colorbar": {
             "outlinewidth": 1,
             "tickcolor": "rgb(36,36,36)",
             "ticks": "outside"
            },
            "colorscale": [
             [
              0,
              "#440154"
             ],
             [
              0.1111111111111111,
              "#482878"
             ],
             [
              0.2222222222222222,
              "#3e4989"
             ],
             [
              0.3333333333333333,
              "#31688e"
             ],
             [
              0.4444444444444444,
              "#26828e"
             ],
             [
              0.5555555555555556,
              "#1f9e89"
             ],
             [
              0.6666666666666666,
              "#35b779"
             ],
             [
              0.7777777777777778,
              "#6ece58"
             ],
             [
              0.8888888888888888,
              "#b5de2b"
             ],
             [
              1,
              "#fde725"
             ]
            ],
            "type": "contour"
           }
          ],
          "contourcarpet": [
           {
            "colorbar": {
             "outlinewidth": 1,
             "tickcolor": "rgb(36,36,36)",
             "ticks": "outside"
            },
            "type": "contourcarpet"
           }
          ],
          "heatmap": [
           {
            "colorbar": {
             "outlinewidth": 1,
             "tickcolor": "rgb(36,36,36)",
             "ticks": "outside"
            },
            "colorscale": [
             [
              0,
              "#440154"
             ],
             [
              0.1111111111111111,
              "#482878"
             ],
             [
              0.2222222222222222,
              "#3e4989"
             ],
             [
              0.3333333333333333,
              "#31688e"
             ],
             [
              0.4444444444444444,
              "#26828e"
             ],
             [
              0.5555555555555556,
              "#1f9e89"
             ],
             [
              0.6666666666666666,
              "#35b779"
             ],
             [
              0.7777777777777778,
              "#6ece58"
             ],
             [
              0.8888888888888888,
              "#b5de2b"
             ],
             [
              1,
              "#fde725"
             ]
            ],
            "type": "heatmap"
           }
          ],
          "histogram": [
           {
            "marker": {
             "line": {
              "color": "white",
              "width": 0.6
             }
            },
            "type": "histogram"
           }
          ],
          "histogram2d": [
           {
            "colorbar": {
             "outlinewidth": 1,
             "tickcolor": "rgb(36,36,36)",
             "ticks": "outside"
            },
            "colorscale": [
             [
              0,
              "#440154"
             ],
             [
              0.1111111111111111,
              "#482878"
             ],
             [
              0.2222222222222222,
              "#3e4989"
             ],
             [
              0.3333333333333333,
              "#31688e"
             ],
             [
              0.4444444444444444,
              "#26828e"
             ],
             [
              0.5555555555555556,
              "#1f9e89"
             ],
             [
              0.6666666666666666,
              "#35b779"
             ],
             [
              0.7777777777777778,
              "#6ece58"
             ],
             [
              0.8888888888888888,
              "#b5de2b"
             ],
             [
              1,
              "#fde725"
             ]
            ],
            "type": "histogram2d"
           }
          ],
          "histogram2dcontour": [
           {
            "colorbar": {
             "outlinewidth": 1,
             "tickcolor": "rgb(36,36,36)",
             "ticks": "outside"
            },
            "colorscale": [
             [
              0,
              "#440154"
             ],
             [
              0.1111111111111111,
              "#482878"
             ],
             [
              0.2222222222222222,
              "#3e4989"
             ],
             [
              0.3333333333333333,
              "#31688e"
             ],
             [
              0.4444444444444444,
              "#26828e"
             ],
             [
              0.5555555555555556,
              "#1f9e89"
             ],
             [
              0.6666666666666666,
              "#35b779"
             ],
             [
              0.7777777777777778,
              "#6ece58"
             ],
             [
              0.8888888888888888,
              "#b5de2b"
             ],
             [
              1,
              "#fde725"
             ]
            ],
            "type": "histogram2dcontour"
           }
          ],
          "mesh3d": [
           {
            "colorbar": {
             "outlinewidth": 1,
             "tickcolor": "rgb(36,36,36)",
             "ticks": "outside"
            },
            "type": "mesh3d"
           }
          ],
          "parcoords": [
           {
            "line": {
             "colorbar": {
              "outlinewidth": 1,
              "tickcolor": "rgb(36,36,36)",
              "ticks": "outside"
             }
            },
            "type": "parcoords"
           }
          ],
          "pie": [
           {
            "automargin": true,
            "type": "pie"
           }
          ],
          "scatter": [
           {
            "fillpattern": {
             "fillmode": "overlay",
             "size": 10,
             "solidity": 0.2
            },
            "type": "scatter"
           }
          ],
          "scatter3d": [
           {
            "line": {
             "colorbar": {
              "outlinewidth": 1,
              "tickcolor": "rgb(36,36,36)",
              "ticks": "outside"
             }
            },
            "marker": {
             "colorbar": {
              "outlinewidth": 1,
              "tickcolor": "rgb(36,36,36)",
              "ticks": "outside"
             }
            },
            "type": "scatter3d"
           }
          ],
          "scattercarpet": [
           {
            "marker": {
             "colorbar": {
              "outlinewidth": 1,
              "tickcolor": "rgb(36,36,36)",
              "ticks": "outside"
             }
            },
            "type": "scattercarpet"
           }
          ],
          "scattergeo": [
           {
            "marker": {
             "colorbar": {
              "outlinewidth": 1,
              "tickcolor": "rgb(36,36,36)",
              "ticks": "outside"
             }
            },
            "type": "scattergeo"
           }
          ],
          "scattergl": [
           {
            "marker": {
             "colorbar": {
              "outlinewidth": 1,
              "tickcolor": "rgb(36,36,36)",
              "ticks": "outside"
             }
            },
            "type": "scattergl"
           }
          ],
          "scattermap": [
           {
            "marker": {
             "colorbar": {
              "outlinewidth": 1,
              "tickcolor": "rgb(36,36,36)",
              "ticks": "outside"
             }
            },
            "type": "scattermap"
           }
          ],
          "scattermapbox": [
           {
            "marker": {
             "colorbar": {
              "outlinewidth": 1,
              "tickcolor": "rgb(36,36,36)",
              "ticks": "outside"
             }
            },
            "type": "scattermapbox"
           }
          ],
          "scatterpolar": [
           {
            "marker": {
             "colorbar": {
              "outlinewidth": 1,
              "tickcolor": "rgb(36,36,36)",
              "ticks": "outside"
             }
            },
            "type": "scatterpolar"
           }
          ],
          "scatterpolargl": [
           {
            "marker": {
             "colorbar": {
              "outlinewidth": 1,
              "tickcolor": "rgb(36,36,36)",
              "ticks": "outside"
             }
            },
            "type": "scatterpolargl"
           }
          ],
          "scatterternary": [
           {
            "marker": {
             "colorbar": {
              "outlinewidth": 1,
              "tickcolor": "rgb(36,36,36)",
              "ticks": "outside"
             }
            },
            "type": "scatterternary"
           }
          ],
          "surface": [
           {
            "colorbar": {
             "outlinewidth": 1,
             "tickcolor": "rgb(36,36,36)",
             "ticks": "outside"
            },
            "colorscale": [
             [
              0,
              "#440154"
             ],
             [
              0.1111111111111111,
              "#482878"
             ],
             [
              0.2222222222222222,
              "#3e4989"
             ],
             [
              0.3333333333333333,
              "#31688e"
             ],
             [
              0.4444444444444444,
              "#26828e"
             ],
             [
              0.5555555555555556,
              "#1f9e89"
             ],
             [
              0.6666666666666666,
              "#35b779"
             ],
             [
              0.7777777777777778,
              "#6ece58"
             ],
             [
              0.8888888888888888,
              "#b5de2b"
             ],
             [
              1,
              "#fde725"
             ]
            ],
            "type": "surface"
           }
          ],
          "table": [
           {
            "cells": {
             "fill": {
              "color": "rgb(237,237,237)"
             },
             "line": {
              "color": "white"
             }
            },
            "header": {
             "fill": {
              "color": "rgb(217,217,217)"
             },
             "line": {
              "color": "white"
             }
            },
            "type": "table"
           }
          ]
         },
         "layout": {
          "annotationdefaults": {
           "arrowhead": 0,
           "arrowwidth": 1
          },
          "autotypenumbers": "strict",
          "coloraxis": {
           "colorbar": {
            "outlinewidth": 1,
            "tickcolor": "rgb(36,36,36)",
            "ticks": "outside"
           }
          },
          "colorscale": {
           "diverging": [
            [
             0,
             "rgb(103,0,31)"
            ],
            [
             0.1,
             "rgb(178,24,43)"
            ],
            [
             0.2,
             "rgb(214,96,77)"
            ],
            [
             0.3,
             "rgb(244,165,130)"
            ],
            [
             0.4,
             "rgb(253,219,199)"
            ],
            [
             0.5,
             "rgb(247,247,247)"
            ],
            [
             0.6,
             "rgb(209,229,240)"
            ],
            [
             0.7,
             "rgb(146,197,222)"
            ],
            [
             0.8,
             "rgb(67,147,195)"
            ],
            [
             0.9,
             "rgb(33,102,172)"
            ],
            [
             1,
             "rgb(5,48,97)"
            ]
           ],
           "sequential": [
            [
             0,
             "#440154"
            ],
            [
             0.1111111111111111,
             "#482878"
            ],
            [
             0.2222222222222222,
             "#3e4989"
            ],
            [
             0.3333333333333333,
             "#31688e"
            ],
            [
             0.4444444444444444,
             "#26828e"
            ],
            [
             0.5555555555555556,
             "#1f9e89"
            ],
            [
             0.6666666666666666,
             "#35b779"
            ],
            [
             0.7777777777777778,
             "#6ece58"
            ],
            [
             0.8888888888888888,
             "#b5de2b"
            ],
            [
             1,
             "#fde725"
            ]
           ],
           "sequentialminus": [
            [
             0,
             "#440154"
            ],
            [
             0.1111111111111111,
             "#482878"
            ],
            [
             0.2222222222222222,
             "#3e4989"
            ],
            [
             0.3333333333333333,
             "#31688e"
            ],
            [
             0.4444444444444444,
             "#26828e"
            ],
            [
             0.5555555555555556,
             "#1f9e89"
            ],
            [
             0.6666666666666666,
             "#35b779"
            ],
            [
             0.7777777777777778,
             "#6ece58"
            ],
            [
             0.8888888888888888,
             "#b5de2b"
            ],
            [
             1,
             "#fde725"
            ]
           ]
          },
          "colorway": [
           "#1F77B4",
           "#FF7F0E",
           "#2CA02C",
           "#D62728",
           "#9467BD",
           "#8C564B",
           "#E377C2",
           "#7F7F7F",
           "#BCBD22",
           "#17BECF"
          ],
          "font": {
           "color": "rgb(36,36,36)"
          },
          "geo": {
           "bgcolor": "white",
           "lakecolor": "white",
           "landcolor": "white",
           "showlakes": true,
           "showland": true,
           "subunitcolor": "white"
          },
          "hoverlabel": {
           "align": "left"
          },
          "hovermode": "closest",
          "mapbox": {
           "style": "light"
          },
          "paper_bgcolor": "white",
          "plot_bgcolor": "white",
          "polar": {
           "angularaxis": {
            "gridcolor": "rgb(232,232,232)",
            "linecolor": "rgb(36,36,36)",
            "showgrid": false,
            "showline": true,
            "ticks": "outside"
           },
           "bgcolor": "white",
           "radialaxis": {
            "gridcolor": "rgb(232,232,232)",
            "linecolor": "rgb(36,36,36)",
            "showgrid": false,
            "showline": true,
            "ticks": "outside"
           }
          },
          "scene": {
           "xaxis": {
            "backgroundcolor": "white",
            "gridcolor": "rgb(232,232,232)",
            "gridwidth": 2,
            "linecolor": "rgb(36,36,36)",
            "showbackground": true,
            "showgrid": false,
            "showline": true,
            "ticks": "outside",
            "zeroline": false,
            "zerolinecolor": "rgb(36,36,36)"
           },
           "yaxis": {
            "backgroundcolor": "white",
            "gridcolor": "rgb(232,232,232)",
            "gridwidth": 2,
            "linecolor": "rgb(36,36,36)",
            "showbackground": true,
            "showgrid": false,
            "showline": true,
            "ticks": "outside",
            "zeroline": false,
            "zerolinecolor": "rgb(36,36,36)"
           },
           "zaxis": {
            "backgroundcolor": "white",
            "gridcolor": "rgb(232,232,232)",
            "gridwidth": 2,
            "linecolor": "rgb(36,36,36)",
            "showbackground": true,
            "showgrid": false,
            "showline": true,
            "ticks": "outside",
            "zeroline": false,
            "zerolinecolor": "rgb(36,36,36)"
           }
          },
          "shapedefaults": {
           "fillcolor": "black",
           "line": {
            "width": 0
           },
           "opacity": 0.3
          },
          "ternary": {
           "aaxis": {
            "gridcolor": "rgb(232,232,232)",
            "linecolor": "rgb(36,36,36)",
            "showgrid": false,
            "showline": true,
            "ticks": "outside"
           },
           "baxis": {
            "gridcolor": "rgb(232,232,232)",
            "linecolor": "rgb(36,36,36)",
            "showgrid": false,
            "showline": true,
            "ticks": "outside"
           },
           "bgcolor": "white",
           "caxis": {
            "gridcolor": "rgb(232,232,232)",
            "linecolor": "rgb(36,36,36)",
            "showgrid": false,
            "showline": true,
            "ticks": "outside"
           }
          },
          "title": {
           "x": 0.05
          },
          "xaxis": {
           "automargin": true,
           "gridcolor": "rgb(232,232,232)",
           "linecolor": "rgb(36,36,36)",
           "showgrid": false,
           "showline": true,
           "ticks": "outside",
           "title": {
            "standoff": 15
           },
           "zeroline": false,
           "zerolinecolor": "rgb(36,36,36)"
          },
          "yaxis": {
           "automargin": true,
           "gridcolor": "rgb(232,232,232)",
           "linecolor": "rgb(36,36,36)",
           "showgrid": false,
           "showline": true,
           "ticks": "outside",
           "title": {
            "standoff": 15
           },
           "zeroline": false,
           "zerolinecolor": "rgb(36,36,36)"
          }
         }
        },
        "title": {
         "text": "Fig 5: Total Emissions for BASE Scenarios (Reference Economic Growth)"
        },
        "xaxis": {
         "title": {
          "text": "Year"
         }
        },
        "yaxis": {
         "title": {
          "text": "CO₂eq (kt)"
         }
        }
       }
      }
     },
     "metadata": {},
     "output_type": "display_data"
    }
   ],
   "source": [
    "\n",
    "# Filter the data\n",
    "fig5_data = df[\n",
    "    (df['ScenarioFamily'] == 'BASE') &\n",
    "    (df['EconomicGrowth'] == 'Reference')\n",
    "]\n",
    "\n",
    "# Aggregate emissions by Scenario and Year\n",
    "fig5_grouped = fig5_data.groupby(['Scenario', 'Year'])['CO2eq'].sum().reset_index()\n",
    "\n",
    "# Create line chart\n",
    "fig5 = go.Figure()\n",
    "\n",
    "for scenario in fig5_grouped['Scenario'].unique():\n",
    "    subset = fig5_grouped[fig5_grouped['Scenario'] == scenario]\n",
    "    fig5.add_trace(go.Scatter(\n",
    "        x=subset['Year'],\n",
    "        y=subset['CO2eq'],\n",
    "        mode='lines',\n",
    "        name=scenario,\n",
    "        line=dict(width=2)\n",
    "    ))\n",
    "\n",
    "# Apply layout\n",
    "fig5.update_layout(\n",
    "    title=\"Fig 5: Total Emissions for BASE Scenarios (Reference Economic Growth)\",\n",
    "    xaxis_title=\"Year\",\n",
    "    yaxis_title=\"CO₂eq (kt)\",\n",
    "    template=\"simple_white\",\n",
    "    font=dict(family=\"Arial\", size=14),\n",
    "    margin=dict(l=60, r=30, t=60, b=60),\n",
    "    legend=dict(orientation=\"h\", yanchor=\"bottom\", y=-0.3, xanchor=\"center\", x=0.5)\n",
    ")\n",
    "\n",
    "fig5.show()"
   ]
  },
  {
   "cell_type": "code",
   "execution_count": null,
   "id": "1d960c34",
   "metadata": {},
   "outputs": [],
   "source": [
    "\n",
    "# # some results for joseph to look at for pulp and paper\n",
    "\n",
    "# scen_list= [ 'NDC_BASE-RG',\n",
    "#             'NDC_BASE-08-RG',\n",
    "#             'NDC_CPP1-RG',\n",
    "#             'NDC_CPP4-RG',\n",
    "#             'NDC_CPP4-08-HG'\n",
    "# ]\n",
    "\n",
    "\n",
    "# df_forJM = report_df[report_df['Scenario'].isin(scen_list)]\n",
    "\n",
    "# df_forJM['Scenario'].unique()\n",
    "\n",
    "# #write\n",
    "\n",
    "# df_forJM.to_csv(\"C:/Models/REPORT00_forJoe.csv\")"
   ]
  },
  {
   "cell_type": "code",
   "execution_count": null,
   "id": "e6d7b428",
   "metadata": {},
   "outputs": [],
   "source": []
  }
 ],
 "metadata": {
  "kernelspec": {
   "display_name": "Python 3",
   "language": "python",
   "name": "python3"
  },
  "language_info": {
   "codemirror_mode": {
    "name": "ipython",
    "version": 3
   },
   "file_extension": ".py",
   "mimetype": "text/x-python",
   "name": "python",
   "nbconvert_exporter": "python",
   "pygments_lexer": "ipython3",
   "version": "3.13.0"
  }
 },
 "nbformat": 4,
 "nbformat_minor": 5
}
