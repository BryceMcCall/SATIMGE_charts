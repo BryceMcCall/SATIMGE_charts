{
 "cells": [
  {
   "cell_type": "code",
   "execution_count": null,
   "id": "8035bf9f",
   "metadata": {},
   "outputs": [],
   "source": [
    "import pandas as pd\n",
    "\n",
    "df = pd.read_csv(\"data/processed/processed_dataset.csv\")\n",
    "\n",
    "# 1) See all column names\n",
    "print(\"Columns:\", df.columns.tolist())\n",
    "\n",
    "# 2) Peek at the first few rows\n",
    "print(df.head().to_string())\n",
    "\n",
    "# 3) List all unique Scenario strings\n",
    "print(\"Unique scenarios:\", df[\"Scenario\"].unique().tolist())\n"
   ]
  }
 ],
 "metadata": {
  "language_info": {
   "name": "python"
  }
 },
 "nbformat": 4,
 "nbformat_minor": 5
}
